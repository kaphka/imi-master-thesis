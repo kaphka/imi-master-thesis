{
 "cells": [
  {
   "cell_type": "code",
   "execution_count": 89,
   "metadata": {},
   "outputs": [],
   "source": [
    "%matplotlib inline\n",
    "import matplotlib.pyplot as plt"
   ]
  },
  {
   "cell_type": "code",
   "execution_count": 49,
   "metadata": {},
   "outputs": [],
   "source": [
    "import numpy as np\n",
    "import numpy.matlib\n",
    "\n",
    "import torch\n",
    "if torch.cuda.is_available():\n",
    "    import torch.cuda as t\n",
    "else:\n",
    "    import torch as t\n",
    "    \n",
    "from   torch.autograd import Variable\n",
    "import torch.nn as nn\n",
    "import torch.nn.functional as F\n",
    "\n",
    "import torch.optim as optim\n",
    "import torchvision\n",
    "import torchvision.transforms as transforms\n",
    "from collections import namedtuple"
   ]
  },
  {
   "cell_type": "code",
   "execution_count": 198,
   "metadata": {},
   "outputs": [],
   "source": [
    "from PIL import Image"
   ]
  },
  {
   "cell_type": "code",
   "execution_count": 25,
   "metadata": {},
   "outputs": [],
   "source": [
    "import json, os\n",
    "from pathlib import Path\n",
    "\n",
    "config = json.load(open(os.path.expanduser(\"~/.thesis.conf\")))\n",
    "root = Path(config['datasets']) / Path(\"MNIST/\") \n",
    "transform = transforms.Compose(\n",
    "    [transforms.ToTensor(),\n",
    "     transforms.Normalize((0.5, 0.5, 0.5), (0.5, 0.5, 0.5))\n",
    "    ])\n",
    "mnist_set = torchvision.datasets.MNIST(str(root),train=True, download=True, transform=transform)\n",
    "trainloader = torch.utils.data.DataLoader(mnist_set, batch_size=64,\n",
    "                                          shuffle=True, num_workers=2)\n"
   ]
  },
  {
   "cell_type": "code",
   "execution_count": 21,
   "metadata": {},
   "outputs": [],
   "source": [
    "size = 5\n",
    "X = np.matlib.randn((size,size))"
   ]
  },
  {
   "cell_type": "code",
   "execution_count": 48,
   "metadata": {},
   "outputs": [
    {
     "data": {
      "text/plain": [
       "0.7633579247958588"
      ]
     },
     "execution_count": 48,
     "metadata": {},
     "output_type": "execute_result"
    }
   ],
   "source": [
    "rnd = np.random.RandomState(seed=123123123)\n",
    "rnd.random_sample()"
   ]
  },
  {
   "cell_type": "code",
   "execution_count": 43,
   "metadata": {},
   "outputs": [],
   "source": [
    "for i, data in enumerate(trainloader, 0):\n",
    "#     print(i)\n",
    "    pass"
   ]
  },
  {
   "cell_type": "code",
   "execution_count": 31,
   "metadata": {},
   "outputs": [],
   "source": [
    "inputs, labels = data"
   ]
  },
  {
   "cell_type": "code",
   "execution_count": 153,
   "metadata": {},
   "outputs": [],
   "source": [
    "\n",
    "rot = lambda x, alpha: x + alpha, [-5,5] \n",
    "col = lambda x, alpha: x * alpha, [1,5] \n"
   ]
  },
  {
   "cell_type": "code",
   "execution_count": 149,
   "metadata": {},
   "outputs": [],
   "source": []
  },
  {
   "cell_type": "code",
   "execution_count": 197,
   "metadata": {},
   "outputs": [
    {
     "name": "stdout",
     "output_type": "stream",
     "text": [
      "<function <lambda> at 0x11d1df730> -4.621440262934099\n",
      "<function <lambda> at 0x11d1df2f0> 3.362182672301938\n",
      "<function <lambda> at 0x11d1df730> -2.821863018417842\n"
     ]
    },
    {
     "data": {
      "text/plain": [
       "<matplotlib.image.AxesImage at 0x11d516668>"
      ]
     },
     "execution_count": 197,
     "metadata": {},
     "output_type": "execute_result"
    },
    {
     "data": {
      "image/png": "[encoded data removed]",
      "text/plain": [
       "<matplotlib.figure.Figure at 0x11d4efcf8>"
      ]
     },
     "metadata": {},
     "output_type": "display_data"
    }
   ],
   "source": [
    "def scale(sample, scale):\n",
    "    return (scale[1] - scale[0]) * sample + scale[0]\n",
    "\n",
    "def create_transform_vector(transforms, K):\n",
    "    rnd = np.random.RandomState()\n",
    "    return [(T, scale(rnd.random_sample(), alpha_scale)) for T, alpha_scale in transforms]\n",
    "        \n",
    "def apply(t_vec, x):\n",
    "    it = iter(t_vec)\n",
    "    f, alpha = next(it)\n",
    "    t_a = f(x, alpha)\n",
    "    print(f,alpha)\n",
    "    for f, alpha in it:\n",
    "        print(f,alpha)\n",
    "        t_a = f(x, alpha)\n",
    "    return t_a\n",
    "#     while it.\n",
    "\n",
    "t = create_transform_vector([rot, col, rot], 10)\n",
    "plt.imshow(apply(t,inputs[0,0,...]),'gray')"
   ]
  },
  {
   "cell_type": "code",
   "execution_count": 199,
   "metadata": {},
   "outputs": [
    {
     "data": {
      "text/plain": [
       "\n",
       "\n",
       "Columns 0 to 9 \n",
       "-1.0000 -1.0000 -1.0000 -1.0000 -1.0000 -1.0000 -1.0000 -1.0000 -1.0000 -1.0000\n",
       "-1.0000 -1.0000 -1.0000 -1.0000 -1.0000 -1.0000 -1.0000 -1.0000 -1.0000 -1.0000\n",
       "-1.0000 -1.0000 -1.0000 -1.0000 -1.0000 -1.0000 -1.0000 -1.0000 -1.0000 -1.0000\n",
       "-1.0000 -1.0000 -1.0000 -1.0000 -1.0000 -1.0000 -1.0000 -1.0000 -1.0000 -1.0000\n",
       "-1.0000 -1.0000 -1.0000 -1.0000 -1.0000 -1.0000 -1.0000 -1.0000 -1.0000 -1.0000\n",
       "-1.0000 -1.0000 -1.0000 -1.0000 -1.0000 -1.0000 -1.0000 -1.0000 -1.0000 -1.0000\n",
       "-1.0000 -1.0000 -1.0000 -1.0000 -1.0000 -1.0000 -1.0000 -1.0000 -1.0000 -1.0000\n",
       "-1.0000 -1.0000 -1.0000 -1.0000 -1.0000 -1.0000 -1.0000 -1.0000 -1.0000 -1.0000\n",
       "-1.0000 -1.0000 -1.0000 -1.0000 -1.0000 -1.0000 -1.0000 -1.0000 -1.0000 -1.0000\n",
       "-1.0000 -1.0000 -1.0000 -1.0000 -1.0000 -1.0000 -1.0000 -1.0000 -1.0000 -1.0000\n",
       "-1.0000 -1.0000 -1.0000 -1.0000 -1.0000 -1.0000 -1.0000 -1.0000 -1.0000 -1.0000\n",
       "-1.0000 -1.0000 -1.0000 -1.0000 -1.0000 -1.0000 -1.0000 -1.0000 -1.0000 -1.0000\n",
       "-1.0000 -1.0000 -1.0000 -1.0000 -1.0000 -1.0000 -1.0000 -1.0000 -1.0000 -1.0000\n",
       "-1.0000 -1.0000 -1.0000 -1.0000 -1.0000 -1.0000 -1.0000 -1.0000 -1.0000 -1.0000\n",
       "-1.0000 -1.0000 -1.0000 -1.0000 -1.0000 -1.0000 -1.0000 -1.0000 -1.0000 -1.0000\n",
       "-1.0000 -1.0000 -1.0000 -1.0000 -1.0000 -1.0000 -1.0000 -1.0000 -1.0000 -1.0000\n",
       "-1.0000 -1.0000 -1.0000 -1.0000 -1.0000 -1.0000 -1.0000 -1.0000 -1.0000 -1.0000\n",
       "-1.0000 -1.0000 -1.0000 -1.0000 -1.0000 -1.0000 -1.0000 -1.0000 -1.0000 -1.0000\n",
       "-1.0000 -1.0000 -1.0000 -1.0000 -1.0000 -1.0000 -1.0000 -1.0000 -1.0000 -1.0000\n",
       "-1.0000 -1.0000 -1.0000 -1.0000 -1.0000 -1.0000 -1.0000 -1.0000 -1.0000 -1.0000\n",
       "-1.0000 -1.0000 -1.0000 -1.0000 -1.0000 -1.0000 -1.0000 -1.0000 -1.0000 -1.0000\n",
       "-1.0000 -1.0000 -1.0000 -1.0000 -1.0000 -1.0000 -1.0000 -1.0000 -1.0000 -1.0000\n",
       "-1.0000 -1.0000 -1.0000 -1.0000 -1.0000 -1.0000 -1.0000 -1.0000 -1.0000 -1.0000\n",
       "-1.0000 -1.0000 -1.0000 -1.0000 -1.0000 -1.0000 -1.0000 -1.0000 -1.0000 -1.0000\n",
       "-1.0000 -1.0000 -1.0000 -1.0000 -1.0000 -1.0000 -1.0000 -1.0000 -1.0000 -1.0000\n",
       "-1.0000 -1.0000 -1.0000 -1.0000 -1.0000 -1.0000 -1.0000 -1.0000 -1.0000 -1.0000\n",
       "-1.0000 -1.0000 -1.0000 -1.0000 -1.0000 -1.0000 -1.0000 -1.0000 -1.0000 -1.0000\n",
       "-1.0000 -1.0000 -1.0000 -1.0000 -1.0000 -1.0000 -1.0000 -1.0000 -1.0000 -1.0000\n",
       "\n",
       "Columns 10 to 19 \n",
       "-1.0000 -1.0000 -1.0000 -1.0000 -1.0000 -1.0000 -1.0000 -1.0000 -1.0000 -1.0000\n",
       "-1.0000 -1.0000 -1.0000 -1.0000 -1.0000 -1.0000 -1.0000 -1.0000 -1.0000 -1.0000\n",
       "-1.0000 -1.0000 -1.0000 -1.0000 -1.0000 -1.0000 -1.0000 -1.0000 -1.0000 -1.0000\n",
       "-1.0000 -1.0000 -1.0000 -1.0000 -1.0000 -1.0000 -1.0000 -1.0000 -1.0000 -1.0000\n",
       "-1.0000 -1.0000 -1.0000 -1.0000 -1.0000 -1.0000 -0.3804  1.0000 -0.6627 -1.0000\n",
       "-1.0000 -1.0000 -1.0000 -1.0000 -1.0000 -1.0000  0.5608  0.9843 -0.6627 -1.0000\n",
       "-1.0000 -1.0000 -1.0000 -1.0000 -1.0000 -0.6235  0.7961  0.9843 -0.6627 -1.0000\n",
       "-1.0000 -1.0000 -1.0000 -1.0000 -1.0000  0.5059  0.9843  0.9843 -0.6627 -1.0000\n",
       "-1.0000 -1.0000 -1.0000 -1.0000 -0.6941  0.8039  0.9843  0.9059 -0.7020 -1.0000\n",
       "-1.0000 -1.0000 -1.0000 -1.0000 -0.3647  0.9843  0.9843  0.2078 -1.0000 -1.0000\n",
       "-1.0000 -1.0000 -1.0000 -0.9216  0.5529  0.9843  0.8824 -0.6784 -1.0000 -1.0000\n",
       "-1.0000 -1.0000 -1.0000 -0.5608  0.9843  0.9843  0.4039 -1.0000 -1.0000 -1.0000\n",
       "-1.0000 -1.0000 -1.0000 -0.5608  0.9843  0.9843  0.4039 -1.0000 -1.0000 -1.0000\n",
       "-1.0000 -1.0000 -1.0000 -0.3176  0.9843  0.9843 -0.3098 -1.0000 -1.0000 -1.0000\n",
       "-1.0000 -1.0000 -0.8902  0.5686  0.9843  0.8431 -0.6863 -1.0000 -1.0000 -1.0000\n",
       "-1.0000 -1.0000 -0.3176  0.9843  0.9843 -0.3098 -1.0000 -1.0000 -1.0000 -1.0000\n",
       "-1.0000 -1.0000  0.3647  0.9843  0.8275 -0.6706 -1.0000 -1.0000 -1.0000 -1.0000\n",
       "-1.0000 -1.0000  0.3647  0.9843  0.4980 -1.0000 -1.0000 -1.0000 -1.0000 -1.0000\n",
       "-1.0000 -0.8667  0.5922  0.9843  0.4980 -1.0000 -1.0000 -1.0000 -1.0000 -1.0000\n",
       "-1.0000 -0.6549  0.9843  0.9843  0.0196 -1.0000 -1.0000 -1.0000 -1.0000 -1.0000\n",
       "-1.0000 -0.6549  0.9843  0.9843  0.4980 -1.0000 -1.0000 -1.0000 -1.0000 -1.0000\n",
       "-1.0000 -0.6549  0.9843  0.9843  0.4980 -1.0000 -1.0000 -1.0000 -1.0000 -1.0000\n",
       "-1.0000 -0.6549  0.9843  0.9843  0.4980 -1.0000 -1.0000 -1.0000 -1.0000 -1.0000\n",
       "-1.0000 -0.6549  0.9843  0.9843 -0.4510 -1.0000 -1.0000 -1.0000 -1.0000 -1.0000\n",
       "-1.0000 -1.0000 -1.0000 -1.0000 -1.0000 -1.0000 -1.0000 -1.0000 -1.0000 -1.0000\n",
       "-1.0000 -1.0000 -1.0000 -1.0000 -1.0000 -1.0000 -1.0000 -1.0000 -1.0000 -1.0000\n",
       "-1.0000 -1.0000 -1.0000 -1.0000 -1.0000 -1.0000 -1.0000 -1.0000 -1.0000 -1.0000\n",
       "-1.0000 -1.0000 -1.0000 -1.0000 -1.0000 -1.0000 -1.0000 -1.0000 -1.0000 -1.0000\n",
       "\n",
       "Columns 20 to 27 \n",
       "-1.0000 -1.0000 -1.0000 -1.0000 -1.0000 -1.0000 -1.0000 -1.0000\n",
       "-1.0000 -1.0000 -1.0000 -1.0000 -1.0000 -1.0000 -1.0000 -1.0000\n",
       "-1.0000 -1.0000 -1.0000 -1.0000 -1.0000 -1.0000 -1.0000 -1.0000\n",
       "-1.0000 -1.0000 -1.0000 -1.0000 -1.0000 -1.0000 -1.0000 -1.0000\n",
       "-1.0000 -1.0000 -1.0000 -1.0000 -1.0000 -1.0000 -1.0000 -1.0000\n",
       "-1.0000 -1.0000 -1.0000 -1.0000 -1.0000 -1.0000 -1.0000 -1.0000\n",
       "-1.0000 -1.0000 -1.0000 -1.0000 -1.0000 -1.0000 -1.0000 -1.0000\n",
       "-1.0000 -1.0000 -1.0000 -1.0000 -1.0000 -1.0000 -1.0000 -1.0000\n",
       "-1.0000 -1.0000 -1.0000 -1.0000 -1.0000 -1.0000 -1.0000 -1.0000\n",
       "-1.0000 -1.0000 -1.0000 -1.0000 -1.0000 -1.0000 -1.0000 -1.0000\n",
       "-1.0000 -1.0000 -1.0000 -1.0000 -1.0000 -1.0000 -1.0000 -1.0000\n",
       "-1.0000 -1.0000 -1.0000 -1.0000 -1.0000 -1.0000 -1.0000 -1.0000\n",
       "-1.0000 -1.0000 -1.0000 -1.0000 -1.0000 -1.0000 -1.0000 -1.0000\n",
       "-1.0000 -1.0000 -1.0000 -1.0000 -1.0000 -1.0000 -1.0000 -1.0000\n",
       "-1.0000 -1.0000 -1.0000 -1.0000 -1.0000 -1.0000 -1.0000 -1.0000\n",
       "-1.0000 -1.0000 -1.0000 -1.0000 -1.0000 -1.0000 -1.0000 -1.0000\n",
       "-1.0000 -1.0000 -1.0000 -1.0000 -1.0000 -1.0000 -1.0000 -1.0000\n",
       "-1.0000 -1.0000 -1.0000 -1.0000 -1.0000 -1.0000 -1.0000 -1.0000\n",
       "-1.0000 -1.0000 -1.0000 -1.0000 -1.0000 -1.0000 -1.0000 -1.0000\n",
       "-1.0000 -1.0000 -1.0000 -1.0000 -1.0000 -1.0000 -1.0000 -1.0000\n",
       "-1.0000 -1.0000 -1.0000 -1.0000 -1.0000 -1.0000 -1.0000 -1.0000\n",
       "-1.0000 -1.0000 -1.0000 -1.0000 -1.0000 -1.0000 -1.0000 -1.0000\n",
       "-1.0000 -1.0000 -1.0000 -1.0000 -1.0000 -1.0000 -1.0000 -1.0000\n",
       "-1.0000 -1.0000 -1.0000 -1.0000 -1.0000 -1.0000 -1.0000 -1.0000\n",
       "-1.0000 -1.0000 -1.0000 -1.0000 -1.0000 -1.0000 -1.0000 -1.0000\n",
       "-1.0000 -1.0000 -1.0000 -1.0000 -1.0000 -1.0000 -1.0000 -1.0000\n",
       "-1.0000 -1.0000 -1.0000 -1.0000 -1.0000 -1.0000 -1.0000 -1.0000\n",
       "-1.0000 -1.0000 -1.0000 -1.0000 -1.0000 -1.0000 -1.0000 -1.0000\n",
       "[torch.FloatTensor of size 28x28]"
      ]
     },
     "execution_count": 199,
     "metadata": {},
     "output_type": "execute_result"
    }
   ],
   "source": [
    "Image.inputs[0,0,...]"
   ]
  },
  {
   "cell_type": "code",
   "execution_count": 120,
   "metadata": {},
   "outputs": [
    {
     "data": {
      "text/plain": [
       "\n",
       "(0 ,0 ,.,.) = \n",
       "  1.4610  1.4610  1.4610  ...   1.4610  1.4610  1.4610\n",
       "  1.4610  1.4610  1.4610  ...   1.4610  1.4610  1.4610\n",
       "  1.4610  1.4610  1.4610  ...   1.4610  1.4610  1.4610\n",
       "           ...             ⋱             ...          \n",
       "  1.4610  1.4610  1.4610  ...   1.4610  1.4610  1.4610\n",
       "  1.4610  1.4610  1.4610  ...   1.4610  1.4610  1.4610\n",
       "  1.4610  1.4610  1.4610  ...   1.4610  1.4610  1.4610\n",
       "     ⋮ \n",
       "\n",
       "(1 ,0 ,.,.) = \n",
       "  1.4610  1.4610  1.4610  ...   1.4610  1.4610  1.4610\n",
       "  1.4610  1.4610  1.4610  ...   1.4610  1.4610  1.4610\n",
       "  1.4610  1.4610  1.4610  ...   1.4610  1.4610  1.4610\n",
       "           ...             ⋱             ...          \n",
       "  1.4610  1.4610  1.4610  ...   1.4610  1.4610  1.4610\n",
       "  1.4610  1.4610  1.4610  ...   1.4610  1.4610  1.4610\n",
       "  1.4610  1.4610  1.4610  ...   1.4610  1.4610  1.4610\n",
       "     ⋮ \n",
       "\n",
       "(2 ,0 ,.,.) = \n",
       "  1.4610  1.4610  1.4610  ...   1.4610  1.4610  1.4610\n",
       "  1.4610  1.4610  1.4610  ...   1.4610  1.4610  1.4610\n",
       "  1.4610  1.4610  1.4610  ...   1.4610  1.4610  1.4610\n",
       "           ...             ⋱             ...          \n",
       "  1.4610  1.4610  1.4610  ...   1.4610  1.4610  1.4610\n",
       "  1.4610  1.4610  1.4610  ...   1.4610  1.4610  1.4610\n",
       "  1.4610  1.4610  1.4610  ...   1.4610  1.4610  1.4610\n",
       "...   \n",
       "     ⋮ \n",
       "\n",
       "(29,0 ,.,.) = \n",
       "  1.4610  1.4610  1.4610  ...   1.4610  1.4610  1.4610\n",
       "  1.4610  1.4610  1.4610  ...   1.4610  1.4610  1.4610\n",
       "  1.4610  1.4610  1.4610  ...   1.4610  1.4610  1.4610\n",
       "           ...             ⋱             ...          \n",
       "  1.4610  1.4610  1.4610  ...   1.4610  1.4610  1.4610\n",
       "  1.4610  1.4610  1.4610  ...   1.4610  1.4610  1.4610\n",
       "  1.4610  1.4610  1.4610  ...   1.4610  1.4610  1.4610\n",
       "     ⋮ \n",
       "\n",
       "(30,0 ,.,.) = \n",
       "  1.4610  1.4610  1.4610  ...   1.4610  1.4610  1.4610\n",
       "  1.4610  1.4610  1.4610  ...   1.4610  1.4610  1.4610\n",
       "  1.4610  1.4610  1.4610  ...   1.4610  1.4610  1.4610\n",
       "           ...             ⋱             ...          \n",
       "  1.4610  1.4610  1.4610  ...   1.4610  1.4610  1.4610\n",
       "  1.4610  1.4610  1.4610  ...   1.4610  1.4610  1.4610\n",
       "  1.4610  1.4610  1.4610  ...   1.4610  1.4610  1.4610\n",
       "     ⋮ \n",
       "\n",
       "(31,0 ,.,.) = \n",
       "  1.4610  1.4610  1.4610  ...   1.4610  1.4610  1.4610\n",
       "  1.4610  1.4610  1.4610  ...   1.4610  1.4610  1.4610\n",
       "  1.4610  1.4610  1.4610  ...   1.4610  1.4610  1.4610\n",
       "           ...             ⋱             ...          \n",
       "  1.4610  1.4610  1.4610  ...   1.4610  1.4610  1.4610\n",
       "  1.4610  1.4610  1.4610  ...   1.4610  1.4610  1.4610\n",
       "  1.4610  1.4610  1.4610  ...   1.4610  1.4610  1.4610\n",
       "[torch.FloatTensor of size 32x1x28x28]"
      ]
     },
     "execution_count": 120,
     "metadata": {},
     "output_type": "execute_result"
    }
   ],
   "source": [
    "T(inputs)"
   ]
  },
  {
   "cell_type": "code",
   "execution_count": 66,
   "metadata": {},
   "outputs": [],
   "source": [
    "grad = nn.Conv1d(1,1,kernel_size=3,bias=False)"
   ]
  },
  {
   "cell_type": "code",
   "execution_count": 77,
   "metadata": {},
   "outputs": [],
   "source": [
    "grad.weight.data = t.FloatTensor([[[-1,0,1]]])"
   ]
  },
  {
   "cell_type": "code",
   "execution_count": 79,
   "metadata": {},
   "outputs": [
    {
     "ename": "ValueError",
     "evalue": "Expected 3D tensor as input, got 4D tensor instead.",
     "output_type": "error",
     "traceback": [
      "\u001b[0;31m---------------------------------------------------------------------------\u001b[0m",
      "\u001b[0;31mValueError\u001b[0m                                Traceback (most recent call last)",
      "\u001b[0;32m<ipython-input-79-fa5115cd09c4>\u001b[0m in \u001b[0;36m<module>\u001b[0;34m()\u001b[0m\n\u001b[0;32m----> 1\u001b[0;31m \u001b[0mgrad\u001b[0m\u001b[0;34m(\u001b[0m\u001b[0mVariable\u001b[0m\u001b[0;34m(\u001b[0m\u001b[0minputs\u001b[0m\u001b[0;34m)\u001b[0m\u001b[0;34m)\u001b[0m\u001b[0;34m\u001b[0m\u001b[0m\n\u001b[0m",
      "\u001b[0;32m/Users/jschmolling/anaconda/envs/ml-software/lib/python3.5/site-packages/torch/nn/modules/module.py\u001b[0m in \u001b[0;36m__call__\u001b[0;34m(self, *input, **kwargs)\u001b[0m\n\u001b[1;32m    355\u001b[0m             \u001b[0mresult\u001b[0m \u001b[0;34m=\u001b[0m \u001b[0mself\u001b[0m\u001b[0;34m.\u001b[0m\u001b[0m_slow_forward\u001b[0m\u001b[0;34m(\u001b[0m\u001b[0;34m*\u001b[0m\u001b[0minput\u001b[0m\u001b[0;34m,\u001b[0m \u001b[0;34m**\u001b[0m\u001b[0mkwargs\u001b[0m\u001b[0;34m)\u001b[0m\u001b[0;34m\u001b[0m\u001b[0m\n\u001b[1;32m    356\u001b[0m         \u001b[0;32melse\u001b[0m\u001b[0;34m:\u001b[0m\u001b[0;34m\u001b[0m\u001b[0m\n\u001b[0;32m--> 357\u001b[0;31m             \u001b[0mresult\u001b[0m \u001b[0;34m=\u001b[0m \u001b[0mself\u001b[0m\u001b[0;34m.\u001b[0m\u001b[0mforward\u001b[0m\u001b[0;34m(\u001b[0m\u001b[0;34m*\u001b[0m\u001b[0minput\u001b[0m\u001b[0;34m,\u001b[0m \u001b[0;34m**\u001b[0m\u001b[0mkwargs\u001b[0m\u001b[0;34m)\u001b[0m\u001b[0;34m\u001b[0m\u001b[0m\n\u001b[0m\u001b[1;32m    358\u001b[0m         \u001b[0;32mfor\u001b[0m \u001b[0mhook\u001b[0m \u001b[0;32min\u001b[0m \u001b[0mself\u001b[0m\u001b[0;34m.\u001b[0m\u001b[0m_forward_hooks\u001b[0m\u001b[0;34m.\u001b[0m\u001b[0mvalues\u001b[0m\u001b[0;34m(\u001b[0m\u001b[0;34m)\u001b[0m\u001b[0;34m:\u001b[0m\u001b[0;34m\u001b[0m\u001b[0m\n\u001b[1;32m    359\u001b[0m             \u001b[0mhook_result\u001b[0m \u001b[0;34m=\u001b[0m \u001b[0mhook\u001b[0m\u001b[0;34m(\u001b[0m\u001b[0mself\u001b[0m\u001b[0;34m,\u001b[0m \u001b[0minput\u001b[0m\u001b[0;34m,\u001b[0m \u001b[0mresult\u001b[0m\u001b[0;34m)\u001b[0m\u001b[0;34m\u001b[0m\u001b[0m\n",
      "\u001b[0;32m/Users/jschmolling/anaconda/envs/ml-software/lib/python3.5/site-packages/torch/nn/modules/conv.py\u001b[0m in \u001b[0;36mforward\u001b[0;34m(self, input)\u001b[0m\n\u001b[1;32m    166\u001b[0m     \u001b[0;32mdef\u001b[0m \u001b[0mforward\u001b[0m\u001b[0;34m(\u001b[0m\u001b[0mself\u001b[0m\u001b[0;34m,\u001b[0m \u001b[0minput\u001b[0m\u001b[0;34m)\u001b[0m\u001b[0;34m:\u001b[0m\u001b[0;34m\u001b[0m\u001b[0m\n\u001b[1;32m    167\u001b[0m         return F.conv1d(input, self.weight, self.bias, self.stride,\n\u001b[0;32m--> 168\u001b[0;31m                         self.padding, self.dilation, self.groups)\n\u001b[0m\u001b[1;32m    169\u001b[0m \u001b[0;34m\u001b[0m\u001b[0m\n\u001b[1;32m    170\u001b[0m \u001b[0;34m\u001b[0m\u001b[0m\n",
      "\u001b[0;32m/Users/jschmolling/anaconda/envs/ml-software/lib/python3.5/site-packages/torch/nn/functional.py\u001b[0m in \u001b[0;36mconv1d\u001b[0;34m(input, weight, bias, stride, padding, dilation, groups)\u001b[0m\n\u001b[1;32m     47\u001b[0m     \"\"\"\n\u001b[1;32m     48\u001b[0m     \u001b[0;32mif\u001b[0m \u001b[0minput\u001b[0m \u001b[0;32mis\u001b[0m \u001b[0;32mnot\u001b[0m \u001b[0;32mNone\u001b[0m \u001b[0;32mand\u001b[0m \u001b[0minput\u001b[0m\u001b[0;34m.\u001b[0m\u001b[0mdim\u001b[0m\u001b[0;34m(\u001b[0m\u001b[0;34m)\u001b[0m \u001b[0;34m!=\u001b[0m \u001b[0;36m3\u001b[0m\u001b[0;34m:\u001b[0m\u001b[0;34m\u001b[0m\u001b[0m\n\u001b[0;32m---> 49\u001b[0;31m         \u001b[0;32mraise\u001b[0m \u001b[0mValueError\u001b[0m\u001b[0;34m(\u001b[0m\u001b[0;34m\"Expected 3D tensor as input, got {}D tensor instead.\"\u001b[0m\u001b[0;34m.\u001b[0m\u001b[0mformat\u001b[0m\u001b[0;34m(\u001b[0m\u001b[0minput\u001b[0m\u001b[0;34m.\u001b[0m\u001b[0mdim\u001b[0m\u001b[0;34m(\u001b[0m\u001b[0;34m)\u001b[0m\u001b[0;34m)\u001b[0m\u001b[0;34m)\u001b[0m\u001b[0;34m\u001b[0m\u001b[0m\n\u001b[0m\u001b[1;32m     50\u001b[0m \u001b[0;34m\u001b[0m\u001b[0m\n\u001b[1;32m     51\u001b[0m     f = _ConvNd(_single(stride), _single(padding), _single(dilation), False,\n",
      "\u001b[0;31mValueError\u001b[0m: Expected 3D tensor as input, got 4D tensor instead."
     ]
    }
   ],
   "source": [
    "grad(Variable(inputs))"
   ]
  },
  {
   "cell_type": "code",
   "execution_count": 102,
   "metadata": {},
   "outputs": [
    {
     "data": {
      "text/plain": [
       "<matplotlib.image.AxesImage at 0x11c32be10>"
      ]
     },
     "execution_count": 102,
     "metadata": {},
     "output_type": "execute_result"
    },
    {
     "data": {
      "image/png": "[encoded data removed]",
      "text/plain": [
       "<matplotlib.figure.Figure at 0x11c0238d0>"
      ]
     },
     "metadata": {},
     "output_type": "display_data"
    }
   ],
   "source": [
    "plt.imshow(inputs[10,0],'gray')"
   ]
  },
  {
   "cell_type": "code",
   "execution_count": 104,
   "metadata": {},
   "outputs": [
    {
     "data": {
      "text/plain": [
       "<matplotlib.image.AxesImage at 0x11c6895c0>"
      ]
     },
     "execution_count": 104,
     "metadata": {},
     "output_type": "execute_result"
    },
    {
     "data": {
      "image/png": "[encoded data removed]",
      "text/plain": [
       "<matplotlib.figure.Figure at 0x11c644390>"
      ]
     },
     "metadata": {},
     "output_type": "display_data"
    }
   ],
   "source": [
    "plt.imshow(inputs[10,0,:,1:]-inputs[10,0,:,:-1] * 100,'gray')"
   ]
  },
  {
   "cell_type": "code",
   "execution_count": 108,
   "metadata": {},
   "outputs": [
    {
     "data": {
      "text/plain": [
       "<matplotlib.image.AxesImage at 0x11d1b39e8>"
      ]
     },
     "execution_count": 108,
     "metadata": {},
     "output_type": "execute_result"
    },
    {
     "data": {
      "image/png": "[encoded data removed]",
      "text/plain": [
       "<matplotlib.figure.Figure at 0x11c788b70>"
      ]
     },
     "metadata": {},
     "output_type": "display_data"
    }
   ],
   "source": [
    "dx = inputs[10,0,1:,1:]-inputs[10,0,:-1,:-1]\n",
    "dy = inputs[10,0,1:,1:]-inputs[10,0,:-1,:-1]\n",
    "grad = np.sqrt(np.add(np.power(dx,2), np.power(dy,2)))\n",
    "plt.imshow(grad,'gray')"
   ]
  },
  {
   "cell_type": "code",
   "execution_count": 114,
   "metadata": {},
   "outputs": [
    {
     "data": {
      "text/plain": [
       "0.14492028648476976"
      ]
     },
     "execution_count": 114,
     "metadata": {},
     "output_type": "execute_result"
    }
   ],
   "source": [
    "t.mean(grad) ** 2"
   ]
  },
  {
   "cell_type": "code",
   "execution_count": null,
   "metadata": {},
   "outputs": [],
   "source": []
  }
 ],
 "metadata": {
  "kernelspec": {
   "display_name": "Python 3",
   "language": "python",
   "name": "python3"
  },
  "language_info": {
   "codemirror_mode": {
    "name": "ipython",
    "version": 3
   },
   "file_extension": ".py",
   "mimetype": "text/x-python",
   "name": "python",
   "nbconvert_exporter": "python",
   "pygments_lexer": "ipython3",
   "version": "3.5.1"
  }
 },
 "nbformat": 4,
 "nbformat_minor": 2
}
