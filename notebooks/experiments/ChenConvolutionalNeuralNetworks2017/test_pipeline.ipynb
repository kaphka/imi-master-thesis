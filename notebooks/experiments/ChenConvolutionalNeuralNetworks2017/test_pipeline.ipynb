{
 "cells": [
  {
   "cell_type": "code",
   "execution_count": 4,
   "metadata": {},
   "outputs": [],
   "source": [
    "%matplotlib inline\n",
    "%load_ext autoreload\n",
    "%autoreload 2"
   ]
  },
  {
   "cell_type": "code",
   "execution_count": 5,
   "metadata": {},
   "outputs": [],
   "source": [
    "import sys\n",
    "sys.path.append('../../../src/')"
   ]
  },
  {
   "cell_type": "code",
   "execution_count": 6,
   "metadata": {},
   "outputs": [],
   "source": [
    "import numpy as np\n",
    "from PIL import Image"
   ]
  },
  {
   "cell_type": "code",
   "execution_count": 7,
   "metadata": {},
   "outputs": [],
   "source": [
    "import matplotlib.pyplot as plt"
   ]
  },
  {
   "cell_type": "code",
   "execution_count": 8,
   "metadata": {},
   "outputs": [],
   "source": [
    "from models.chen2017.transforms import *\n",
    "import datasets.divahisdb as diva\n",
    "import experiment.data as exd\n",
    "from datasets.array import Tiles\n",
    "import math\n",
    "import torch"
   ]
  },
  {
   "cell_type": "code",
   "execution_count": 9,
   "metadata": {},
   "outputs": [],
   "source": [
    "env = exd.Environment()"
   ]
  },
  {
   "cell_type": "code",
   "execution_count": 11,
   "metadata": {},
   "outputs": [],
   "source": [
    "diva_dataset = diva.HisDBDataset(env.dataset('DIVA-HisDB'),gt=True)"
   ]
  },
  {
   "cell_type": "code",
   "execution_count": 12,
   "metadata": {},
   "outputs": [],
   "source": [
    "tile_data = Tiles(env.dataset('Chen2017_np_tiles_balanced'))"
   ]
  },
  {
   "cell_type": "code",
   "execution_count": 13,
   "metadata": {},
   "outputs": [
    {
     "data": {
      "text/plain": [
       "array([0, 0, 0, ..., 3, 3, 3])"
      ]
     },
     "execution_count": 13,
     "metadata": {},
     "output_type": "execute_result"
    }
   ],
   "source": [
    "tile_data.y"
   ]
  },
  {
   "cell_type": "code",
   "execution_count": 14,
   "metadata": {},
   "outputs": [
    {
     "data": {
      "text/plain": [
       "array([17475,   205, 11522, 17475])"
      ]
     },
     "execution_count": 14,
     "metadata": {},
     "output_type": "execute_result"
    }
   ],
   "source": [
    "class_count = np.unique(tile_data.y, return_counts=True)[1] \n",
    "# class_count / sum(class_count)\n",
    "class_count"
   ]
  },
  {
   "cell_type": "code",
   "execution_count": 15,
   "metadata": {},
   "outputs": [
    {
     "data": {
      "text/plain": [
       "(array([0, 1, 2, 3]), array([17475,   205, 11522, 17475]))"
      ]
     },
     "execution_count": 15,
     "metadata": {},
     "output_type": "execute_result"
    }
   ],
   "source": [
    "n_label_max = sorted(np.unique(tile_data.data['y'], return_counts=True)[1])[-2]\n",
    "idx = np.where(tile_data.y == 0)[0]\n",
    "np.random.shuffle(idx)\n",
    "idx = idx[:n_label_max]\n",
    "idx = np.append(idx,np.where(tile_data.y == 1)[0][:n_label_max])\n",
    "idx = np.append(idx,np.where(tile_data.y == 2)[0][:n_label_max])\n",
    "idx = np.append(idx,np.where(tile_data.y == 3)[0][:n_label_max])\n",
    "# tile_data.x[(idx[:10],)].shape\n",
    "\n",
    "tile_data.y[idx]\n",
    "np.unique(tile_data.y[idx], return_counts=True)\n",
    "# idx\n",
    "# n_label_max"
   ]
  },
  {
   "cell_type": "code",
   "execution_count": 19,
   "metadata": {},
   "outputs": [
    {
     "data": {
      "text/plain": [
       "0"
      ]
     },
     "execution_count": 19,
     "metadata": {},
     "output_type": "execute_result"
    },
    {
     "data": {
      "image/png": "[encoded data removed]",
      "text/plain": [
       "<Figure size 432x288 with 1 Axes>"
      ]
     },
     "metadata": {},
     "output_type": "display_data"
    }
   ],
   "source": [
    "i = 6010\n",
    "plt.imshow(tile_data[i][0],'gray')\n",
    "tile_data[i][1]"
   ]
  },
  {
   "cell_type": "code",
   "execution_count": 21,
   "metadata": {},
   "outputs": [],
   "source": [
    "std = np.std(tile_data.x)\n",
    "mean = np.mean(tile_data.x)"
   ]
  },
  {
   "cell_type": "code",
   "execution_count": 22,
   "metadata": {},
   "outputs": [
    {
     "data": {
      "text/plain": [
       "(168.10599408636776, 58.40416988825042)"
      ]
     },
     "execution_count": 22,
     "metadata": {},
     "output_type": "execute_result"
    }
   ],
   "source": [
    "mean, std"
   ]
  },
  {
   "cell_type": "code",
   "execution_count": 23,
   "metadata": {},
   "outputs": [
    {
     "data": {
      "text/plain": [
       "numpy.ndarray"
      ]
     },
     "execution_count": 23,
     "metadata": {},
     "output_type": "execute_result"
    }
   ],
   "source": [
    "type(tile_data.data['x'][2])"
   ]
  },
  {
   "cell_type": "code",
   "execution_count": 24,
   "metadata": {},
   "outputs": [
    {
     "data": {
      "text/plain": [
       "['x', 'y']"
      ]
     },
     "execution_count": 24,
     "metadata": {},
     "output_type": "execute_result"
    }
   ],
   "source": [
    "\n",
    "tile_data.data.keys()"
   ]
  },
  {
   "cell_type": "code",
   "execution_count": 25,
   "metadata": {},
   "outputs": [
    {
     "data": {
      "image/png": "[encoded data removed]",
      "text/plain": [
       "<PIL.Image.Image image mode=L size=28x28 at 0x7F56663ADC50>"
      ]
     },
     "execution_count": 25,
     "metadata": {},
     "output_type": "execute_result"
    }
   ],
   "source": [
    "tile_data[i][0]"
   ]
  },
  {
   "cell_type": "code",
   "execution_count": 90,
   "metadata": {},
   "outputs": [],
   "source": [
    "from models.chen2017.chennet import ChenNet as Model\n",
    "model = Model(n_classes=4, in_channels=1, layers=1)"
   ]
  },
  {
   "cell_type": "code",
   "execution_count": 91,
   "metadata": {},
   "outputs": [
    {
     "data": {
      "text/plain": [
       "(array([5, 2, 3, 5, 5, 3, 2, 6, 1, 4]),\n",
       " array([-0.33046457, -0.26410752, -0.19775047, -0.13139341, -0.06503636,\n",
       "         0.00132069,  0.06767774,  0.13403479,  0.20039185,  0.2667489 ,\n",
       "         0.33310595]))"
      ]
     },
     "execution_count": 91,
     "metadata": {},
     "output_type": "execute_result"
    }
   ],
   "source": [
    "np.histogram(model.conv.conv0.weight.data)"
   ]
  },
  {
   "cell_type": "code",
   "execution_count": 92,
   "metadata": {},
   "outputs": [
    {
     "data": {
      "text/plain": [
       "Sequential(\n",
       "  (dropout): Dropout(p=0.5)\n",
       "  (conv0): Conv2d(1, 4, kernel_size=(3, 3), stride=(1, 1))\n",
       ")"
      ]
     },
     "execution_count": 92,
     "metadata": {},
     "output_type": "execute_result"
    }
   ],
   "source": [
    "model.conv"
   ]
  },
  {
   "cell_type": "code",
   "execution_count": 94,
   "metadata": {},
   "outputs": [
    {
     "data": {
      "text/plain": [
       "array([0, 0, 0, ..., 3, 3, 3])"
      ]
     },
     "execution_count": 94,
     "metadata": {},
     "output_type": "execute_result"
    }
   ],
   "source": [
    "tile_data.y"
   ]
  },
  {
   "cell_type": "code",
   "execution_count": 118,
   "metadata": {},
   "outputs": [
    {
     "data": {
      "text/plain": [
       "0.7484360016439107"
      ]
     },
     "execution_count": 118,
     "metadata": {},
     "output_type": "execute_result"
    }
   ],
   "source": [
    "np.sum(tile_data.y !=np.random.randint(0,4, size=tile_data.y.shape)) / len(tile_data.y)"
   ]
  },
  {
   "cell_type": "code",
   "execution_count": 84,
   "metadata": {},
   "outputs": [],
   "source": [
    "\n",
    "import json\n",
    "import os\n",
    "from pathlib import Path\n",
    "\n",
    "import torch\n",
    "import torchvision\n",
    "import torchvision.transforms as transforms\n",
    "from inferno.trainers.basic import Trainer\n",
    "from inferno.trainers.callbacks.logging.tensorboard import TensorboardLogger\n",
    "\n",
    "from models.chen2017.chennet import ChenNet as Model\n",
    "import datasets.array as array\n",
    "from experiment.data import Environment, TrainLog\n",
    "\n",
    "env = Environment()\n",
    "dataset_name  = 'Chen2017_np_tiles_balanced'\n",
    "dataset_path = env.dataset(dataset_name)\n",
    "\n",
    "mean =168.61987390394304\n",
    "std =56.83193208713197\n",
    "\n",
    "transform = transforms.Compose(\n",
    "    [\n",
    "        transforms.ToTensor(),\n",
    "        transforms.Normalize((mean, mean, mean), (std,std,std))\n",
    "    ])\n",
    "\n",
    "train_set = array.Tiles(dataset_path, transforms=transform)\n",
    "test_set = array.Tiles(dataset_path, train=False, transforms=transform)\n",
    "train_loader = torch.utils.data.DataLoader(train_set, batch_size=32,\n",
    "                                           shuffle=True, num_workers=2)"
   ]
  },
  {
   "cell_type": "code",
   "execution_count": 47,
   "metadata": {},
   "outputs": [],
   "source": [
    "it = iter(train_loader)\n",
    "batch = it.next()"
   ]
  },
  {
   "cell_type": "code",
   "execution_count": 48,
   "metadata": {},
   "outputs": [
    {
     "data": {
      "image/png": "[encoded data removed]",
      "text/plain": [
       "<Figure size 432x288 with 1 Axes>"
      ]
     },
     "metadata": {},
     "output_type": "display_data"
    }
   ],
   "source": [
    "# plt.imshow(batch[0][0,0])\n",
    "batch[1][0]\n",
    "hist, bins = np.histogram(batch[0][:,0],bins=100)\n",
    "# batch[0][:,0].shape\n",
    "# plt.bar(hist[1],hist[0])\n",
    "width = 0.7 * (bins[1] - bins[0])\n",
    "center = (bins[:-1] + bins[1:]) / 2\n",
    "plt.bar(center, hist, align='center', width=width)\n",
    "# plt.ylim([0,50])\n",
    "plt.show()"
   ]
  },
  {
   "cell_type": "code",
   "execution_count": 49,
   "metadata": {},
   "outputs": [
    {
     "name": "stderr",
     "output_type": "stream",
     "text": [
      "/home/jakob/miniconda3/envs/master/lib/python3.6/site-packages/torch/serialization.py:325: SourceChangeWarning: source code of class 'models.chen2017.chennet.ChenNet' has changed. you can retrieve the original source code by accessing the object's source attribute or set `torch.nn.Module.dump_patches = True` and use the patch tool to revert the changes.\n",
      "  warnings.warn(msg, SourceChangeWarning)\n"
     ]
    }
   ],
   "source": [
    "loaded = Trainer()\n",
    "loaded = loaded.load(from_directory=str(env.models_folder/ 'ChenNet'/'Chen2017_np_tiles_balanced'/'trained'/'ChenNet4_4_01522891722'))"
   ]
  },
  {
   "cell_type": "code",
   "execution_count": 50,
   "metadata": {},
   "outputs": [
    {
     "data": {
      "text/plain": [
       "Variable containing:\n",
       " 0.5728 -3.2869 -0.0631  0.4484\n",
       " 0.9800 -3.5435  0.3190  0.7983\n",
       " 1.0476 -3.4508  0.4422  0.9680\n",
       " 1.3996 -2.5392  0.7820  1.1178\n",
       " 0.6751 -2.1479  0.2165  0.6539\n",
       " 0.8837 -2.6932  0.0714  0.5466\n",
       " 0.5203 -2.9325  0.0131  0.4312\n",
       " 1.0526 -3.6437  0.5082  0.9645\n",
       " 0.7319 -2.8433  0.4232  0.6146\n",
       " 1.2388 -3.4754  0.7629  1.1621\n",
       " 1.1083 -3.2793  0.4797  0.9631\n",
       " 0.9737 -3.0555  0.4429  0.6787\n",
       " 0.4067 -2.1644  0.0661  0.4070\n",
       " 0.9494 -4.0407  0.4280  0.8809\n",
       " 0.9015 -2.1358  0.4456  0.7631\n",
       " 1.2288 -3.8084  0.6439  0.9369\n",
       " 0.5517 -2.5022 -0.1046  0.3356\n",
       " 0.7961 -1.7908  0.3634  0.5612\n",
       " 1.2195 -2.3261  0.6363  1.0259\n",
       " 1.1244 -4.0582  0.4810  0.8636\n",
       " 0.8424 -2.8634  0.3539  0.6496\n",
       " 0.8814 -2.9635  0.4827  0.6865\n",
       " 0.9048 -3.2954  0.3798  0.6198\n",
       " 0.9851 -2.8049  0.6086  0.9592\n",
       " 0.8517 -3.5567  0.4640  0.7422\n",
       " 0.4879 -2.6194 -0.0241  0.3574\n",
       " 1.0140 -3.0685  0.6127  0.8005\n",
       " 0.9728 -2.9938  0.3664  0.9154\n",
       " 1.3506 -3.3606  0.8143  1.2177\n",
       " 1.0961 -3.7948  0.6335  1.1085\n",
       " 1.1791 -3.3460  0.4624  1.0178\n",
       " 0.7666 -2.5563  0.1550  0.5795\n",
       "[torch.cuda.FloatTensor of size 32x4 (GPU 0)]"
      ]
     },
     "execution_count": 50,
     "metadata": {},
     "output_type": "execute_result"
    }
   ],
   "source": [
    "# model = Model(n_classes=4, in_channels=1, layers=2)\n",
    "act = loaded.model(torch.autograd.Variable(batch[0]).cuda())\n",
    "# batch[1]\n",
    "act"
   ]
  },
  {
   "cell_type": "code",
   "execution_count": 51,
   "metadata": {},
   "outputs": [
    {
     "data": {
      "text/plain": [
       "Variable containing:\n",
       " 1.1038\n",
       "[torch.cuda.FloatTensor of size 1 (GPU 0)]"
      ]
     },
     "execution_count": 51,
     "metadata": {},
     "output_type": "execute_result"
    }
   ],
   "source": [
    "loss = torch.nn.CrossEntropyLoss()\n",
    "loss(act, torch.autograd.Variable(batch[1]).cuda())"
   ]
  },
  {
   "cell_type": "code",
   "execution_count": 253,
   "metadata": {},
   "outputs": [
    {
     "name": "stdout",
     "output_type": "stream",
     "text": [
      "latest\n"
     ]
    }
   ],
   "source": [
    "!ls /media/jakob/bigdata/models/thesis/ChenNet/Chen2017_np_tiles_balanced/trained/ChenNet2_4_01522868516/"
   ]
  },
  {
   "cell_type": "code",
   "execution_count": 82,
   "metadata": {},
   "outputs": [
    {
     "data": {
      "image/png": "[encoded data removed]",
      "text/plain": [
       "<PIL.Image.Image image mode=L size=28x28 at 0x7F56022043C8>"
      ]
     },
     "execution_count": 82,
     "metadata": {},
     "output_type": "execute_result"
    }
   ],
   "source": [
    "img_set = Tiles(dataset_path)\n",
    "img_set[14000][0]"
   ]
  },
  {
   "cell_type": "code",
   "execution_count": 54,
   "metadata": {},
   "outputs": [],
   "source": [
    "import itertools as it"
   ]
  },
  {
   "cell_type": "code",
   "execution_count": 92,
   "metadata": {},
   "outputs": [],
   "source": [
    "path = env.dataset('tile_img')\n",
    "n = 6000\n",
    "positions = np.array([],dtype=np.int)\n",
    "for i in range(4):\n",
    "    pos = np.where(img_set.y == i)[0]\n",
    "    np.random.shuffle(pos)\n",
    "    pos = pos[:n]\n",
    "    positions = np.concatenate((positions, pos))\n",
    "img_set.y[(positions,)]\n",
    "for i in positions:\n",
    "    img, y = img_set[i]\n",
    "    class_folder = path / str(y)\n",
    "    class_folder.mkdir(exist_ok=True,parents=True)\n",
    "    img.save(class_folder / 'img{}.jpg'.format(i))"
   ]
  },
  {
   "cell_type": "code",
   "execution_count": 83,
   "metadata": {},
   "outputs": [
    {
     "data": {
      "text/plain": [
       "PosixPath('/media/jakob/bigdata/datasets/tile_img')"
      ]
     },
     "execution_count": 83,
     "metadata": {},
     "output_type": "execute_result"
    }
   ],
   "source": [
    "path"
   ]
  },
  {
   "cell_type": "code",
   "execution_count": 79,
   "metadata": {},
   "outputs": [
    {
     "data": {
      "text/plain": [
       "46677"
      ]
     },
     "execution_count": 79,
     "metadata": {},
     "output_type": "execute_result"
    }
   ],
   "source": [
    "len(img_set.y)"
   ]
  },
  {
   "cell_type": "code",
   "execution_count": 85,
   "metadata": {},
   "outputs": [],
   "source": [
    "path = path = env.dataset('tile_img')"
   ]
  },
  {
   "cell_type": "code",
   "execution_count": 89,
   "metadata": {},
   "outputs": [
    {
     "data": {
      "text/plain": [
       "{'datasets': '/media/jakob/bigdata/datasets/',\n",
       " 'models': '/media/jakob/bigdata/models/thesis',\n",
       " 'project': '/home/jakob/htw/imi-master-thesis'}"
      ]
     },
     "execution_count": 89,
     "metadata": {},
     "output_type": "execute_result"
    }
   ],
   "source": [
    "env.config"
   ]
  },
  {
   "cell_type": "code",
   "execution_count": 91,
   "metadata": {},
   "outputs": [
    {
     "data": {
      "text/plain": [
       "[0]"
      ]
     },
     "execution_count": 91,
     "metadata": {},
     "output_type": "execute_result"
    }
   ],
   "source": [
    "\n",
    "list(range(1))"
   ]
  },
  {
   "cell_type": "code",
   "execution_count": null,
   "metadata": {},
   "outputs": [],
   "source": []
  }
 ],
 "metadata": {
  "kernelspec": {
   "display_name": "Python 3",
   "language": "python",
   "name": "python3"
  },
  "language_info": {
   "codemirror_mode": {
    "name": "ipython",
    "version": 3
   },
   "file_extension": ".py",
   "mimetype": "text/x-python",
   "name": "python",
   "nbconvert_exporter": "python",
   "pygments_lexer": "ipython3",
   "version": "3.6.4"
  }
 },
 "nbformat": 4,
 "nbformat_minor": 2
}
