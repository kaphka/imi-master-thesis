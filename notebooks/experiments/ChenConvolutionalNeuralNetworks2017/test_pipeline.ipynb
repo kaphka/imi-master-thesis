{
 "cells": [
  {
   "cell_type": "code",
   "execution_count": 1,
   "metadata": {},
   "outputs": [],
   "source": [
    "%matplotlib inline\n",
    "%load_ext autoreload\n",
    "%autoreload 2"
   ]
  },
  {
   "cell_type": "code",
   "execution_count": 2,
   "metadata": {},
   "outputs": [],
   "source": [
    "import sys\n",
    "sys.path.append('../../../src/')"
   ]
  },
  {
   "cell_type": "code",
   "execution_count": 3,
   "metadata": {},
   "outputs": [],
   "source": [
    "import numpy as np\n",
    "from PIL import Image"
   ]
  },
  {
   "cell_type": "code",
   "execution_count": 4,
   "metadata": {},
   "outputs": [],
   "source": [
    "import matplotlib.pyplot as plt"
   ]
  },
  {
   "cell_type": "code",
   "execution_count": 16,
   "metadata": {},
   "outputs": [],
   "source": [
    "from models.chen2017.transforms import *\n",
    "import datasets.divahisdb as diva\n",
    "import experiment.data as exd\n",
    "from datasets.array import Tiles\n",
    "import math\n",
    "import torch"
   ]
  },
  {
   "cell_type": "code",
   "execution_count": 17,
   "metadata": {},
   "outputs": [],
   "source": [
    "env = exd.Environment()"
   ]
  },
  {
   "cell_type": "code",
   "execution_count": 67,
   "metadata": {},
   "outputs": [],
   "source": [
    "diva_dataset = diva.HisDBDataset(env.dataset('DIVA-HisDB'),gt=True)"
   ]
  },
  {
   "cell_type": "code",
   "execution_count": 73,
   "metadata": {},
   "outputs": [],
   "source": [
    "tile_data = Tiles(env.dataset('Chen2017_np_tiles_balanced'))"
   ]
  },
  {
   "cell_type": "code",
   "execution_count": 161,
   "metadata": {},
   "outputs": [
    {
     "data": {
      "text/plain": [
       "array([0, 0, 0, ..., 3, 3, 3])"
      ]
     },
     "execution_count": 161,
     "metadata": {},
     "output_type": "execute_result"
    }
   ],
   "source": [
    "tile_data.y"
   ]
  },
  {
   "cell_type": "code",
   "execution_count": 165,
   "metadata": {},
   "outputs": [
    {
     "data": {
      "text/plain": [
       "array([0.34490159, 0.00584502, 0.34490159, 0.3043518 ])"
      ]
     },
     "execution_count": 165,
     "metadata": {},
     "output_type": "execute_result"
    }
   ],
   "source": [
    "class_count = np.unique(tile_data.y, return_counts=True)[1] \n",
    "class_count / sum(class_count)"
   ]
  },
  {
   "cell_type": "code",
   "execution_count": 64,
   "metadata": {},
   "outputs": [
    {
     "data": {
      "text/plain": [
       "(array([0, 1, 2, 3]), array([7553,  128, 7553, 6665]))"
      ]
     },
     "execution_count": 64,
     "metadata": {},
     "output_type": "execute_result"
    }
   ],
   "source": [
    "n_label_max = sorted(np.unique(tile_data.data['y'], return_counts=True)[1])[-2]\n",
    "idx = np.where(tile_data.y == 0)[0]\n",
    "np.random.shuffle(idx)\n",
    "idx = idx[:n_label_max]\n",
    "idx = np.append(idx,np.where(tile_data.y == 1)[0][:n_label_max])\n",
    "idx = np.append(idx,np.where(tile_data.y == 2)[0][:n_label_max])\n",
    "idx = np.append(idx,np.where(tile_data.y == 3)[0][:n_label_max])\n",
    "# tile_data.x[(idx[:10],)].shape\n",
    "\n",
    "tile_data.y[idx]\n",
    "np.unique(tile_data.y[idx], return_counts=True)\n",
    "# idx\n",
    "# n_label_max"
   ]
  },
  {
   "cell_type": "code",
   "execution_count": 33,
   "metadata": {},
   "outputs": [
    {
     "data": {
      "text/plain": [
       "0"
      ]
     },
     "execution_count": 33,
     "metadata": {},
     "output_type": "execute_result"
    },
    {
     "data": {
      "image/png": "[encoded data removed]",
      "text/plain": [
       "<Figure size 432x288 with 1 Axes>"
      ]
     },
     "metadata": {},
     "output_type": "display_data"
    }
   ],
   "source": [
    "i = 76008\n",
    "plt.imshow(tile_data[i][0],'gray')\n",
    "tile_data[i][1]"
   ]
  },
  {
   "cell_type": "code",
   "execution_count": 77,
   "metadata": {},
   "outputs": [],
   "source": [
    "std = np.std(tile_data.x)\n",
    "mean = np.mean(tile_data.x)"
   ]
  },
  {
   "cell_type": "code",
   "execution_count": 79,
   "metadata": {},
   "outputs": [
    {
     "data": {
      "text/plain": [
       "(168.61987390394304, 56.83193208713197)"
      ]
     },
     "execution_count": 79,
     "metadata": {},
     "output_type": "execute_result"
    }
   ],
   "source": [
    "mean, std"
   ]
  },
  {
   "cell_type": "code",
   "execution_count": 59,
   "metadata": {},
   "outputs": [
    {
     "data": {
      "text/plain": [
       "numpy.ndarray"
      ]
     },
     "execution_count": 59,
     "metadata": {},
     "output_type": "execute_result"
    }
   ],
   "source": [
    "type(tile_data.data['x'][2])"
   ]
  },
  {
   "cell_type": "code",
   "execution_count": 61,
   "metadata": {},
   "outputs": [
    {
     "data": {
      "text/plain": [
       "['x', 'y']"
      ]
     },
     "execution_count": 61,
     "metadata": {},
     "output_type": "execute_result"
    }
   ],
   "source": [
    "\n",
    "tile_data.data.keys()"
   ]
  },
  {
   "cell_type": "code",
   "execution_count": 24,
   "metadata": {},
   "outputs": [
    {
     "data": {
      "image/png": "[encoded data removed]",
      "text/plain": [
       "<PIL.Image.Image image mode=L size=28x28 at 0x7FEE81735E80>"
      ]
     },
     "execution_count": 24,
     "metadata": {},
     "output_type": "execute_result"
    }
   ],
   "source": [
    "tile_data[i][0]"
   ]
  },
  {
   "cell_type": "code",
   "execution_count": 90,
   "metadata": {},
   "outputs": [],
   "source": [
    "from models.chen2017.chennet import ChenNet as Model\n",
    "model = Model(n_classes=4, in_channels=1, layers=1)"
   ]
  },
  {
   "cell_type": "code",
   "execution_count": 91,
   "metadata": {},
   "outputs": [
    {
     "data": {
      "text/plain": [
       "(array([5, 2, 3, 5, 5, 3, 2, 6, 1, 4]),\n",
       " array([-0.33046457, -0.26410752, -0.19775047, -0.13139341, -0.06503636,\n",
       "         0.00132069,  0.06767774,  0.13403479,  0.20039185,  0.2667489 ,\n",
       "         0.33310595]))"
      ]
     },
     "execution_count": 91,
     "metadata": {},
     "output_type": "execute_result"
    }
   ],
   "source": [
    "np.histogram(model.conv.conv0.weight.data)"
   ]
  },
  {
   "cell_type": "code",
   "execution_count": 92,
   "metadata": {},
   "outputs": [
    {
     "data": {
      "text/plain": [
       "Sequential(\n",
       "  (dropout): Dropout(p=0.5)\n",
       "  (conv0): Conv2d(1, 4, kernel_size=(3, 3), stride=(1, 1))\n",
       ")"
      ]
     },
     "execution_count": 92,
     "metadata": {},
     "output_type": "execute_result"
    }
   ],
   "source": [
    "model.conv"
   ]
  },
  {
   "cell_type": "code",
   "execution_count": 94,
   "metadata": {},
   "outputs": [
    {
     "data": {
      "text/plain": [
       "array([0, 0, 0, ..., 3, 3, 3])"
      ]
     },
     "execution_count": 94,
     "metadata": {},
     "output_type": "execute_result"
    }
   ],
   "source": [
    "tile_data.y"
   ]
  },
  {
   "cell_type": "code",
   "execution_count": 118,
   "metadata": {},
   "outputs": [
    {
     "data": {
      "text/plain": [
       "0.7484360016439107"
      ]
     },
     "execution_count": 118,
     "metadata": {},
     "output_type": "execute_result"
    }
   ],
   "source": [
    "np.sum(tile_data.y !=np.random.randint(0,4, size=tile_data.y.shape)) / len(tile_data.y)"
   ]
  },
  {
   "cell_type": "code",
   "execution_count": 119,
   "metadata": {},
   "outputs": [
    {
     "name": "stderr",
     "output_type": "stream",
     "text": [
      "/home/jakob/miniconda3/envs/master/lib/python3.6/site-packages/h5py/__init__.py:36: FutureWarning: Conversion of the second argument of issubdtype from `float` to `np.floating` is deprecated. In future, it will be treated as `np.float64 == np.dtype(float).type`.\n",
      "  from ._conv import register_converters as _register_converters\n"
     ]
    }
   ],
   "source": [
    "\n",
    "import json\n",
    "import os\n",
    "from pathlib import Path\n",
    "\n",
    "import torch\n",
    "import torchvision\n",
    "import torchvision.transforms as transforms\n",
    "from inferno.trainers.basic import Trainer\n",
    "from inferno.trainers.callbacks.logging.tensorboard import TensorboardLogger\n",
    "\n",
    "from models.chen2017.chennet import ChenNet as Model\n",
    "import datasets.array as array\n",
    "from experiment.data import Environment, TrainLog\n",
    "\n",
    "env = Environment()\n",
    "dataset_name  = 'Chen2017_np_tiles_balanced'\n",
    "dataset_path = env.dataset(dataset_name)\n",
    "\n",
    "mean =168.61987390394304\n",
    "std =56.83193208713197\n",
    "\n",
    "transform = transforms.Compose(\n",
    "    [\n",
    "        transforms.ToTensor(),\n",
    "        transforms.Normalize((mean, mean, mean), (std,std,std))\n",
    "    ])\n",
    "\n",
    "train_set = array.Tiles(dataset_path, transforms=transform)\n",
    "test_set = array.Tiles(dataset_path, train=False, transforms=transform)\n",
    "train_loader = torch.utils.data.DataLoader(train_set, batch_size=32,\n",
    "                                           shuffle=True, num_workers=2)"
   ]
  },
  {
   "cell_type": "code",
   "execution_count": 159,
   "metadata": {},
   "outputs": [
    {
     "data": {
      "text/plain": [
       "\u001b[0;31mType:\u001b[0m        DataLoader\n",
       "\u001b[0;31mString form:\u001b[0m <torch.utils.data.dataloader.DataLoader object at 0x7fe961ce6e10>\n",
       "\u001b[0;31mLength:\u001b[0m      685\n",
       "\u001b[0;31mFile:\u001b[0m        ~/miniconda3/envs/master/lib/python3.6/site-packages/torch/utils/data/dataloader.py\n",
       "\u001b[0;31mDocstring:\u001b[0m  \n",
       "Data loader. Combines a dataset and a sampler, and provides\n",
       "single- or multi-process iterators over the dataset.\n",
       "\n",
       "Arguments:\n",
       "    dataset (Dataset): dataset from which to load the data.\n",
       "    batch_size (int, optional): how many samples per batch to load\n",
       "        (default: 1).\n",
       "    shuffle (bool, optional): set to ``True`` to have the data reshuffled\n",
       "        at every epoch (default: False).\n",
       "    sampler (Sampler, optional): defines the strategy to draw samples from\n",
       "        the dataset. If specified, ``shuffle`` must be False.\n",
       "    batch_sampler (Sampler, optional): like sampler, but returns a batch of\n",
       "        indices at a time. Mutually exclusive with batch_size, shuffle,\n",
       "        sampler, and drop_last.\n",
       "    num_workers (int, optional): how many subprocesses to use for data\n",
       "        loading. 0 means that the data will be loaded in the main process.\n",
       "        (default: 0)\n",
       "    collate_fn (callable, optional): merges a list of samples to form a mini-batch.\n",
       "    pin_memory (bool, optional): If ``True``, the data loader will copy tensors\n",
       "        into CUDA pinned memory before returning them.\n",
       "    drop_last (bool, optional): set to ``True`` to drop the last incomplete batch,\n",
       "        if the dataset size is not divisible by the batch size. If ``False`` and\n",
       "        the size of dataset is not divisible by the batch size, then the last batch\n",
       "        will be smaller. (default: False)\n",
       "    timeout (numeric, optional): if positive, the timeout value for collecting a batch\n",
       "        from workers. Should always be non-negative. (default: 0)\n",
       "    worker_init_fn (callable, optional): If not None, this will be called on each\n",
       "        worker subprocess with the worker id (an int in ``[0, num_workers - 1]``) as\n",
       "        input, after seeding and before data loading. (default: None)\n",
       "\n",
       ".. note:: By default, each worker will have its PyTorch seed set to\n",
       "          ``base_seed + worker_id``, where ``base_seed`` is a long generated\n",
       "          by main process using its RNG. You may use ``torch.initial_seed()`` to access\n",
       "          this value in :attr:`worker_init_fn`, which can be used to set other seeds\n",
       "          (e.g. NumPy) before data loading.\n",
       "\n",
       ".. warning:: If ``spawn'' start method is used, :attr:`worker_init_fn` cannot be an\n",
       "             unpicklable object, e.g., a lambda function.\n"
      ]
     },
     "metadata": {},
     "output_type": "display_data"
    }
   ],
   "source": [
    "train_loader?"
   ]
  },
  {
   "cell_type": "code",
   "execution_count": 207,
   "metadata": {},
   "outputs": [
    {
     "data": {
      "image/png": "[encoded data removed]",
      "text/plain": [
       "<Figure size 432x288 with 1 Axes>"
      ]
     },
     "metadata": {},
     "output_type": "display_data"
    }
   ],
   "source": [
    "# plt.imshow(batch[0][0,0])\n",
    "batch[1][0]\n",
    "hist, bins = np.histogram(batch[0][:,0],bins=100)\n",
    "# batch[0][:,0].shape\n",
    "# plt.bar(hist[1],hist[0])\n",
    "width = 0.7 * (bins[1] - bins[0])\n",
    "center = (bins[:-1] + bins[1:]) / 2\n",
    "plt.bar(center, hist, align='center', width=width)\n",
    "# plt.ylim([0,50])\n",
    "plt.show()"
   ]
  },
  {
   "cell_type": "code",
   "execution_count": 212,
   "metadata": {},
   "outputs": [
    {
     "data": {
      "text/plain": [
       "Variable containing:\n",
       " 0.3108  0.0142  0.3459  0.3292\n",
       " 0.3484  0.0215  0.3353  0.2948\n",
       " 0.2906  0.0140  0.3795  0.3160\n",
       " 0.3408  0.0226  0.3515  0.2850\n",
       " 0.3338  0.0147  0.3496  0.3018\n",
       " 0.3381  0.0136  0.3565  0.2918\n",
       " 0.3551  0.0056  0.3323  0.3070\n",
       " 0.3452  0.0202  0.3048  0.3298\n",
       " 0.3641  0.0135  0.3410  0.2814\n",
       " 0.3295  0.0060  0.3431  0.3214\n",
       " 0.3005  0.0163  0.3431  0.3402\n",
       "[torch.cuda.FloatTensor of size 11x4 (GPU 0)]"
      ]
     },
     "execution_count": 212,
     "metadata": {},
     "output_type": "execute_result"
    }
   ],
   "source": [
    "# model = Model(n_classes=4, in_channels=1, layers=2)\n",
    "loaded.model(torch.autograd.Variable(batch[0]).cuda())\n",
    "# batch[1]"
   ]
  },
  {
   "cell_type": "code",
   "execution_count": 208,
   "metadata": {},
   "outputs": [],
   "source": [
    "loaded = Trainer()\n",
    "loaded = loaded.load(from_directory=str(env.models_folder/ 'ChenNet'/'Chen2017_np_tiles_balanced'/'trained'/'ChenNet2_4_01522872669'), filename='latest')"
   ]
  },
  {
   "cell_type": "code",
   "execution_count": 209,
   "metadata": {},
   "outputs": [
    {
     "data": {
      "text/plain": [
       "PosixPath('/media/jakob/bigdata/models/thesis')"
      ]
     },
     "execution_count": 209,
     "metadata": {},
     "output_type": "execute_result"
    }
   ],
   "source": [
    "env.models_folder"
   ]
  },
  {
   "cell_type": "code",
   "execution_count": 210,
   "metadata": {},
   "outputs": [
    {
     "name": "stdout",
     "output_type": "stream",
     "text": [
      "latest\n"
     ]
    }
   ],
   "source": [
    "!ls /media/jakob/bigdata/models/thesis/ChenNet/Chen2017_np_tiles_balanced/trained/ChenNet2_4_01522868516/"
   ]
  },
  {
   "cell_type": "code",
   "execution_count": 219,
   "metadata": {},
   "outputs": [
    {
     "data": {
      "image/png": "[encoded data removed]",
      "text/plain": [
       "<PIL.Image.Image image mode=L size=28x28 at 0x7FE9E4F2E0F0>"
      ]
     },
     "execution_count": 219,
     "metadata": {},
     "output_type": "execute_result"
    }
   ],
   "source": [
    "img_set = array.Tiles(dataset_path)\n",
    "img_set[10][0]"
   ]
  },
  {
   "cell_type": "code",
   "execution_count": null,
   "metadata": {},
   "outputs": [],
   "source": []
  }
 ],
 "metadata": {
  "kernelspec": {
   "display_name": "Python 3",
   "language": "python",
   "name": "python3"
  },
  "language_info": {
   "codemirror_mode": {
    "name": "ipython",
    "version": 3
   },
   "file_extension": ".py",
   "mimetype": "text/x-python",
   "name": "python",
   "nbconvert_exporter": "python",
   "pygments_lexer": "ipython3",
   "version": "3.6.4"
  }
 },
 "nbformat": 4,
 "nbformat_minor": 2
}
