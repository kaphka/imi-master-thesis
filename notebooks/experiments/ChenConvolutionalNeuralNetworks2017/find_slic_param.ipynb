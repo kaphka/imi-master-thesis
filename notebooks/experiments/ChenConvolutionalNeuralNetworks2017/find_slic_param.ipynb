{
 "cells": [
  {
   "cell_type": "code",
   "execution_count": 1,
   "metadata": {},
   "outputs": [
    {
     "name": "stdout",
     "output_type": "stream",
     "text": [
      "/home/jakob/htw/imi-master-thesis/notebooks/experiments/ChenConvolutionalNeuralNetworks2017\n"
     ]
    }
   ],
   "source": [
    "!pwd"
   ]
  },
  {
   "cell_type": "code",
   "execution_count": 69,
   "metadata": {},
   "outputs": [
    {
     "name": "stdout",
     "output_type": "stream",
     "text": [
      "The autoreload extension is already loaded. To reload it, use:\n",
      "  %reload_ext autoreload\n"
     ]
    }
   ],
   "source": [
    "%load_ext autoreload\n",
    "%autoreload 2\n",
    "import sys\n",
    "sys.path.append('../../../src/')\n",
    "\n",
    "%matplotlib inline\n",
    "import matplotlib.pyplot as plt\n",
    "\n",
    "import json\n",
    "import os\n",
    "from pathlib import Path\n",
    "import random\n",
    "\n",
    "from models.chen2017.transforms import *\n",
    "from models.chen2017.preprocess import get_central_labels\n",
    "import datasets.divahisdb as diva\n",
    "import experiment.data as exd\n",
    "import datasets.tiles as tile\n",
    "\n",
    "from PIL import Image\n",
    "import numpy as np\n",
    "\n",
    "env = exp.Environment()"
   ]
  },
  {
   "cell_type": "code",
   "execution_count": 70,
   "metadata": {},
   "outputs": [],
   "source": [
    "dataset = diva.HisDBDataset(env.dataset(exp.Datasets.diva.value), gt=True)"
   ]
  },
  {
   "cell_type": "code",
   "execution_count": 107,
   "metadata": {},
   "outputs": [],
   "source": [
    "scaler = Scale()\n",
    "get_tiles = SegmentTiling()\n",
    "get_gt = TileGroundTruth()"
   ]
  },
  {
   "cell_type": "code",
   "execution_count": 108,
   "metadata": {},
   "outputs": [],
   "source": [
    "\n",
    "idx = 0\n",
    "page, gt = dataset[idx]\n",
    "crop = tile.RandCrop(500, random.Random('slic'))\n",
    "crop_gt = tile.RandCrop(500, random.Random('slic'))\n",
    "\n",
    "scaled = scaler(page)\n",
    "scaled_gt = np.array(Image.fromarray(gt).resize((scaled.width, scaled.height)))\n",
    "slic = SLIC(n_segments=3000, compactness=10)\n",
    "\n",
    "scaled = crop(scaled)\n",
    "scaled_gt = np.array(crop_gt(Image.fromarray(scaled_gt)))\n",
    "\n",
    "\n",
    "spixel = slic(scaled)\n",
    "tiles, meta = get_tiles(np.array(scaled), spixel)\n",
    "tiles_gt, _ = get_tiles(np.array(scaled_gt), spixel)\n",
    "\n"
   ]
  },
  {
   "cell_type": "code",
   "execution_count": 109,
   "metadata": {},
   "outputs": [
    {
     "data": {
      "text/plain": [
       "array([2, 2, 0, ..., 0, 0, 0], dtype=uint8)"
      ]
     },
     "execution_count": 109,
     "metadata": {},
     "output_type": "execute_result"
    }
   ],
   "source": [
    "# Image.fromarray(diva.color_gt(scaled_gt))\n",
    "# scaled\n",
    "get_central_labels(scaled_gt, meta)"
   ]
  },
  {
   "cell_type": "code",
   "execution_count": 123,
   "metadata": {},
   "outputs": [
    {
     "data": {
      "text/plain": [
       "array([[  17,  305,   57],\n",
       "       [  14,  350,   58],\n",
       "       [  15,   44,   61],\n",
       "       ...,\n",
       "       [ 481,  445, 2702],\n",
       "       [ 483,  474, 2703],\n",
       "       [ 484,  392, 2705]], dtype=int32)"
      ]
     },
     "execution_count": 123,
     "metadata": {},
     "output_type": "execute_result"
    }
   ],
   "source": [
    "meta"
   ]
  },
  {
   "cell_type": "code",
   "execution_count": 132,
   "metadata": {},
   "outputs": [],
   "source": [
    "y = get_central_labels(scaled_gt, meta)\n",
    "colored = np.zeros(spixel.shape,dtype=np.int)\n",
    "for idx in range(len(y)):\n",
    "    tile_id = spixel[meta[idx][0],meta[idx][1]]\n",
    "    gt = y[idx]\n",
    "    colored[np.where(spixel == tile_id)] = hisdb.LABEL_DICT[gt]"
   ]
  },
  {
   "cell_type": "code",
   "execution_count": 133,
   "metadata": {},
   "outputs": [
    {
     "data": {
      "text/plain": [
       "0"
      ]
     },
     "execution_count": 133,
     "metadata": {},
     "output_type": "execute_result"
    }
   ],
   "source": [
    "# np.unique(y, return_counts=True)\n",
    "gt"
   ]
  },
  {
   "cell_type": "code",
   "execution_count": 135,
   "metadata": {},
   "outputs": [
    {
     "data": {
      "image/png": "[encoded data removed]",
      "text/plain": [
       "<PIL.Image.Image image mode=RGB size=500x500 at 0x7FA4B6D91860>"
      ]
     },
     "execution_count": 135,
     "metadata": {},
     "output_type": "execute_result"
    }
   ],
   "source": [
    "Image.fromarray(diva.color_gt(colored))"
   ]
  },
  {
   "cell_type": "code",
   "execution_count": 122,
   "metadata": {},
   "outputs": [
    {
     "ename": "AttributeError",
     "evalue": "'SLIC' object has no attribute '__array_interface__'",
     "output_type": "error",
     "traceback": [
      "\u001b[0;31m---------------------------------------------------------------------------\u001b[0m",
      "\u001b[0;31mAttributeError\u001b[0m                            Traceback (most recent call last)",
      "\u001b[0;32m<ipython-input-122-2884e261ea7d>\u001b[0m in \u001b[0;36m<module>\u001b[0;34m()\u001b[0m\n\u001b[0;32m----> 1\u001b[0;31m \u001b[0mImage\u001b[0m\u001b[0;34m.\u001b[0m\u001b[0mfromarray\u001b[0m\u001b[0;34m(\u001b[0m\u001b[0mslic\u001b[0m\u001b[0;34m)\u001b[0m\u001b[0;34m\u001b[0m\u001b[0m\n\u001b[0m",
      "\u001b[0;32m~/miniconda3/envs/master/lib/python3.6/site-packages/PIL/Image.py\u001b[0m in \u001b[0;36mfromarray\u001b[0;34m(obj, mode)\u001b[0m\n\u001b[1;32m   2407\u001b[0m     \u001b[0;34m.\u001b[0m\u001b[0;34m.\u001b[0m \u001b[0mversionadded\u001b[0m\u001b[0;34m:\u001b[0m\u001b[0;34m:\u001b[0m \u001b[0;36m1.1\u001b[0m\u001b[0;36m.6\u001b[0m\u001b[0;34m\u001b[0m\u001b[0m\n\u001b[1;32m   2408\u001b[0m     \"\"\"\n\u001b[0;32m-> 2409\u001b[0;31m     \u001b[0marr\u001b[0m \u001b[0;34m=\u001b[0m \u001b[0mobj\u001b[0m\u001b[0;34m.\u001b[0m\u001b[0m__array_interface__\u001b[0m\u001b[0;34m\u001b[0m\u001b[0m\n\u001b[0m\u001b[1;32m   2410\u001b[0m     \u001b[0mshape\u001b[0m \u001b[0;34m=\u001b[0m \u001b[0marr\u001b[0m\u001b[0;34m[\u001b[0m\u001b[0;34m'shape'\u001b[0m\u001b[0;34m]\u001b[0m\u001b[0;34m\u001b[0m\u001b[0m\n\u001b[1;32m   2411\u001b[0m     \u001b[0mndim\u001b[0m \u001b[0;34m=\u001b[0m \u001b[0mlen\u001b[0m\u001b[0;34m(\u001b[0m\u001b[0mshape\u001b[0m\u001b[0;34m)\u001b[0m\u001b[0;34m\u001b[0m\u001b[0m\n",
      "\u001b[0;31mAttributeError\u001b[0m: 'SLIC' object has no attribute '__array_interface__'"
     ]
    }
   ],
   "source": [
    "Image.fromarray(slic)"
   ]
  },
  {
   "cell_type": "code",
   "execution_count": 127,
   "metadata": {},
   "outputs": [],
   "source": [
    "patches = tiles_gt\n",
    "if len(patches.shape) > 3:\n",
    "    n, height, width, channels = patches.shape\n",
    "    big_img = np.zeros((n_images * height, n_images * width, channels), dtype=patches.dtype)\n",
    "else:\n",
    "    n, height, width, channels = *patches.shape, 1\n",
    "    big_img = np.zeros((n_images * height, n_images * width), dtype=patches.dtype)\n",
    "n_images = 16\n",
    "\n",
    "\n",
    "for m in range(n_images):\n",
    "    for n in range(n_images):\n",
    "        idx = m * n_images + n\n",
    "        if channels == 1:\n",
    "            big_img[m*height: (m+1)*height, n*width:(n+1)*width] = patches[idx]\n",
    "        else:\n",
    "            big_img[m*height: (m+1)*height, n*width:(n+1)*width,:] = patches[idx]"
   ]
  },
  {
   "cell_type": "code",
   "execution_count": 128,
   "metadata": {},
   "outputs": [
    {
     "data": {
      "image/png": "[encoded data removed]",
      "text/plain": [
       "<PIL.Image.Image image mode=RGB size=448x448 at 0x7FA4B6E78320>"
      ]
     },
     "execution_count": 128,
     "metadata": {},
     "output_type": "execute_result"
    }
   ],
   "source": [
    "\n",
    "Image.fromarray(diva.color_gt(big_img))"
   ]
  },
  {
   "cell_type": "code",
   "execution_count": 94,
   "metadata": {},
   "outputs": [
    {
     "data": {
      "text/plain": [
       "(2725, 28, 28)"
      ]
     },
     "execution_count": 94,
     "metadata": {},
     "output_type": "execute_result"
    }
   ],
   "source": [
    "patches.shape\n"
   ]
  },
  {
   "cell_type": "code",
   "execution_count": null,
   "metadata": {},
   "outputs": [],
   "source": []
  }
 ],
 "metadata": {
  "kernelspec": {
   "display_name": "Python 3",
   "language": "python",
   "name": "python3"
  },
  "language_info": {
   "codemirror_mode": {
    "name": "ipython",
    "version": 3
   },
   "file_extension": ".py",
   "mimetype": "text/x-python",
   "name": "python",
   "nbconvert_exporter": "python",
   "pygments_lexer": "ipython3",
   "version": "3.6.4"
  }
 },
 "nbformat": 4,
 "nbformat_minor": 2
}
