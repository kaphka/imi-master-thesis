{
 "cells": [
  {
   "cell_type": "code",
   "execution_count": 3,
   "metadata": {
    "collapsed": false
   },
   "outputs": [
    {
     "name": "stdout",
     "output_type": "stream",
     "text": [
      "TypeError: null is not an object (evaluating 'el.getContext')\r\n",
      "\r\n",
      "  undefined:3\r\n",
      "  :24\r\n"
     ]
    }
   ],
   "source": [
    "!phantomjs render_html.js\n"
   ]
  }
 ],
 "metadata": {
  "kernelspec": {
   "display_name": "Python (ml-software)",
   "language": "python",
   "name": "ml-software"
  }
 },
 "nbformat": 4,
 "nbformat_minor": 0
}
