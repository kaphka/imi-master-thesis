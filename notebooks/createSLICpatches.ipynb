{
 "cells": [
  {
   "cell_type": "code",
   "execution_count": 14,
   "metadata": {},
   "outputs": [],
   "source": [
    "%matplotlib inline\n",
    "# from IPython.display import Image\n",
    "import matplotlib.pyplot as plt\n",
    "from pathlib import Path\n",
    "from glob import glob\n",
    "import numpy as np\n",
    "import json, os\n",
    "from glob import glob\n",
    "from PIL import Image\n",
    "from tqdm import tnrange, tqdm"
   ]
  },
  {
   "cell_type": "code",
   "execution_count": 15,
   "metadata": {},
   "outputs": [
    {
     "name": "stdout",
     "output_type": "stream",
     "text": [
      "The autoreload extension is already loaded. To reload it, use:\n",
      "  %reload_ext autoreload\n"
     ]
    }
   ],
   "source": [
    "# config = json.load(open(os.path.expanduser(\"~/.thesis.conf\")))\n",
    "# datasets_path = Path(config['datasets'])\n",
    "# db_folder = Path(config['datasets']) / 'hisdb'\n",
    "# modules   = Path(config['project']) / 'src'\n",
    "\n",
    "%load_ext autoreload\n",
    "%autoreload 2\n"
   ]
  },
  {
   "cell_type": "code",
   "execution_count": 16,
   "metadata": {},
   "outputs": [],
   "source": [
    "\n",
    "import sys\n",
    "sys.path.append('../src/')"
   ]
  },
  {
   "cell_type": "code",
   "execution_count": 17,
   "metadata": {},
   "outputs": [],
   "source": [
    "from models.chen2017.transforms import *\n",
    "import datasets.divahisdb as diva\n",
    "import experiment.data as exd"
   ]
  },
  {
   "cell_type": "code",
   "execution_count": 18,
   "metadata": {},
   "outputs": [],
   "source": [
    "import skimage.io\n",
    "import skimage.segmentation as seg\n",
    "from skimage.util import img_as_float, img_as_ubyte\n",
    "from skimage.transform import resize, rotate\n",
    "from skimage import io\n",
    "import matplotlib.pyplot as plt\n",
    "import argparse\n",
    " \n",
    "import random as rnd\n",
    "import math\n",
    "from collections import namedtuple"
   ]
  },
  {
   "cell_type": "code",
   "execution_count": null,
   "metadata": {},
   "outputs": [],
   "source": []
  },
  {
   "cell_type": "code",
   "execution_count": null,
   "metadata": {},
   "outputs": [],
   "source": []
  },
  {
   "cell_type": "code",
   "execution_count": 19,
   "metadata": {},
   "outputs": [],
   "source": [
    "env = exd.Environment()\n",
    "dataset = diva.HisDBDataset(env.dataset('DIVA-HisDB'), gt=True)\n",
    "page, gt = dataset[0]"
   ]
  },
  {
   "cell_type": "code",
   "execution_count": 42,
   "metadata": {},
   "outputs": [],
   "source": [
    "scaler = Scale()\n",
    "slic = SLIC(n_segments=5000, compactness=50)\n",
    "get_tiles = SegmentTiling()\n",
    "get_gt = TileGroundTruth()"
   ]
  },
  {
   "cell_type": "code",
   "execution_count": 43,
   "metadata": {
    "collapsed": true
   },
   "outputs": [],
   "source": [
    "scaled = scaler(page)\n",
    "spixel = slic(scaled)\n",
    "# tiles, tile_specs = get_tiles(img_as_ubyte(scaled), spixel)"
   ]
  },
  {
   "cell_type": "code",
   "execution_count": null,
   "metadata": {},
   "outputs": [],
   "source": [
    "y = get_gt(tile_specs, gt, scaler.scale)"
   ]
  },
  {
   "cell_type": "code",
   "execution_count": null,
   "metadata": {},
   "outputs": [],
   "source": [
    "np.sum(diva.to_class_vector(y), axis=0)"
   ]
  },
  {
   "cell_type": "code",
   "execution_count": 55,
   "metadata": {},
   "outputs": [
    {
     "name": "stderr",
     "output_type": "stream",
     "text": [
      "/home/jakob/miniconda3/envs/master/lib/python3.6/site-packages/skimage/util/dtype.py:122: UserWarning: Possible precision loss when converting from float64 to uint8\n",
      "  .format(dtypeobj_in, dtypeobj_out))\n"
     ]
    },
    {
     "data": {
      "text/plain": [
       "<Figure size 432x288 with 0 Axes>"
      ]
     },
     "metadata": {},
     "output_type": "display_data"
    }
   ],
   "source": [
    "p = 300\n",
    "# box = (slice(p,p+250), slice(p,p+250))\n",
    "box = (p,p,p+500,p+500)\n",
    "fig = plt.figure()\n",
    "# plt.imshow(seg.mark_boundaries(img_as_ubyte(scaled)[box], spixel[box],color=(0,0,0)),cmap='flag')\n",
    "marked = Image.fromarray(img_as_ubyte(seg.mark_boundaries(img_as_ubyte(scaled), spixel,color=(1,0,0))))\n",
    "marked.crop(box=box).save('../doc/figures/img/mark_boundaries.jpg')"
   ]
  },
  {
   "cell_type": "code",
   "execution_count": 290,
   "metadata": {},
   "outputs": [
    {
     "data": {
      "text/plain": [
       "<matplotlib.image.AxesImage at 0x7f08b55f3780>"
      ]
     },
     "execution_count": 290,
     "metadata": {},
     "output_type": "execute_result"
    },
    {
     "data": {
      "image/png": "[encoded data removed]",
      "text/plain": [
       "<matplotlib.figure.Figure at 0x7f08b5602c88>"
      ]
     },
     "metadata": {},
     "output_type": "display_data"
    }
   ],
   "source": [
    "n = 1450\n",
    "s = slice(n,n+8)\n",
    "plt.imshow(np.concatenate(tiles[s]))\n",
    "# print(patch_meta[s,2])\n",
    "# print(y[s])\n",
    "# diva.Annotations(y[s][1])\n",
    "    "
   ]
  },
  {
   "cell_type": "code",
   "execution_count": 46,
   "metadata": {},
   "outputs": [],
   "source": []
  },
  {
   "cell_type": "code",
   "execution_count": 125,
   "metadata": {},
   "outputs": [],
   "source": [
    "\n",
    "patchtes = patches[:patch_count]\n",
    "patch_meta = patch_meta[:patch_count]"
   ]
  },
  {
   "cell_type": "code",
   "execution_count": 203,
   "metadata": {},
   "outputs": [
    {
     "ename": "TypeError",
     "evalue": "unsupported operand type(s) for +: 'slice' and 'int'",
     "output_type": "error",
     "traceback": [
      "\u001b[0;31m---------------------------------------------------------------------------\u001b[0m",
      "\u001b[0;31mTypeError\u001b[0m                                 Traceback (most recent call last)",
      "\u001b[0;32m<ipython-input-203-1a2c4733cdeb>\u001b[0m in \u001b[0;36m<module>\u001b[0;34m()\u001b[0m\n\u001b[0;32m----> 1\u001b[0;31m \u001b[0ms\u001b[0m \u001b[0;34m+\u001b[0m \u001b[0;36m8\u001b[0m\u001b[0;34m\u001b[0m\u001b[0m\n\u001b[0m",
      "\u001b[0;31mTypeError\u001b[0m: unsupported operand type(s) for +: 'slice' and 'int'"
     ]
    }
   ],
   "source": [
    "s + 8"
   ]
  },
  {
   "cell_type": "code",
   "execution_count": 202,
   "metadata": {},
   "outputs": [
    {
     "name": "stdout",
     "output_type": "stream",
     "text": [
      "[1804 1805 1806 1807 1808 1809 1810 1811]\n",
      "[1 1 1 1 1 1 1 1]\n"
     ]
    },
    {
     "data": {
      "text/plain": [
       "<Annotations.BACKGROUND: 1>"
      ]
     },
     "execution_count": 202,
     "metadata": {},
     "output_type": "execute_result"
    },
    {
     "data": {
      "image/png": "[encoded data removed]",
      "text/plain": [
       "<matplotlib.figure.Figure at 0x7f08b5ced908>"
      ]
     },
     "metadata": {},
     "output_type": "display_data"
    }
   ],
   "source": [
    "n = 1750\n",
    "s = slice(n,n+8)\n",
    "plt.imshow(np.concatenate(patches[s]))\n",
    "print(patch_meta[s,2])\n",
    "print(y[s])\n",
    "diva.Annotations(y[s][1])"
   ]
  },
  {
   "cell_type": "code",
   "execution_count": 23,
   "metadata": {},
   "outputs": [],
   "source": [
    "def img_offsets(directions=[0], width=28, jitter=7):\n",
    "    \"\"\"\n",
    "    calculates offsets in the specified directions.\n",
    "    Spacing is specified by width.\n",
    "    Adds jitter\n",
    "    \"\"\"\n",
    "    offsets = np.zeros((len(directions), 2))\n",
    "    for idx, direction in enumerate(directions):\n",
    "        print(direction)\n",
    "        offset[idx] = [width * direction[0]  + rnd.randint(-jitter,jitter),\n",
    "                       width * direction[1]  + rnd.randint(-jitter,jitter)]\n",
    "    return offsets"
   ]
  },
  {
   "cell_type": "code",
   "execution_count": 185,
   "metadata": {},
   "outputs": [],
   "source": [
    "y = gt[np.round(patch_meta[:,0] / scale).astype(int), np.round(patch_meta[:,1] / scale).astype(int)]"
   ]
  },
  {
   "cell_type": "code",
   "execution_count": 206,
   "metadata": {},
   "outputs": [],
   "source": [
    "out = np.ones((image.shape[0], image.shape[1], 1), dtype=gt.dtype)\n",
    "for x,y, snum in patch_meta[:10]:\n",
    "    spixel = np.where(segments == snum)"
   ]
  },
  {
   "cell_type": "code",
   "execution_count": 207,
   "metadata": {},
   "outputs": [
    {
     "data": {
      "text/plain": [
       "<matplotlib.image.AxesImage at 0x7f08b5cedeb8>"
      ]
     },
     "execution_count": 207,
     "metadata": {},
     "output_type": "execute_result"
    },
    {
     "data": {
      "image/png": "[encoded data removed]",
      "text/plain": [
       "<matplotlib.figure.Figure at 0x7f08b5f1ee10>"
      ]
     },
     "metadata": {},
     "output_type": "display_data"
    }
   ],
   "source": [
    "plt.imshow(diva.color_gt(gt))"
   ]
  },
  {
   "cell_type": "code",
   "execution_count": null,
   "metadata": {},
   "outputs": [],
   "source": []
  }
 ],
 "metadata": {
  "kernelspec": {
   "display_name": "Python 3",
   "language": "python",
   "name": "python3"
  },
  "language_info": {
   "codemirror_mode": {
    "name": "ipython",
    "version": 3
   },
   "file_extension": ".py",
   "mimetype": "text/x-python",
   "name": "python",
   "nbconvert_exporter": "python",
   "pygments_lexer": "ipython3",
   "version": "3.6.4"
  }
 },
 "nbformat": 4,
 "nbformat_minor": 2
}
