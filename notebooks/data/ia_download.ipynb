{
 "cells": [
  {
   "cell_type": "code",
   "execution_count": 3,
   "metadata": {},
   "outputs": [],
   "source": [
    "import internetarchive as ia\n",
    "import pandas as pd\n",
    "import itertools as it\n",
    "from toolz import pluck, filter, map, take\n",
    "import toolz\n",
    "import os\n",
    "from pathlib import Path\n",
    "import json\n",
    "from glob import glob\n",
    "from zipfile import ZipFile, BadZipFile"
   ]
  },
  {
   "cell_type": "code",
   "execution_count": 4,
   "metadata": {},
   "outputs": [
    {
     "ename": "FileNotFoundError",
     "evalue": "[Errno 2] No such file or directory: '/home/jakob/.thesis.conf'",
     "output_type": "error",
     "traceback": [
      "\u001b[0;31m---------------------------------------------------------------------------\u001b[0m",
      "\u001b[0;31mFileNotFoundError\u001b[0m                         Traceback (most recent call last)",
      "\u001b[0;32m<ipython-input-4-0f035765d7be>\u001b[0m in \u001b[0;36m<module>\u001b[0;34m()\u001b[0m\n\u001b[0;32m----> 1\u001b[0;31m \u001b[0mconfig\u001b[0m \u001b[0;34m=\u001b[0m \u001b[0mjson\u001b[0m\u001b[0;34m.\u001b[0m\u001b[0mload\u001b[0m\u001b[0;34m(\u001b[0m\u001b[0mopen\u001b[0m\u001b[0;34m(\u001b[0m\u001b[0mos\u001b[0m\u001b[0;34m.\u001b[0m\u001b[0mpath\u001b[0m\u001b[0;34m.\u001b[0m\u001b[0mexpanduser\u001b[0m\u001b[0;34m(\u001b[0m\u001b[0;34m\"~/.thesis.conf\"\u001b[0m\u001b[0;34m)\u001b[0m\u001b[0;34m)\u001b[0m\u001b[0;34m)\u001b[0m\u001b[0;34m\u001b[0m\u001b[0m\n\u001b[0m\u001b[1;32m      2\u001b[0m \u001b[0mdb_folder\u001b[0m \u001b[0;34m=\u001b[0m \u001b[0mPath\u001b[0m\u001b[0;34m(\u001b[0m\u001b[0mconfig\u001b[0m\u001b[0;34m[\u001b[0m\u001b[0;34m'datasets'\u001b[0m\u001b[0;34m]\u001b[0m\u001b[0;34m)\u001b[0m \u001b[0;34m/\u001b[0m \u001b[0mPath\u001b[0m\u001b[0;34m(\u001b[0m\u001b[0;34m\"archive_org/\"\u001b[0m\u001b[0;34m)\u001b[0m\u001b[0;34m\u001b[0m\u001b[0m\n\u001b[1;32m      3\u001b[0m \u001b[0mos\u001b[0m\u001b[0;34m.\u001b[0m\u001b[0mchdir\u001b[0m\u001b[0;34m(\u001b[0m\u001b[0mstr\u001b[0m\u001b[0;34m(\u001b[0m\u001b[0mdb_folder\u001b[0m\u001b[0;34m)\u001b[0m\u001b[0;34m)\u001b[0m\u001b[0;34m\u001b[0m\u001b[0m\n",
      "\u001b[0;31mFileNotFoundError\u001b[0m: [Errno 2] No such file or directory: '/home/jakob/.thesis.conf'"
     ]
    }
   ],
   "source": [
    "config = json.load(open(os.path.expanduser(\"~/.thesis.conf\")))\n",
    "db_folder = Path(config['datasets']) / Path(\"archive_org/\") \n",
    "os.chdir(str(db_folder))"
   ]
  },
  {
   "cell_type": "code",
   "execution_count": 3,
   "metadata": {},
   "outputs": [],
   "source": [
    "iaformat = [\"Single Page Processed JP2 ZIP\", 'Metadata']"
   ]
  },
  {
   "cell_type": "code",
   "execution_count": 4,
   "metadata": {},
   "outputs": [],
   "source": [
    "search = ia.search_items('pages:[20 TO 25] AND (language:eng OR language:\"English\") AND date:[1800-01-01 TO 1967-01-01]')"
   ]
  },
  {
   "cell_type": "code",
   "execution_count": 22,
   "metadata": {},
   "outputs": [],
   "source": [
    "items = list(toolz.take(5,search.iter_as_items()))"
   ]
  },
  {
   "cell_type": "code",
   "execution_count": 23,
   "metadata": {},
   "outputs": [],
   "source": [
    "item = items[2]"
   ]
  },
  {
   "cell_type": "code",
   "execution_count": 26,
   "metadata": {},
   "outputs": [
    {
     "name": "stdout",
     "output_type": "stream",
     "text": [
      "10thPeabodyInstituteLibraryAnnualReport1862: .... - success\n",
      "12thPeabodyInstituteLibraryAnnualReport1864: ...d - success\n",
      "13thPeabodyInstituteLibraryAnnualReport1865: dddd - success\n"
     ]
    }
   ],
   "source": [
    "for item in items[0:3]:\n",
    "    ia.download(item.identifier, formats=iaformat)"
   ]
  },
  {
   "cell_type": "code",
   "execution_count": 8,
   "metadata": {},
   "outputs": [
    {
     "ename": "StopIteration",
     "evalue": "",
     "output_type": "error",
     "traceback": [
      "\u001b[0;31m\u001b[0m",
      "\u001b[0;31mStopIteration\u001b[0mTraceback (most recent call last)",
      "\u001b[0;32m<ipython-input-8-30ea12d0fa64>\u001b[0m in \u001b[0;36m<module>\u001b[0;34m()\u001b[0m\n\u001b[0;32m----> 1\u001b[0;31m \u001b[0mjp2path\u001b[0m \u001b[0;34m=\u001b[0m \u001b[0mPath\u001b[0m\u001b[0;34m(\u001b[0m\u001b[0mitem\u001b[0m\u001b[0;34m.\u001b[0m\u001b[0midentifier\u001b[0m\u001b[0;34m)\u001b[0m \u001b[0;34m/\u001b[0m \u001b[0mPath\u001b[0m\u001b[0;34m(\u001b[0m\u001b[0mnext\u001b[0m\u001b[0;34m(\u001b[0m\u001b[0mpluck\u001b[0m\u001b[0;34m(\u001b[0m\u001b[0;34m'name'\u001b[0m\u001b[0;34m,\u001b[0m\u001b[0mfilter\u001b[0m\u001b[0;34m(\u001b[0m\u001b[0;32mlambda\u001b[0m \u001b[0mfiles\u001b[0m\u001b[0;34m:\u001b[0m \u001b[0mfiles\u001b[0m\u001b[0;34m[\u001b[0m\u001b[0;34m'format'\u001b[0m\u001b[0;34m]\u001b[0m \u001b[0;34m==\u001b[0m \u001b[0miaformat\u001b[0m\u001b[0;34m,\u001b[0m \u001b[0mitem\u001b[0m\u001b[0;34m.\u001b[0m\u001b[0mfiles\u001b[0m\u001b[0;34m)\u001b[0m\u001b[0;34m)\u001b[0m\u001b[0;34m)\u001b[0m\u001b[0;34m)\u001b[0m\u001b[0;34m\u001b[0m\u001b[0m\n\u001b[0m",
      "\u001b[0;31mStopIteration\u001b[0m: "
     ]
    }
   ],
   "source": [
    "jp2path = Path(item.identifier) / Path(next(pluck('name',filter(lambda files: files['format'] == iaformat, item.files))))"
   ]
  },
  {
   "cell_type": "code",
   "execution_count": 5,
   "metadata": {
    "collapsed": false,
    "inputHidden": false,
    "outputHidden": false
   },
   "outputs": [
    {
     "data": {
      "text/plain": [
       "['/Developer/imi-masterarbeit-data/archive_org/10thPeabodyInstituteLibraryAnnualReport1862/10th_Peabody_Institute_Library_Annual_Report_1862_jp2.zip',\n",
       " '/Developer/imi-masterarbeit-data/archive_org/12thPeabodyInstituteLibraryAnnualReport1864/12th_Peabody_Institute_Library_Annual_Report_1864_jp2.zip']"
      ]
     },
     "execution_count": 5,
     "metadata": {},
     "output_type": "execute_result"
    }
   ],
   "source": [
    "zips = glob(str(db_folder / '*' / '*_jp2.zip'))\n",
    "zips"
   ]
  },
  {
   "cell_type": "code",
   "execution_count": 14,
   "metadata": {},
   "outputs": [
    {
     "name": "stdout",
     "output_type": "stream",
     "text": [
      "/Developer/imi-masterarbeit-data/archive_org/10thPeabodyInstituteLibraryAnnualReport1862/10th_Peabody_Institute_Library_Annual_Report_1862_jp2.zip 25\n",
      "/Developer/imi-masterarbeit-data/archive_org/12thPeabodyInstituteLibraryAnnualReport1864/12th_Peabody_Institute_Library_Annual_Report_1864_jp2.zip 27\n"
     ]
    }
   ],
   "source": [
    "for zip in zips:\n",
    "    try:\n",
    "        jp2zip = ZipFile(str(zip))\n",
    "        print(jp2zip.filename, len(jp2zip.namelist()))\n",
    "        jp2zip.extract(jp2zip.namelist()[0])\n",
    "    except BadZipFile:\n",
    "        print('zip error', zip)"
   ]
  },
  {
   "cell_type": "code",
   "execution_count": 11,
   "metadata": {},
   "outputs": [
    {
     "data": {
      "text/plain": [
       "['12th_Peabody_Institute_Library_Annual_Report_1864_jp2/',\n",
       " '12th_Peabody_Institute_Library_Annual_Report_1864_jp2/12th_Peabody_Institute_Library_Annual_Report_1864_0023.jp2',\n",
       " '12th_Peabody_Institute_Library_Annual_Report_1864_jp2/12th_Peabody_Institute_Library_Annual_Report_1864_0014.jp2',\n",
       " '12th_Peabody_Institute_Library_Annual_Report_1864_jp2/12th_Peabody_Institute_Library_Annual_Report_1864_0002.jp2',\n",
       " '12th_Peabody_Institute_Library_Annual_Report_1864_jp2/12th_Peabody_Institute_Library_Annual_Report_1864_0019.jp2',\n",
       " '12th_Peabody_Institute_Library_Annual_Report_1864_jp2/12th_Peabody_Institute_Library_Annual_Report_1864_0015.jp2',\n",
       " '12th_Peabody_Institute_Library_Annual_Report_1864_jp2/12th_Peabody_Institute_Library_Annual_Report_1864_0013.jp2',\n",
       " '12th_Peabody_Institute_Library_Annual_Report_1864_jp2/12th_Peabody_Institute_Library_Annual_Report_1864_0010.jp2',\n",
       " '12th_Peabody_Institute_Library_Annual_Report_1864_jp2/12th_Peabody_Institute_Library_Annual_Report_1864_0020.jp2',\n",
       " '12th_Peabody_Institute_Library_Annual_Report_1864_jp2/12th_Peabody_Institute_Library_Annual_Report_1864_0004.jp2',\n",
       " '12th_Peabody_Institute_Library_Annual_Report_1864_jp2/12th_Peabody_Institute_Library_Annual_Report_1864_0007.jp2',\n",
       " '12th_Peabody_Institute_Library_Annual_Report_1864_jp2/12th_Peabody_Institute_Library_Annual_Report_1864_0005.jp2',\n",
       " '12th_Peabody_Institute_Library_Annual_Report_1864_jp2/12th_Peabody_Institute_Library_Annual_Report_1864_0018.jp2',\n",
       " '12th_Peabody_Institute_Library_Annual_Report_1864_jp2/12th_Peabody_Institute_Library_Annual_Report_1864_0000.jp2',\n",
       " '12th_Peabody_Institute_Library_Annual_Report_1864_jp2/12th_Peabody_Institute_Library_Annual_Report_1864_0008.jp2',\n",
       " '12th_Peabody_Institute_Library_Annual_Report_1864_jp2/12th_Peabody_Institute_Library_Annual_Report_1864_0021.jp2',\n",
       " '12th_Peabody_Institute_Library_Annual_Report_1864_jp2/12th_Peabody_Institute_Library_Annual_Report_1864_0006.jp2',\n",
       " '12th_Peabody_Institute_Library_Annual_Report_1864_jp2/12th_Peabody_Institute_Library_Annual_Report_1864_0016.jp2',\n",
       " '12th_Peabody_Institute_Library_Annual_Report_1864_jp2/12th_Peabody_Institute_Library_Annual_Report_1864_0022.jp2',\n",
       " '12th_Peabody_Institute_Library_Annual_Report_1864_jp2/12th_Peabody_Institute_Library_Annual_Report_1864_0025.jp2',\n",
       " '12th_Peabody_Institute_Library_Annual_Report_1864_jp2/12th_Peabody_Institute_Library_Annual_Report_1864_0024.jp2',\n",
       " '12th_Peabody_Institute_Library_Annual_Report_1864_jp2/12th_Peabody_Institute_Library_Annual_Report_1864_0011.jp2',\n",
       " '12th_Peabody_Institute_Library_Annual_Report_1864_jp2/12th_Peabody_Institute_Library_Annual_Report_1864_0003.jp2',\n",
       " '12th_Peabody_Institute_Library_Annual_Report_1864_jp2/12th_Peabody_Institute_Library_Annual_Report_1864_0012.jp2',\n",
       " '12th_Peabody_Institute_Library_Annual_Report_1864_jp2/12th_Peabody_Institute_Library_Annual_Report_1864_0001.jp2',\n",
       " '12th_Peabody_Institute_Library_Annual_Report_1864_jp2/12th_Peabody_Institute_Library_Annual_Report_1864_0009.jp2',\n",
       " '12th_Peabody_Institute_Library_Annual_Report_1864_jp2/12th_Peabody_Institute_Library_Annual_Report_1864_0017.jp2']"
      ]
     },
     "execution_count": 11,
     "metadata": {},
     "output_type": "execute_result"
    }
   ],
   "source": [
    "jp2zip.namelist()"
   ]
  },
  {
   "cell_type": "code",
   "execution_count": 14,
   "metadata": {},
   "outputs": [],
   "source": []
  },
  {
   "cell_type": "code",
   "execution_count": null,
   "metadata": {},
   "outputs": [],
   "source": []
  }
 ],
 "metadata": {
  "kernel_info": {
   "name": "ml-software"
  },
  "kernelspec": {
   "display_name": "Python 3",
   "language": "python",
   "name": "python3"
  },
  "language_info": {
   "codemirror_mode": {
    "name": "ipython",
    "version": 3
   },
   "file_extension": ".py",
   "mimetype": "text/x-python",
   "name": "python",
   "nbconvert_exporter": "python",
   "pygments_lexer": "ipython3",
   "version": "3.6.4"
  },
  "nteract": {
   "version": "0.5.5"
  }
 },
 "nbformat": 4,
 "nbformat_minor": 2
}
