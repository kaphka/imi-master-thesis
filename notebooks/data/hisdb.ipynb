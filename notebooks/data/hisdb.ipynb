{
 "cells": [
  {
   "cell_type": "code",
   "execution_count": 3,
   "metadata": {},
   "outputs": [],
   "source": [
    "import torch\n",
    "import torch.utils.data\n",
    "import torchvision\n",
    "from glob import glob\n",
    "import json\n",
    "import os\n",
    "from pathlib import Path\n",
    "import random\n",
    "from PIL import Image\n",
    "from zipfile import ZipFile"
   ]
  },
  {
   "cell_type": "code",
   "execution_count": null,
   "metadata": {},
   "outputs": [],
   "source": []
  },
  {
   "cell_type": "code",
   "execution_count": 2,
   "metadata": {},
   "outputs": [],
   "source": [
    "config = json.load(open(os.path.expanduser(\"~/.thesis.conf\")))\n",
    "db_folder = Path(config['datasets']) / Path(\"hisdb/\") \n",
    "os.chdir(str(db_folder))"
   ]
  },
  {
   "cell_type": "code",
   "execution_count": 54,
   "metadata": {},
   "outputs": [
    {
     "data": {
      "text/plain": [
       "('/media/jakob/bigdata/datasets/hisdb/CB55/img/training/e-codices_fmb-cb-0055_0084r_max.jpg',\n",
       " '/media/jakob/bigdata/datasets/hisdb/CB55/pixel-level-gt/training/e-codices_fmb-cb-0055_0084r_max.png')"
      ]
     },
     "execution_count": 54,
     "metadata": {},
     "output_type": "execute_result"
    }
   ],
   "source": [
    "class HisDBDataset(torch.utils.data.Dataset):\n",
    "    setnames = ['CB55', 'CS18', 'CS863']\n",
    "    def unzip(self, zippath, outpath):\n",
    "        assert zippath.exists()\n",
    "        assert outpath.exists()\n",
    "        zipfile = ZipFile(str(zippath))\n",
    "        # TODO: unzip\n",
    "    \n",
    "    def gtpath(self, p):\n",
    "        if isinstance(p, str):\n",
    "            p = Path(p)\n",
    "        return p.parents[2] / 'pixel-level-gt' / 'training' / (p.stem + '.png')\n",
    "    \n",
    "    def __init__(self, path, transform=None, download=True, train=True, gt=False):\n",
    "        self.gt = gt\n",
    "        for setname in self.setnames:\n",
    "            folder = path / setname\n",
    "            folder.mkdir(exist_ok=True)\n",
    "            images = path / 'img-{}.zip'.format(setname)\n",
    "            imagesgt = path / 'pixel-level-gt-{}.zip'.format(setname)\n",
    "            self.unzip(images, folder)\n",
    "            self.unzip(imagesgt, folder)\n",
    "        if train:\n",
    "            split = 'training'\n",
    "        else: \n",
    "            split = 'validation'\n",
    "            \n",
    "        self.paths = glob(str(path / '*' / 'img' / split / '*.jpg'))\n",
    "        \n",
    "        \n",
    "    def __len__(self):\n",
    "        return len(self.paths)\n",
    "\n",
    "    def __getitem__(self, index):\n",
    "        assert index < len(self)\n",
    "#         img = Image.open(self.jp2[index])\n",
    "#         if self.transform:\n",
    "#             img = self.transform(img)\n",
    "        if self.gt:\n",
    "            return self.paths[index], str(self.gtpath(self.paths[index]))\n",
    "        return self.paths[index]\n",
    "\n",
    "hisdb = HisDBDataset(db_folder, gt=True)\n",
    "hisdb[0]"
   ]
  },
  {
   "cell_type": "code",
   "execution_count": 25,
   "metadata": {},
   "outputs": [
    {
     "data": {
      "text/plain": [
       "'hisdb'"
      ]
     },
     "execution_count": 25,
     "metadata": {},
     "output_type": "execute_result"
    }
   ],
   "source": [
    "db_folder.name"
   ]
  },
  {
   "cell_type": "code",
   "execution_count": 26,
   "metadata": {},
   "outputs": [],
   "source": [
    "p = Path('/media/jakob/bigdata/datasets/hisdb/CB55/img/training/e-codices_fmb-cb-0055_0084r_max.jpg')"
   ]
  },
  {
   "cell_type": "code",
   "execution_count": 44,
   "metadata": {},
   "outputs": [],
   "source": [
    "gt = p.parents[2] / 'pixel-level-gt' / 'training' / (p.stem + '.png')"
   ]
  },
  {
   "cell_type": "code",
   "execution_count": 46,
   "metadata": {},
   "outputs": [
    {
     "data": {
      "text/plain": [
       "True"
      ]
     },
     "execution_count": 46,
     "metadata": {},
     "output_type": "execute_result"
    }
   ],
   "source": [
    "gt.exists()"
   ]
  },
  {
   "cell_type": "code",
   "execution_count": null,
   "metadata": {},
   "outputs": [],
   "source": []
  }
 ],
 "metadata": {
  "kernelspec": {
   "display_name": "Python 3",
   "language": "python",
   "name": "python3"
  },
  "language_info": {
   "codemirror_mode": {
    "name": "ipython",
    "version": 3
   },
   "file_extension": ".py",
   "mimetype": "text/x-python",
   "name": "python",
   "nbconvert_exporter": "python",
   "pygments_lexer": "ipython3",
   "version": "3.6.4"
  }
 },
 "nbformat": 4,
 "nbformat_minor": 2
}
