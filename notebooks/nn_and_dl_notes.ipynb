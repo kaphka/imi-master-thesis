{
 "cells": [
  {
   "cell_type": "markdown",
   "metadata": {},
   "source": [
    "## Artifical Neurons"
   ]
  },
  {
   "cell_type": "markdown",
   "metadata": {},
   "source": [
    "1. Idea Perceptron by https://en.wikipedia.org/wiki/Frank_Rosenblatt\n"
   ]
  },
  {
   "cell_type": "code",
   "execution_count": 61,
   "metadata": {},
   "outputs": [],
   "source": [
    "import numpy as np\n",
    "class Perceptron():\n",
    "    def __init__(self, n_inputs=1, W=None, T=None):\n",
    "        if W:\n",
    "            self.setWeights(W)\n",
    "        else:\n",
    "            self.setWeights(np.random.random(n_inputs))\n",
    "        if T:\n",
    "            self.setThreshold(T)\n",
    "        else:\n",
    "            self.setThreshold()\n",
    "    def setWeights(self,W):\n",
    "        self.W = W\n",
    "    def setThreshold(self, t=0.5):\n",
    "        self.threshold = t\n",
    "    def compute(self, X):\n",
    "        return 0 if np.sum(self.W*X) <= self.threshold else 1\n",
    "    def __str__(self):\n",
    "        return '({}, {})'.format(self.W,self.threshold)\n",
    "    def __repr__(self):\n",
    "        return self.__str__()"
   ]
  },
  {
   "cell_type": "code",
   "execution_count": 62,
   "metadata": {},
   "outputs": [
    {
     "data": {
      "text/plain": [
       "1"
      ]
     },
     "execution_count": 62,
     "metadata": {},
     "output_type": "execute_result"
    }
   ],
   "source": [
    "p = Perceptron(n_inputs = 5)\n",
    "X = np.random.randint(0,2,5) # Inputs\n",
    "\n",
    "output = p.compute(X) #Output\n",
    "output"
   ]
  },
  {
   "cell_type": "code",
   "execution_count": 63,
   "metadata": {},
   "outputs": [],
   "source": [
    "class Layer():\n",
    "    def __init__(self, size=1, n_inputs=1):\n",
    "        self.neurons = [Perceptron(n_inputs=n_inputs) for idx in range(size)]\n",
    "class FullyConNetwork():\n",
    "    def __init__(self, layer_sizes = [1]):\n",
    "        net = [Layer(size=size)]"
   ]
  },
  {
   "cell_type": "code",
   "execution_count": 64,
   "metadata": {},
   "outputs": [
    {
     "data": {
      "text/plain": [
       "[([ 0.37636583  0.74157648  0.22538758], 0.5),\n",
       " ([ 0.45916756  0.48926804  0.69354873], 0.5),\n",
       " ([ 0.54962299  0.87215521  0.72922224], 0.5),\n",
       " ([ 0.39766685  0.89657974  0.40102437], 0.5),\n",
       " ([ 0.91376205  0.7589144   0.88074115], 0.5)]"
      ]
     },
     "execution_count": 64,
     "metadata": {},
     "output_type": "execute_result"
    }
   ],
   "source": [
    "Layer(size=5, n_inputs=3).neurons"
   ]
  },
  {
   "cell_type": "markdown",
   "metadata": {},
   "source": [
    "## Pytorch"
   ]
  },
  {
   "cell_type": "code",
   "execution_count": 71,
   "metadata": {},
   "outputs": [],
   "source": [
    "import torch\n",
    "x = torch.autograd.Variable(torch.ones((1,1,5,5)))\n",
    "linear = torch.nn.Linear(5,1)"
   ]
  },
  {
   "cell_type": "code",
   "execution_count": 58,
   "metadata": {},
   "outputs": [],
   "source": [
    "out = linear(x)\n",
    "s = out.sum()\n",
    "s\n",
    "s.backward()"
   ]
  },
  {
   "cell_type": "code",
   "execution_count": 60,
   "metadata": {},
   "outputs": [],
   "source": [
    "out.grad"
   ]
  },
  {
   "cell_type": "code",
   "execution_count": 36,
   "metadata": {},
   "outputs": [
    {
     "data": {
      "text/plain": [
       "Variable containing:\n",
       "-0.1071 -0.2564  0.2320 -0.2722  0.1495\n",
       "[torch.FloatTensor of size 1x5]"
      ]
     },
     "execution_count": 36,
     "metadata": {},
     "output_type": "execute_result"
    }
   ],
   "source": [
    "linear.weight * x[0,:] "
   ]
  },
  {
   "cell_type": "code",
   "execution_count": 34,
   "metadata": {},
   "outputs": [
    {
     "data": {
      "text/plain": [
       "Variable containing:\n",
       " 1\n",
       " 1\n",
       " 1\n",
       " 1\n",
       " 1\n",
       "[torch.FloatTensor of size 5]"
      ]
     },
     "execution_count": 34,
     "metadata": {},
     "output_type": "execute_result"
    }
   ],
   "source": [
    "torch.dot()"
   ]
  },
  {
   "cell_type": "code",
   "execution_count": 83,
   "metadata": {},
   "outputs": [],
   "source": [
    "conv = torch.nn.Conv2d(1,1,3)\n",
    "p = torch.nn.ConstantPad2d(1,0)"
   ]
  },
  {
   "cell_type": "code",
   "execution_count": 80,
   "metadata": {},
   "outputs": [
    {
     "data": {
      "text/plain": [
       "torch.Size([4, 3, 3, 3])"
      ]
     },
     "execution_count": 80,
     "metadata": {},
     "output_type": "execute_result"
    }
   ],
   "source": [
    "conv.weight.shape"
   ]
  },
  {
   "cell_type": "code",
   "execution_count": 86,
   "metadata": {},
   "outputs": [
    {
     "data": {
      "text/plain": [
       "Variable containing:\n",
       "(0 ,0 ,.,.) = \n",
       "  0.5781  0.5782  0.5695  0.3779  0.1072\n",
       " -0.0283 -0.1303 -0.1384 -0.1892 -0.1362\n",
       "  0.1796  0.1487  0.1518  0.0636  0.0036\n",
       " -0.0053 -0.0938 -0.1019 -0.1266 -0.0865\n",
       " -0.1844 -0.2537 -0.2388 -0.1922 -0.0743\n",
       "[torch.FloatTensor of size 1x1x5x5]"
      ]
     },
     "execution_count": 86,
     "metadata": {},
     "output_type": "execute_result"
    }
   ],
   "source": [
    "conv(p(conv(p(x))))"
   ]
  },
  {
   "cell_type": "code",
   "execution_count": null,
   "metadata": {},
   "outputs": [],
   "source": []
  }
 ],
 "metadata": {
  "kernelspec": {
   "display_name": "Python 3",
   "language": "python",
   "name": "python3"
  },
  "language_info": {
   "codemirror_mode": {
    "name": "ipython",
    "version": 3
   },
   "file_extension": ".py",
   "mimetype": "text/x-python",
   "name": "python",
   "nbconvert_exporter": "python",
   "pygments_lexer": "ipython3",
   "version": "3.5.1"
  }
 },
 "nbformat": 4,
 "nbformat_minor": 2
}
