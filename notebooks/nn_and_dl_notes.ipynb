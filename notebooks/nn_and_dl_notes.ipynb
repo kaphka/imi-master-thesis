{
 "cells": [
  {
   "cell_type": "markdown",
   "metadata": {},
   "source": [
    "## Artifical Neurons"
   ]
  },
  {
   "cell_type": "markdown",
   "metadata": {},
   "source": [
    "1. Idea Perceptron by https://en.wikipedia.org/wiki/Frank_Rosenblatt\n"
   ]
  },
  {
   "cell_type": "code",
   "execution_count": 61,
   "metadata": {},
   "outputs": [],
   "source": [
    "import numpy as np\n",
    "class Perceptron():\n",
    "    def __init__(self, n_inputs=1, W=None, T=None):\n",
    "        if W:\n",
    "            self.setWeights(W)\n",
    "        else:\n",
    "            self.setWeights(np.random.random(n_inputs))\n",
    "        if T:\n",
    "            self.setThreshold(T)\n",
    "        else:\n",
    "            self.setThreshold()\n",
    "    def setWeights(self,W):\n",
    "        self.W = W\n",
    "    def setThreshold(self, t=0.5):\n",
    "        self.threshold = t\n",
    "    def compute(self, X):\n",
    "        return 0 if np.sum(self.W*X) <= self.threshold else 1\n",
    "    def __str__(self):\n",
    "        return '({}, {})'.format(self.W,self.threshold)\n",
    "    def __repr__(self):\n",
    "        return self.__str__()"
   ]
  },
  {
   "cell_type": "code",
   "execution_count": 62,
   "metadata": {},
   "outputs": [
    {
     "data": {
      "text/plain": [
       "1"
      ]
     },
     "execution_count": 62,
     "metadata": {},
     "output_type": "execute_result"
    }
   ],
   "source": [
    "p = Perceptron(n_inputs = 5)\n",
    "X = np.random.randint(0,2,5) # Inputs\n",
    "\n",
    "output = p.compute(X) #Output\n",
    "output"
   ]
  },
  {
   "cell_type": "code",
   "execution_count": 63,
   "metadata": {},
   "outputs": [],
   "source": [
    "class Layer():\n",
    "    def __init__(self, size=1, n_inputs=1):\n",
    "        self.neurons = [Perceptron(n_inputs=n_inputs) for idx in range(size)]\n",
    "class FullyConNetwork():\n",
    "    def __init__(self, layer_sizes = [1]):\n",
    "        net = [Layer(size=size)]"
   ]
  },
  {
   "cell_type": "code",
   "execution_count": 64,
   "metadata": {},
   "outputs": [
    {
     "data": {
      "text/plain": [
       "[([ 0.37636583  0.74157648  0.22538758], 0.5),\n",
       " ([ 0.45916756  0.48926804  0.69354873], 0.5),\n",
       " ([ 0.54962299  0.87215521  0.72922224], 0.5),\n",
       " ([ 0.39766685  0.89657974  0.40102437], 0.5),\n",
       " ([ 0.91376205  0.7589144   0.88074115], 0.5)]"
      ]
     },
     "execution_count": 64,
     "metadata": {},
     "output_type": "execute_result"
    }
   ],
   "source": [
    "Layer(size=5, n_inputs=3).neurons"
   ]
  },
  {
   "cell_type": "code",
   "execution_count": null,
   "metadata": {
    "collapsed": true
   },
   "outputs": [],
   "source": []
  }
 ],
 "metadata": {
  "kernelspec": {
   "display_name": "Python 3",
   "language": "python",
   "name": "python3"
  },
  "language_info": {
   "codemirror_mode": {
    "name": "ipython",
    "version": 3
   },
   "file_extension": ".py",
   "mimetype": "text/x-python",
   "name": "python",
   "nbconvert_exporter": "python",
   "pygments_lexer": "ipython3",
   "version": "3.5.1"
  }
 },
 "nbformat": 4,
 "nbformat_minor": 1
}
