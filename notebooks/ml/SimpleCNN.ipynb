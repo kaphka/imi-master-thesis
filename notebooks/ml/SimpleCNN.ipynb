{
 "cells": [
  {
   "cell_type": "code",
   "execution_count": 16,
   "metadata": {},
   "outputs": [],
   "source": [
    "import torch\n",
    "if torch.cuda.is_available():\n",
    "    import torch.cuda as t\n",
    "else:\n",
    "    import torch as t\n",
    "    \n",
    "from   torch.autograd import Variable\n",
    "import torch.nn as nn\n",
    "import torch.nn.functional as F\n",
    "\n",
    "import torch.optim as optim\n",
    "import torchvision\n",
    "import torchvision.transforms as transforms"
   ]
  },
  {
   "cell_type": "code",
   "execution_count": 2,
   "metadata": {},
   "outputs": [],
   "source": [
    "import json, os\n",
    "from pathlib import Path"
   ]
  },
  {
   "cell_type": "code",
   "execution_count": 3,
   "metadata": {},
   "outputs": [],
   "source": [
    "class SimpleCNN(nn.Module):\n",
    "    def __init__(self, n_classes=2, kernels=4, layers=1, max_pool_size=0):\n",
    "        super(SimpleCNN, self).__init__()\n",
    "        self.conv = nn.Sequential()\n",
    "        in_channels = 1\n",
    "        out_channels = kernels\n",
    "        for n in range(layers):\n",
    "            self.conv.add_module('conv'+str(n), nn.Conv2d(in_channels, out_channels, 3))\n",
    "            in_channels = out_channels\n",
    "            out_channels += 2\n",
    "        self.maxpool = nn.MaxPool2d(max_pool_size)\n",
    "        self.dropout = nn.Dropout()\n",
    "        self.out_dim = (out_channels -2) * ((28-layers * 2 )**2)\n",
    "        \n",
    "        self.fc1 = nn.Linear(self.out_dim,100)\n",
    "        self.fc2 = nn.Linear(100, n_classes)\n",
    "            \n",
    "        \n",
    "    def forward(self, x):\n",
    "        x = self.conv(x)\n",
    "        x = F.relu(x)\n",
    "        x = self.dropout(x)\n",
    "        x = x.view(-1,self.out_dim)\n",
    "        x = self.fc1(x)\n",
    "        x = F.relu(x)\n",
    "        x = self.fc2(x)\n",
    "        x = F.softmax(x, dim=1)\n",
    "        return x"
   ]
  },
  {
   "cell_type": "code",
   "execution_count": null,
   "metadata": {},
   "outputs": [],
   "source": []
  },
  {
   "cell_type": "code",
   "execution_count": 4,
   "metadata": {},
   "outputs": [],
   "source": [
    "# s = nn.Sequential()\n",
    "# net.conv.add_module('conv2', nconv)"
   ]
  },
  {
   "cell_type": "code",
   "execution_count": 5,
   "metadata": {},
   "outputs": [
    {
     "data": {
      "text/plain": [
       "<bound method Module.children of Sequential(\n",
       "  (conv0): Conv2d(1, 10, kernel_size=(3, 3), stride=(1, 1))\n",
       "  (conv1): Conv2d(10, 12, kernel_size=(3, 3), stride=(1, 1))\n",
       ")>"
      ]
     },
     "execution_count": 5,
     "metadata": {},
     "output_type": "execute_result"
    }
   ],
   "source": [
    "\n",
    "# for data in testloader:\n",
    "#     images, labels = data\n",
    "net = SimpleCNN(n_classes=10,layers=2,kernels=10)\n",
    "net.conv.children"
   ]
  },
  {
   "cell_type": "code",
   "execution_count": 6,
   "metadata": {},
   "outputs": [],
   "source": [
    "config = json.load(open(os.path.expanduser(\"~/.thesis.conf\")))\n",
    "root = Path(config['datasets']) / Path(\"MNIST/\") \n",
    "transform = transforms.Compose(\n",
    "    [transforms.ToTensor(),\n",
    "     transforms.Normalize((0.5, 0.5, 0.5), (0.5, 0.5, 0.5))])\n",
    "mnist_set = torchvision.datasets.MNIST(str(root),train=True, download=True, transform=transform)\n",
    "trainloader = torch.utils.data.DataLoader(mnist_set, batch_size=25,\n",
    "                                          shuffle=True, num_workers=2)\n",
    "testset = torchvision.datasets.MNIST(str(root), train=False,\n",
    "                                       download=True, transform=transform)\n",
    "testloader = torch.utils.data.DataLoader(testset, batch_size=4,\n",
    "                                         shuffle=False, num_workers=2)\n",
    "\n",
    "dataiter = iter(trainloader)\n",
    "images, label = dataiter.next()"
   ]
  },
  {
   "cell_type": "code",
   "execution_count": 7,
   "metadata": {},
   "outputs": [
    {
     "data": {
      "text/plain": [
       "torchvision.datasets.mnist.MNIST"
      ]
     },
     "execution_count": 7,
     "metadata": {},
     "output_type": "execute_result"
    }
   ],
   "source": [
    "type(mnist_set)"
   ]
  },
  {
   "cell_type": "code",
   "execution_count": 8,
   "metadata": {},
   "outputs": [],
   "source": [
    "net = SimpleCNN(10,layers=3)#.cuda()\n",
    "criterion = nn.CrossEntropyLoss()\n",
    "optimizer = optim.SGD(net.parameters(), lr=0.001, momentum=0.9)\n",
    "# loss_"
   ]
  },
  {
   "cell_type": "code",
   "execution_count": 9,
   "metadata": {},
   "outputs": [
    {
     "name": "stdout",
     "output_type": "stream",
     "text": [
      "[1,   200] loss: 2.302\n",
      "[1,   400] loss: 2.302\n",
      "[1,   600] loss: 2.301\n",
      "[1,   800] loss: 2.299\n",
      "[1,  1000] loss: 2.297\n",
      "[1,  1200] loss: 2.291\n",
      "[1,  1400] loss: 2.259\n",
      "[1,  1600] loss: 1.982\n",
      "[1,  1800] loss: 1.701\n",
      "[1,  2000] loss: 1.647\n",
      "[1,  2200] loss: 1.633\n",
      "[1,  2400] loss: 1.619\n",
      "Finished Training\n"
     ]
    }
   ],
   "source": [
    "\n",
    "for epoch in range(1):\n",
    "    running_loss = 0.0\n",
    "    for i, data in enumerate(trainloader, 0):\n",
    "        inputs, labels = data\n",
    "        inputs, labels = Variable(inputs), Variable(labels)\n",
    "        \n",
    "        optimizer.zero_grad()\n",
    "        outputs = net(inputs)\n",
    "        loss = criterion(outputs, labels)\n",
    "        loss.backward()\n",
    "        optimizer.step()\n",
    "        running_loss += loss.data[0]\n",
    "        if i % 200 == 199:    # print every 2000 mini-batches\n",
    "            print('[%d, %5d] loss: %.3f' %\n",
    "                  (epoch + 1, i + 1, running_loss / 200))\n",
    "            running_loss = 0.0\n",
    "\n",
    "print('Finished Training')"
   ]
  },
  {
   "cell_type": "code",
   "execution_count": 10,
   "metadata": {},
   "outputs": [
    {
     "name": "stdout",
     "output_type": "stream",
     "text": [
      "Accuracy of the network on the 10000 test images: 86 %\n"
     ]
    }
   ],
   "source": [
    "correct = 0\n",
    "total = 0\n",
    "for data in testloader:\n",
    "    images, labels = data\n",
    "    imgs = Variable(images)#.cuda()\n",
    "    outputs = net(imgs)\n",
    "    _, predicted = torch.max(outputs.data, 1)\n",
    "    total += labels.size(0)\n",
    "    correct += (predicted == labels).sum()\n",
    "    \n",
    "print('Accuracy of the network on the 10000 test images: %d %%' % (\n",
    "    100 * correct / total))"
   ]
  },
  {
   "cell_type": "code",
   "execution_count": 11,
   "metadata": {},
   "outputs": [],
   "source": [
    "from torch.utils.trainer import Trainer\n",
    "from torch.utils.trainer.plugins import Logger, LossMonitor, TimeMonitor, ProgressMonitor, Logger"
   ]
  },
  {
   "cell_type": "code",
   "execution_count": 12,
   "metadata": {},
   "outputs": [],
   "source": [
    "net = SimpleCNN(n_classes=10,layers=2,kernels=10)#.cuda()\n",
    "criterion = nn.CrossEntropyLoss()\n",
    "optimizer = optim.SGD(net.parameters(), lr=0.001, momentum=0.9)\n",
    "\n",
    "trainer = Trainer(net, criterion, optimizer, testloader)\n",
    "trainer.register_plugin(LossMonitor())\n",
    "trainer.register_plugin(TimeMonitor())\n",
    "trainer.register_plugin(ProgressMonitor())\n",
    "trainer.register_plugin(Logger(['loss', 'time'],interval=[(500, 'iteration'), (1, 'epoch')]))"
   ]
  },
  {
   "cell_type": "code",
   "execution_count": 13,
   "metadata": {},
   "outputs": [
    {
     "name": "stdout",
     "output_type": "stream",
     "text": [
      "loss: 2.3276  (2.2334)\ttime: 11ms  (11ms)\n",
      "loss: 1.7972  (1.8273)\ttime: 11ms  (12ms)\n",
      "loss: 1.7502  (1.7211)\ttime: 12ms  (12ms)\n",
      "loss: 1.7988  (1.5839)\ttime: 16ms  (14ms)\n",
      "loss: 1.9491  (1.7229)\ttime: 12ms  (14ms)\n",
      "################################################################################\n",
      "Epoch summary:\n",
      "loss: 1.8918\ttime: 12ms\n",
      "################################################################################\n",
      "loss: 1.6161  (1.6947)\ttime: 14ms  (14ms)\n",
      "loss: 1.7106  (1.6205)\ttime: 15ms  (15ms)\n",
      "loss: 1.7083  (1.5643)\ttime: 13ms  (13ms)\n",
      "loss: 1.5289  (1.5143)\ttime: 13ms  (14ms)\n",
      "loss: 1.8535  (1.6383)\ttime: 14ms  (15ms)\n",
      "################################################################################\n",
      "Epoch summary:\n",
      "loss: 1.6332\ttime: 14ms\n",
      "################################################################################\n",
      "loss: 1.4613  (1.5852)\ttime: 67ms  (30ms)\n",
      "loss: 1.4613  (1.5646)\ttime: 15ms  (14ms)\n",
      "loss: 1.6877  (1.6305)\ttime: 14ms  (14ms)\n",
      "loss: 1.6462  (1.5964)\ttime: 13ms  (13ms)\n",
      "loss: 1.5177  (1.4907)\ttime: 13ms  (14ms)\n",
      "################################################################################\n",
      "Epoch summary:\n",
      "loss: 1.5790\ttime: 14ms\n",
      "################################################################################\n"
     ]
    }
   ],
   "source": [
    "trainer.run(epochs=3)"
   ]
  },
  {
   "cell_type": "code",
   "execution_count": 43,
   "metadata": {},
   "outputs": [
    {
     "data": {
      "text/plain": [
       "{'loss': {'epoch_mean': 1.5414614585240682,\n",
       "  'epoch_stats': (0, 0),\n",
       "  'last': 1.561108946800232,\n",
       "  'log_epoch_fields': ['{epoch_mean:.4f}'],\n",
       "  'log_format': ':.4f',\n",
       "  'log_iter_fields': ['{last:.4f}', ' ({running_avg:.4f})'],\n",
       "  'log_unit': '',\n",
       "  'running_avg': 1.52145434676333},\n",
       " 'progress': {'epoch_size': 2500,\n",
       "  'log_iter_fields': ['{samples_used}/{epoch_size}', '({percent:.2f}%)'],\n",
       "  'percent': 0,\n",
       "  'samples_used': 0},\n",
       " 'time': {'epoch_mean': 9.27558266321818,\n",
       "  'epoch_stats': (0, 0),\n",
       "  'last': 5.194902420043945,\n",
       "  'log_epoch_fields': ['{epoch_mean:.0f}ms'],\n",
       "  'log_format': ':.0f',\n",
       "  'log_iter_fields': ['{last:.0f}ms', ' ({running_avg:.0f}ms)'],\n",
       "  'log_unit': 'ms',\n",
       "  'running_avg': 5.565947944499839}}"
      ]
     },
     "execution_count": 43,
     "metadata": {},
     "output_type": "execute_result"
    }
   ],
   "source": [
    "trainer.stats"
   ]
  },
  {
   "cell_type": "code",
   "execution_count": null,
   "metadata": {},
   "outputs": [],
   "source": []
  }
 ],
 "metadata": {
  "kernelspec": {
   "display_name": "Python 3",
   "language": "python",
   "name": "python3"
  },
  "language_info": {
   "codemirror_mode": {
    "name": "ipython",
    "version": 3
   },
   "file_extension": ".py",
   "mimetype": "text/x-python",
   "name": "python",
   "nbconvert_exporter": "python",
   "pygments_lexer": "ipython3",
   "version": "3.6.4"
  }
 },
 "nbformat": 4,
 "nbformat_minor": 2
}
