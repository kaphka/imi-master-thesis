{
 "cells": [
  {
   "cell_type": "code",
   "execution_count": 2,
   "metadata": {},
   "outputs": [],
   "source": [
    "import torch\n",
    "if torch.cuda.is_available():\n",
    "    import torch.cuda as t\n",
    "else:\n",
    "    import torch as t\n",
    "    \n",
    "from   torch.autograd import Variable\n",
    "import torch.nn as nn\n",
    "import torch.nn.functional as F\n",
    "\n",
    "import torch.optim as optim\n",
    "import torchvision\n",
    "import torchvision.transforms as transforms"
   ]
  },
  {
   "cell_type": "code",
   "execution_count": 2,
   "metadata": {},
   "outputs": [],
   "source": [
    "import json, os\n",
    "from pathlib import Path"
   ]
  },
  {
   "cell_type": "code",
   "execution_count": 3,
   "metadata": {},
   "outputs": [],
   "source": [
    "class SimpleCNN(nn.Module):\n",
    "    def __init__(self, n_classes):\n",
    "        super(SimpleCNN, self).__init__()\n",
    "        self.conv1 = nn.Conv2d(1, 4, 3)\n",
    "        self.dropout = nn.Dropout()    \n",
    "        self.fc1 = nn.Linear(4*26*26,100)\n",
    "        self.fc2 = nn.Linear(100, n_classes)\n",
    "            \n",
    "        \n",
    "    def forward(self, x):\n",
    "        x = self.conv1(x)\n",
    "        x = F.relu(x)\n",
    "        x = self.dropout(x)\n",
    "        x = x.view(-1,4*26*26)\n",
    "        x = self.fc1(x)\n",
    "        x = F.relu(x)\n",
    "        x = self.fc2(x)\n",
    "        x = F.softmax(x, dim=1)\n",
    "        return x"
   ]
  },
  {
   "cell_type": "code",
   "execution_count": 4,
   "metadata": {},
   "outputs": [],
   "source": [
    "config = json.load(open(os.path.expanduser(\"~/.thesis.conf\")))\n",
    "root = Path(config['datasets']) / Path(\"MNIST/\") \n",
    "transform = transforms.Compose(\n",
    "    [transforms.ToTensor(),\n",
    "     transforms.Normalize((0.5, 0.5, 0.5), (0.5, 0.5, 0.5))])\n",
    "mnist_set = torchvision.datasets.MNIST(str(root),train=True, download=True, transform=transform)\n",
    "trainloader = torch.utils.data.DataLoader(mnist_set, batch_size=25,\n",
    "                                          shuffle=True, num_workers=2)\n",
    "testset = torchvision.datasets.MNIST(str(root), train=False,\n",
    "                                       download=True, transform=transform)\n",
    "testloader = torch.utils.data.DataLoader(testset, batch_size=4,\n",
    "                                         shuffle=False, num_workers=2)\n",
    "\n",
    "dataiter = iter(trainloader)\n",
    "images, label = dataiter.next()"
   ]
  },
  {
   "cell_type": "code",
   "execution_count": 5,
   "metadata": {},
   "outputs": [
    {
     "data": {
      "text/plain": [
       "torchvision.datasets.mnist.MNIST"
      ]
     },
     "execution_count": 5,
     "metadata": {},
     "output_type": "execute_result"
    }
   ],
   "source": [
    "type(mnist_set)"
   ]
  },
  {
   "cell_type": "code",
   "execution_count": null,
   "metadata": {},
   "outputs": [],
   "source": []
  },
  {
   "cell_type": "code",
   "execution_count": 23,
   "metadata": {},
   "outputs": [
    {
     "name": "stdout",
     "output_type": "stream",
     "text": [
      "[1,   200] loss: 2.302\n",
      "[1,   400] loss: 2.298\n",
      "[1,   600] loss: 2.294\n",
      "[1,   800] loss: 2.281\n",
      "[1,  1000] loss: 2.228\n",
      "[1,  1200] loss: 2.060\n",
      "[1,  1400] loss: 1.892\n",
      "[1,  1600] loss: 1.805\n",
      "[1,  1800] loss: 1.767\n",
      "[1,  2000] loss: 1.726\n",
      "[1,  2200] loss: 1.723\n",
      "[1,  2400] loss: 1.705\n",
      "[2,   200] loss: 1.697\n",
      "[2,   400] loss: 1.682\n",
      "[2,   600] loss: 1.677\n",
      "[2,   800] loss: 1.681\n",
      "[2,  1000] loss: 1.673\n",
      "[2,  1200] loss: 1.679\n",
      "[2,  1400] loss: 1.670\n",
      "[2,  1600] loss: 1.667\n",
      "[2,  1800] loss: 1.669\n",
      "[2,  2000] loss: 1.671\n",
      "[2,  2200] loss: 1.666\n",
      "[2,  2400] loss: 1.667\n",
      "[3,   200] loss: 1.664\n",
      "[3,   400] loss: 1.669\n",
      "[3,   600] loss: 1.654\n",
      "[3,   800] loss: 1.653\n",
      "[3,  1000] loss: 1.654\n",
      "[3,  1200] loss: 1.657\n",
      "[3,  1400] loss: 1.652\n",
      "[3,  1600] loss: 1.653\n",
      "[3,  1800] loss: 1.653\n",
      "[3,  2000] loss: 1.646\n",
      "[3,  2200] loss: 1.658\n",
      "[3,  2400] loss: 1.655\n",
      "Finished Training\n"
     ]
    }
   ],
   "source": [
    "net = SimpleCNN(10).cuda()\n",
    "criterion = nn.CrossEntropyLoss()\n",
    "optimizer = optim.SGD(net.parameters(), lr=0.001, momentum=0.9)\n",
    "loss_\n",
    "for epoch in range(3):\n",
    "    running_loss = 0.0\n",
    "    for i, data in enumerate(trainloader, 0):\n",
    "        inputs, labels = data\n",
    "        inputs, labels = Variable(inputs).cuda(), Variable(labels).cuda()\n",
    "        \n",
    "        optimizer.zero_grad()\n",
    "        outputs = net(inputs)\n",
    "        loss = criterion(outputs, labels)\n",
    "        loss.backward()\n",
    "        optimizer.step()\n",
    "        running_loss += loss.data[0]\n",
    "        if i % 200 == 199:    # print every 2000 mini-batches\n",
    "            print('[%d, %5d] loss: %.3f' %\n",
    "                  (epoch + 1, i + 1, running_loss / 200))\n",
    "            running_loss = 0.0\n",
    "\n",
    "print('Finished Training')"
   ]
  },
  {
   "cell_type": "code",
   "execution_count": 22,
   "metadata": {},
   "outputs": [
    {
     "name": "stdout",
     "output_type": "stream",
     "text": [
      "Accuracy of the network on the 10000 test images: 81 %\n"
     ]
    }
   ],
   "source": [
    "correct = 0\n",
    "total = 0\n",
    "for data in testloader:\n",
    "    images, labels = data\n",
    "    imgs = Variable(images).cuda()\n",
    "    outputs = net(imgs)\n",
    "    _, predicted = torch.max(outputs.data, 1)\n",
    "    total += labels.size(0)\n",
    "    correct += (predicted == labels.cuda()).sum()\n",
    "    \n",
    "print('Accuracy of the network on the 10000 test images: %d %%' % (\n",
    "    100 * correct / total))"
   ]
  },
  {
   "cell_type": "code",
   "execution_count": null,
   "metadata": {},
   "outputs": [],
   "source": []
  }
 ],
 "metadata": {
  "kernelspec": {
   "display_name": "Python 3",
   "language": "python",
   "name": "python3"
  },
  "language_info": {
   "codemirror_mode": {
    "name": "ipython",
    "version": 3
   },
   "file_extension": ".py",
   "mimetype": "text/x-python",
   "name": "python",
   "nbconvert_exporter": "python",
   "pygments_lexer": "ipython3",
   "version": "3.6.4"
  }
 },
 "nbformat": 4,
 "nbformat_minor": 2
}
