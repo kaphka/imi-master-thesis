{
 "cells": [
  {
   "cell_type": "code",
   "execution_count": 1,
   "metadata": {},
   "outputs": [],
   "source": [
    "%matplotlib inline\n",
    "# from IPython.display import Image\n",
    "import matplotlib.pyplot as plt\n",
    "from pathlib import Path\n",
    "from glob import glob\n",
    "import numpy as np\n",
    "import json, os\n",
    "from glob import glob\n",
    "from PIL import Image\n",
    "from tqdm import tnrange, tqdm\n",
    "import time"
   ]
  },
  {
   "cell_type": "code",
   "execution_count": 2,
   "metadata": {},
   "outputs": [],
   "source": [
    "config = json.load(open(os.path.expanduser(\"~/.thesis.conf\")))\n",
    "datasets_path = Path(config['datasets'])\n",
    "dataset_name = '101_ObjectCategories'\n",
    "db_folder = Path(config['datasets']) / dataset_name\n",
    "models_folder = Path(config['models']) \n",
    "modules   = Path(config['project']) / 'src'\n",
    "\n",
    "%load_ext autoreload\n",
    "%autoreload 2\n",
    "import sys\n",
    "sys.path.append(str(modules))"
   ]
  },
  {
   "cell_type": "code",
   "execution_count": 4,
   "metadata": {},
   "outputs": [],
   "source": [
    "import torch\n",
    "import torch.nn as nn\n",
    "import torch.optim as optim\n",
    "import torchvision\n",
    "import torchvision.transforms as transforms\n",
    "from models.simplecnn import SimpleCNN as Model\n",
    "from torchvision.datasets import ImageFolder\n",
    "ext = 'test'\n",
    "save_directory = models_folder / Model.__name__ / (dataset_name + '_{}'.format(ext))\n",
    "os.makedirs(save_directory, exist_ok=True)\n",
    "\n",
    "transform = transforms.Compose(\n",
    "    [transforms.RandomCrop(32),\n",
    "        transforms.ToTensor(),\n",
    "     transforms.Normalize((0.5, 0.5, 0.5), (0.5, 0.5, 0.5))\n",
    "    ])\n",
    "\n",
    "dataset = ImageFolder(db_folder, transform=transform)\n",
    "model = Model(n_classes=101, in_channels=3)"
   ]
  },
  {
   "cell_type": "code",
   "execution_count": 5,
   "metadata": {},
   "outputs": [],
   "source": []
  },
  {
   "cell_type": "code",
   "execution_count": null,
   "metadata": {},
   "outputs": [],
   "source": []
  }
 ],
 "metadata": {
  "kernelspec": {
   "display_name": "Python 3",
   "language": "python",
   "name": "python3"
  },
  "language_info": {
   "codemirror_mode": {
    "name": "ipython",
    "version": 3
   },
   "file_extension": ".py",
   "mimetype": "text/x-python",
   "name": "python",
   "nbconvert_exporter": "python",
   "pygments_lexer": "ipython3",
   "version": "3.6.4"
  }
 },
 "nbformat": 4,
 "nbformat_minor": 2
}
