{
 "cells": [
  {
   "cell_type": "code",
   "execution_count": 1,
   "metadata": {},
   "outputs": [],
   "source": [
    "%matplotlib inline\n",
    "# from IPython.display import Image\n",
    "import matplotlib.pyplot as plt\n",
    "from pathlib import Path\n",
    "from glob import glob\n",
    "import numpy as np\n",
    "import json, os\n",
    "from glob import glob\n",
    "from PIL import Image\n",
    "from tqdm import tnrange, tqdm\n",
    "import time"
   ]
  },
  {
   "cell_type": "code",
   "execution_count": 2,
   "metadata": {},
   "outputs": [],
   "source": [
    "config = json.load(open(os.path.expanduser(\"~/.thesis.conf\")))\n",
    "datasets_path = Path(config['datasets'])\n",
    "dataset_name = '101_ObjectCategories'\n",
    "db_folder = Path(config['datasets']) / dataset_name\n",
    "models_folder = Path(config['models']) \n",
    "modules   = Path(config['project']) / 'src'\n",
    "\n",
    "%load_ext autoreload\n",
    "%autoreload 2\n",
    "import sys\n",
    "sys.path.append(str(modules))"
   ]
  },
  {
   "cell_type": "code",
   "execution_count": 5,
   "metadata": {},
   "outputs": [],
   "source": [
    "import torch\n",
    "import torch.nn as nn\n",
    "import torch.optim as optim\n",
    "import torchvision\n",
    "import torchvision.transforms as transforms\n",
    "from models.chen2017.chennet import ChenNet as Model\n",
    "from torchvision.datasets import ImageFolder\n",
    "ext = 'test'\n",
    "save_directory =models_folder / Model.__name__ / (dataset_name + '_{}'.format(ext))\n",
    "os.makedirs(save_directory, exist_ok=True)\n",
    "\n",
    "transform = transforms.Compose(\n",
    "    [transforms.RandomCrop(32),\n",
    "        transforms.ToTensor(),\n",
    "     transforms.Normalize((0.5, 0.5, 0.5), (0.5, 0.5, 0.5))\n",
    "    ])\n",
    "\n",
    "dataset = ImageFolder(db_folder, transform=transform)\n",
    "# model = Model(n_classes=101, in_channels=3)"
   ]
  },
  {
   "cell_type": "code",
   "execution_count": 6,
   "metadata": {},
   "outputs": [],
   "source": [
    "transform = transforms.Compose(\n",
    "    [\n",
    "        transforms.ToTensor(),\n",
    "     transforms.Normalize((0.5, 0.5, 0.5), (0.5, 0.5, 0.5))\n",
    "    ])\n",
    "mnist_set = torchvision.datasets.MNIST(str(datasets_path/ 'MNIST'),train=True, download=True, transform=transform)\n",
    "train_loader = torch.utils.data.DataLoader(mnist_set, batch_size=32,\n",
    "                                          shuffle=True, num_workers=2)"
   ]
  },
  {
   "cell_type": "code",
   "execution_count": 7,
   "metadata": {},
   "outputs": [
    {
     "name": "stderr",
     "output_type": "stream",
     "text": [
      "/home/jakob/miniconda3/envs/master/lib/python3.6/site-packages/h5py/__init__.py:36: FutureWarning: Conversion of the second argument of issubdtype from `float` to `np.floating` is deprecated. In future, it will be treated as `np.float64 == np.dtype(float).type`.\n",
      "  from ._conv import register_converters as _register_converters\n"
     ]
    }
   ],
   "source": [
    "from inferno.trainers.basic import Trainer"
   ]
  },
  {
   "cell_type": "code",
   "execution_count": 9,
   "metadata": {},
   "outputs": [],
   "source": [
    "loaded = Trainer()\n",
    "loaded = loaded.load(from_directory=str(models_folder/ 'ChenNet' / 'img_folder'/ 'trained' / 'ChenNet2_4_01522949616'), )"
   ]
  },
  {
   "cell_type": "code",
   "execution_count": 11,
   "metadata": {},
   "outputs": [
    {
     "data": {
      "text/plain": [
       "ChenNet(\n",
       "  (conv): Sequential(\n",
       "    (conv0): Conv2d(1, 4, kernel_size=(3, 3), stride=(1, 1))\n",
       "    (ReLU): ReLU(inplace)\n",
       "    (conv1): Conv2d(4, 6, kernel_size=(3, 3), stride=(1, 1))\n",
       "  )\n",
       "  (dropout): Dropout(p=0.7)\n",
       "  (classifier): Sequential(\n",
       "    (0): Dropout(p=0.7)\n",
       "    (1): Linear(in_features=3456, out_features=100, bias=True)\n",
       "    (2): Dropout(p=0.7)\n",
       "    (3): Linear(in_features=100, out_features=64, bias=True)\n",
       "    (4): LogSoftmax()\n",
       "  )\n",
       ")"
      ]
     },
     "execution_count": 11,
     "metadata": {},
     "output_type": "execute_result"
    }
   ],
   "source": [
    "loaded.model"
   ]
  },
  {
   "cell_type": "code",
   "execution_count": null,
   "metadata": {},
   "outputs": [],
   "source": []
  }
 ],
 "metadata": {
  "kernelspec": {
   "display_name": "Python 3",
   "language": "python",
   "name": "python3"
  },
  "language_info": {
   "codemirror_mode": {
    "name": "ipython",
    "version": 3
   },
   "file_extension": ".py",
   "mimetype": "text/x-python",
   "name": "python",
   "nbconvert_exporter": "python",
   "pygments_lexer": "ipython3",
   "version": "3.6.4"
  }
 },
 "nbformat": 4,
 "nbformat_minor": 2
}
