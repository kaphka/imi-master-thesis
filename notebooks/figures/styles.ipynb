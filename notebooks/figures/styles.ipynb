{
 "cells": [
  {
   "cell_type": "code",
   "execution_count": 2,
   "metadata": {},
   "outputs": [],
   "source": [
    "import xml.etree.ElementTree as ET"
   ]
  },
  {
   "cell_type": "code",
   "execution_count": 4,
   "metadata": {},
   "outputs": [],
   "source": [
    "csvg = ET.parse('../../doc/style/doc_colors.svg')"
   ]
  },
  {
   "cell_type": "code",
   "execution_count": 93,
   "metadata": {},
   "outputs": [
    {
     "name": "stderr",
     "output_type": "stream",
     "text": [
      "/Users/jschmolling/anaconda/envs/ml-software/lib/python3.5/site-packages/ipykernel/__main__.py:3: FutureWarning: This search is broken in 1.3 and earlier, and will be fixed in a future version.  If you rely on the current behaviour, change it to './/*[@fill]'\n",
      "  app.launch_new_instance()\n"
     ]
    }
   ],
   "source": [
    "template = \"\\definecolor{%s}{HTML}{%s}\\n\"\n",
    "with open('../../doc/style/colors.tex', 'w') as f:\n",
    "    for e in csvg.findall('//*[@fill]'):\n",
    "        name, fill = e.get('id'), e.get('fill')\n",
    "        if not fill == 'none':\n",
    "            f.write(template % (name.split('_')[1], fill[1:]))"
   ]
  },
  {
   "cell_type": "code",
   "execution_count": 94,
   "metadata": {},
   "outputs": [
    {
     "name": "stdout",
     "output_type": "stream",
     "text": [
      "\\definecolor{emph}{HTML}{5D5E5E}\n",
      "\\definecolor{alternative}{HTML}{083D77}\n",
      "\\definecolor{light}{HTML}{D0E1D4}\n",
      "\\definecolor{signal}{HTML}{F74511}\n",
      "\\definecolor{edge}{HTML}{0C120C}\n"
     ]
    }
   ],
   "source": [
    "!cat ../../doc/style/colors.tex"
   ]
  },
  {
   "cell_type": "code",
   "execution_count": null,
   "metadata": {},
   "outputs": [],
   "source": []
  }
 ],
 "metadata": {
  "kernelspec": {
   "display_name": "Python 3",
   "language": "python",
   "name": "python3"
  },
  "language_info": {
   "codemirror_mode": {
    "name": "ipython",
    "version": 3
   },
   "file_extension": ".py",
   "mimetype": "text/x-python",
   "name": "python",
   "nbconvert_exporter": "python",
   "pygments_lexer": "ipython3",
   "version": "3.5.1"
  }
 },
 "nbformat": 4,
 "nbformat_minor": 2
}
