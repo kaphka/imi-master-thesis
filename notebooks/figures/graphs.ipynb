{
 "cells": [
  {
   "cell_type": "code",
   "execution_count": 50,
   "metadata": {},
   "outputs": [],
   "source": [
    "from graphviz import Digraph\n",
    "import random"
   ]
  },
  {
   "cell_type": "code",
   "execution_count": null,
   "metadata": {},
   "outputs": [],
   "source": [
    "g = Digraph('G',)\n",
    "def layer(dot, text, name=None, shape='square'):\n",
    "    if not name:\n",
    "        name = 'node'\n",
    "    dot.node(name,text)\n",
    "\n",
    "g.attr('node', shape='square')\n",
    "g.attr(compound='true')\n",
    "g.attr(splines='ortho')\n",
    "\n",
    "g.node('I', 'Eingabe X')\n",
    "g.node('y', 'Label Y')\n",
    "\n",
    "g.node('opt', 'Optimierer', constraint='false')\n",
    "g.node('w', 'Gewichte',constraint='false')\n",
    "\n",
    "with g.subgraph(name='net') as c:\n",
    "    print(type(g))\n",
    "    c.node('L', 'Layer')\n",
    "    c.node('yHat', 'Vorhersage Y')\n",
    "\n",
    "    c.edges(['IL',  ('L','yHat')])\n",
    "\n",
    "with g.subgraph(name='eval') as c:    \n",
    "    c.node('lossf', 'Loss Funktion')\n",
    "    c.node('loss', 'Loss Wertung')\n",
    "    c.edge('lossf', 'loss')\n",
    "\n",
    "g.edges([('yHat', 'lossf')])\n",
    "g.edges([('y', 'lossf')])\n",
    "\n",
    "g.edge('loss', 'opt', constraint='false')\n",
    "g.edge('opt', 'w', constraint='false')\n",
    "g.edge('w', 'L')\n",
    "g"
   ]
  },
  {
   "cell_type": "code",
   "execution_count": 80,
   "metadata": {},
   "outputs": [
    {
     "data": {
      "text/plain": [
       "[['a00', 'a01', 'a02', 'a03', 'a04'],\n",
       " ['a10', 'a11', 'a12', 'a13', 'a14'],\n",
       " ['a20', 'a21', 'a22', 'a23', 'a24']]"
      ]
     },
     "execution_count": 80,
     "metadata": {},
     "output_type": "execute_result"
    }
   ],
   "source": [
    "layers = [['a{}{}'.format(idx,jdx) for jdx in range(5)] for idx in range(3) ]\n",
    "layers"
   ]
  },
  {
   "cell_type": "code",
   "execution_count": 81,
   "metadata": {},
   "outputs": [
    {
     "data": {
      "text/plain": [
       "False"
      ]
     },
     "execution_count": 81,
     "metadata": {},
     "output_type": "execute_result"
    }
   ],
   "source": [
    "rnd = random.Random('graph1')\n",
    "rnd.choice([True, False])\n",
    "rnd.choice([True, False])"
   ]
  },
  {
   "cell_type": "code",
   "execution_count": 82,
   "metadata": {},
   "outputs": [
    {
     "ename": "TypeError",
     "evalue": "unsupported operand type(s) for +: 'builtin_function_or_method' and 'dict'",
     "output_type": "error",
     "traceback": [
      "\u001b[0;31m---------------------------------------------------------------------------\u001b[0m",
      "\u001b[0;31mTypeError\u001b[0m                                 Traceback (most recent call last)",
      "\u001b[0;32m<ipython-input-82-00db7009ad08>\u001b[0m in \u001b[0;36m<module>\u001b[0;34m()\u001b[0m\n\u001b[0;32m----> 1\u001b[0;31m \u001b[0minvis_edge_attr\u001b[0m\u001b[0;34m.\u001b[0m\u001b[0mitems\u001b[0m \u001b[0;34m+\u001b[0m \u001b[0mvis_edge_attr\u001b[0m\u001b[0;34m\u001b[0m\u001b[0m\n\u001b[0m",
      "\u001b[0;31mTypeError\u001b[0m: unsupported operand type(s) for +: 'builtin_function_or_method' and 'dict'"
     ]
    }
   ],
   "source": [
    "invis_edge_attr.items + vis_edge_attr"
   ]
  },
  {
   "cell_type": "code",
   "execution_count": 94,
   "metadata": {},
   "outputs": [
    {
     "name": "stdout",
     "output_type": "stream",
     "text": [
      "['a00', 'a01', 'a02', 'a03', 'a04']\n",
      "['a10', 'a11', 'a12', 'a13', 'a14']\n",
      "digraph G {\n",
      "\tgraph [rankdir=LR splines=false]\n",
      "\tsubgraph layer0 {\n",
      "\t\tnode [rank=same shape=circle]\n",
      "\t\tedge [arrowsize=.5 headport=w style=vis tailport=e weight=0.2]\n",
      "\t\ta00\n",
      "\t\ta00 -> a01 [style=invis]\n",
      "\t\ta00 -> a10\n",
      "\t\ta00 -> a11\n",
      "\t\ta00 -> a12\n",
      "\t\ta00 -> a13\n",
      "\t\ta00 -> a14\n",
      "\t\ta01\n",
      "\t\ta01 -> a02 [style=invis]\n",
      "\t\ta01 -> a10\n",
      "\t\ta01 -> a11\n",
      "\t\ta01 -> a12\n",
      "\t\ta01 -> a13\n",
      "\t\ta01 -> a14\n",
      "\t\ta02\n",
      "\t\ta02 -> a03 [style=invis]\n",
      "\t\ta02 -> a10\n",
      "\t\ta02 -> a11\n",
      "\t\ta02 -> a12\n",
      "\t\ta02 -> a13\n",
      "\t\ta02 -> a14\n",
      "\t\ta03\n",
      "\t\ta03 -> a04 [style=invis]\n",
      "\t\ta03 -> a10\n",
      "\t\ta03 -> a11\n",
      "\t\ta03 -> a12\n",
      "\t\ta03 -> a13\n",
      "\t\ta03 -> a14\n",
      "\t\ta04\n",
      "\t\ta04 -> a10\n",
      "\t\ta04 -> a11\n",
      "\t\ta04 -> a12\n",
      "\t\ta04 -> a13\n",
      "\t\ta04 -> a14\n",
      "\t}\n",
      "\tsubgraph layer1 {\n",
      "\t\tnode [rank=same shape=circle]\n",
      "\t\tedge [arrowsize=.5 headport=w style=vis tailport=e weight=0.2]\n",
      "\t\ta10\n",
      "\t\ta10 -> a11 [style=invis]\n",
      "\t\ta10 -> a20\n",
      "\t\ta10 -> a21\n",
      "\t\ta10 -> a22\n",
      "\t\ta10 -> a23\n",
      "\t\ta10 -> a24\n",
      "\t\ta11\n",
      "\t\ta11 -> a12 [style=invis]\n",
      "\t\ta11 -> a20\n",
      "\t\ta11 -> a21\n",
      "\t\ta11 -> a22\n",
      "\t\ta11 -> a23\n",
      "\t\ta11 -> a24\n",
      "\t\ta12\n",
      "\t\ta12 -> a13 [style=invis]\n",
      "\t\ta12 -> a20\n",
      "\t\ta12 -> a21\n",
      "\t\ta12 -> a22\n",
      "\t\ta12 -> a23\n",
      "\t\ta12 -> a24\n",
      "\t\ta13\n",
      "\t\ta13 -> a14 [style=invis]\n",
      "\t\ta13 -> a20\n",
      "\t\ta13 -> a21\n",
      "\t\ta13 -> a22\n",
      "\t\ta13 -> a23\n",
      "\t\ta13 -> a24\n",
      "\t\ta14\n",
      "\t\ta14 -> a20\n",
      "\t\ta14 -> a21\n",
      "\t\ta14 -> a22\n",
      "\t\ta14 -> a23\n",
      "\t\ta14 -> a24\n",
      "\t}\n",
      "}\n"
     ]
    }
   ],
   "source": [
    "rnd = random.Random('graph1')\n",
    "g = Digraph('G',graph_attr={'rankdir': 'LR', 'splines':'false'})\n",
    "\n",
    "layers_attr = {'rank': 'same', 'shape': 'circle'}\n",
    "invis_edge_attr = {'style':'invis'}\n",
    "vis_edge_attr = {'style':'vis', 'tailport':'e', 'headport':'w', 'arrowsize':'.5', 'weight': '0.2'}\n",
    "\n",
    "for i in range(len(layers)-1):\n",
    "    print(layers[i])\n",
    "    # connect layers\n",
    "    with g.subgraph(name='layer{}'.format(i), node_attr=layers_attr, edge_attr=vis_edge_attr) as c:\n",
    "        for j in range(len(layers[i])):\n",
    "            c.node(layers[i][j])\n",
    "            if j < len(layers[i]) - 1:\n",
    "                c.edge(layers[i][j], layers[i][j+1], _attributes=invis_edge_attr)\n",
    "            out_style = {'style':rnd.choice(['invis', 'vis'])}\n",
    "            for idx_con in range(len(layers[i+1])):\n",
    "                c.edge(layers[i][j], layers[i+1][idx_con])\n",
    "            \n",
    "# for ilayer, layer in enumerate(layers):\n",
    "#     # connect layers\n",
    "#     with g.subgraph(name='layer_edge{}'.format(ilayer)) as c:\n",
    "#         for inode in range(len(layer) - 1):        \n",
    "            \n",
    "            \n",
    "print(g.source)"
   ]
  },
  {
   "cell_type": "code",
   "execution_count": 8,
   "metadata": {},
   "outputs": [
    {
     "data": {
      "text/plain": [
       "'a00'"
      ]
     },
     "execution_count": 8,
     "metadata": {},
     "output_type": "execute_result"
    }
   ],
   "source": [
    "layer[inode]"
   ]
  },
  {
   "cell_type": "code",
   "execution_count": null,
   "metadata": {},
   "outputs": [],
   "source": []
  }
 ],
 "metadata": {
  "kernelspec": {
   "display_name": "master",
   "language": "python",
   "name": "myenv"
  },
  "language_info": {
   "codemirror_mode": {
    "name": "ipython",
    "version": 3
   },
   "file_extension": ".py",
   "mimetype": "text/x-python",
   "name": "python",
   "nbconvert_exporter": "python",
   "pygments_lexer": "ipython3",
   "version": "3.6.4"
  }
 },
 "nbformat": 4,
 "nbformat_minor": 2
}
