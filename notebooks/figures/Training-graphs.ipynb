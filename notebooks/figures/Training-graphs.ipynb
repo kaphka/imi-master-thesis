{
 "cells": [
  {
   "cell_type": "code",
   "execution_count": 8,
   "metadata": {},
   "outputs": [
    {
     "data": {
      "text/plain": [
       "<Figure size 432x288 with 0 Axes>"
      ]
     },
     "metadata": {},
     "output_type": "display_data"
    }
   ],
   "source": [
    "%matplotlib inline\n",
    "import pandas as pd\n",
    "import numpy as np\n",
    "import seaborn as sns\n",
    "import matplotlib.pyplot as plt\n",
    "from pathlib import Path\n",
    "sns.set(style=\"darkgrid\", palette=\"muted\", color_codes=True)\n",
    "sns.despine()"
   ]
  },
  {
   "cell_type": "code",
   "execution_count": 9,
   "metadata": {},
   "outputs": [],
   "source": [
    "def read_run_file(path):\n",
    "    data = pd.read_json(path)\n",
    "    data.columns = ['date', 'iteration', 'value']\n",
    "    #TODO: convert times with time.gmtime(time.time())\n",
    "    return data"
   ]
  },
  {
   "cell_type": "code",
   "execution_count": 10,
   "metadata": {},
   "outputs": [],
   "source": [
    "def exp_average(arr, decay=0.9):\n",
    "    running = arr[0]\n",
    "    avg = np.zeros((len(arr)-1))\n",
    "    for idx, val in enumerate(arr[:-1]):\n",
    "        update = arr[idx+1]\n",
    "        running = decay * running + (1-decay)*update\n",
    "        avg[idx] = running\n",
    "    return avg\n",
    "\n",
    "def plt_training(plt, data, val_data, savefile=None, decay=0.962, color=None,title='', idx=0):\n",
    "    loss = np.array(data['value'])\n",
    "    avg_loss = exp_average(loss, decay)    \n",
    "    if color is None:\n",
    "        c = sns.color_palette()[idx]\n",
    "    else:\n",
    "        c = color\n",
    "    \n",
    "    scale = 100\n",
    "    fig = plt.figure(0)\n",
    "    plt.plot(data['iteration'],loss * scale,color=c + (0.2,) )\n",
    "    plt.xlim([0,max(data['iteration'])])\n",
    "    plt.ylim([0,max(loss)*scale])\n",
    "    plt.plot(data['iteration'][:-1], avg_loss * scale,color=c, label='Trainingsset')\n",
    "    plt.plot(val_data['iteration'], val_data['value'] * scale,color=sns.color_palette()[idx+1],label='Validierungset')\n",
    "    plt.xlabel('Iteration')\n",
    "    plt.ylabel('Fehler in %')\n",
    "    plt.legend()\n",
    "    plt.title(title)\n",
    "    if savefile is not None:\n",
    "        plt.savefig(savefile)\n",
    "    return plt"
   ]
  },
  {
   "cell_type": "code",
   "execution_count": 22,
   "metadata": {},
   "outputs": [
    {
     "data": {
      "text/plain": [
       "PosixPath('../../doc/figures/plot/run_ChenNet_MNIST_log_ChenNet4_4_01522892733-tag-training_error.pdf')"
      ]
     },
     "execution_count": 22,
     "metadata": {},
     "output_type": "execute_result"
    }
   ],
   "source": [
    "plot_folder = Path('../../doc/figures/plot')\n",
    "plot_folder.mkdir(exist_ok=True)\n",
    "result_folder = Path('../../doc/results/')\n",
    "\n",
    "data_files = run_file_paths(result_folder, run)\n",
    "plot_file = plot_folder / (data_files[0].stem + '.pdf')\n",
    "plot_file"
   ]
  },
  {
   "cell_type": "code",
   "execution_count": 19,
   "metadata": {},
   "outputs": [
    {
     "data": {
      "text/plain": [
       "'01522892733'"
      ]
     },
     "execution_count": 19,
     "metadata": {},
     "output_type": "execute_result"
    }
   ],
   "source": []
  },
  {
   "cell_type": "code",
   "execution_count": 20,
   "metadata": {},
   "outputs": [
    {
     "ename": "NameError",
     "evalue": "name 'plot_file' is not defined",
     "output_type": "error",
     "traceback": [
      "\u001b[0;31m---------------------------------------------------------------------------\u001b[0m",
      "\u001b[0;31mNameError\u001b[0m                                 Traceback (most recent call last)",
      "\u001b[0;32m<ipython-input-20-9f6cb94cb3ab>\u001b[0m in \u001b[0;36m<module>\u001b[0;34m()\u001b[0m\n\u001b[1;32m      3\u001b[0m \u001b[0;32mfor\u001b[0m \u001b[0midx\u001b[0m\u001b[0;34m,\u001b[0m \u001b[0mrun\u001b[0m \u001b[0;32min\u001b[0m \u001b[0menumerate\u001b[0m\u001b[0;34m(\u001b[0m\u001b[0;34m[\u001b[0m\u001b[0mrun_mnist\u001b[0m\u001b[0;34m,\u001b[0m \u001b[0mrun_diva\u001b[0m\u001b[0;34m]\u001b[0m\u001b[0;34m)\u001b[0m\u001b[0;34m:\u001b[0m\u001b[0;34m\u001b[0m\u001b[0m\n\u001b[1;32m      4\u001b[0m     \u001b[0mtrain\u001b[0m\u001b[0;34m,\u001b[0m \u001b[0mval\u001b[0m \u001b[0;34m=\u001b[0m \u001b[0mlist\u001b[0m\u001b[0;34m(\u001b[0m\u001b[0mmap\u001b[0m\u001b[0;34m(\u001b[0m\u001b[0mread_run_file\u001b[0m\u001b[0;34m,\u001b[0m\u001b[0mrun_file_paths\u001b[0m\u001b[0;34m(\u001b[0m\u001b[0mresult_folder\u001b[0m\u001b[0;34m,\u001b[0m \u001b[0mrun\u001b[0m\u001b[0;34m)\u001b[0m\u001b[0;34m)\u001b[0m\u001b[0;34m)\u001b[0m\u001b[0;34m\u001b[0m\u001b[0m\n\u001b[0;32m----> 5\u001b[0;31m     \u001b[0mplt_training\u001b[0m\u001b[0;34m(\u001b[0m\u001b[0mplt\u001b[0m\u001b[0;34m,\u001b[0m\u001b[0mtrain\u001b[0m\u001b[0;34m,\u001b[0m \u001b[0mval\u001b[0m\u001b[0;34m,\u001b[0m\u001b[0mplot_file\u001b[0m\u001b[0;34m,\u001b[0m \u001b[0midx\u001b[0m\u001b[0;34m=\u001b[0m\u001b[0midx\u001b[0m\u001b[0;34m*\u001b[0m\u001b[0;36m2\u001b[0m\u001b[0;34m)\u001b[0m\u001b[0;34m\u001b[0m\u001b[0m\n\u001b[0m",
      "\u001b[0;31mNameError\u001b[0m: name 'plot_file' is not defined"
     ]
    }
   ],
   "source": [
    "def run_file_paths(path, run):\n",
    "    results = path / run['name']\n",
    "    data_files = sorted(results.glob('*{}*'.format(run['id'])))\n",
    "    return list(map(Path, data_files))\n",
    "\n",
    "run_mnist = {'name': 'MNIST', 'id': '01522892733'}\n",
    "run_diva = { 'name': 'DIVA', 'id': '01522891722'}\n",
    "\n",
    "\n",
    "\n",
    "for idx, run in enumerate([run_mnist, run_diva]):\n",
    "    train, val = list(map(read_run_file,run_file_paths(result_folder, run)))\n",
    "    plt_training(plt,train, val,plot_file, idx=idx*2)"
   ]
  },
  {
   "cell_type": "code",
   "execution_count": null,
   "metadata": {},
   "outputs": [],
   "source": []
  }
 ],
 "metadata": {
  "kernelspec": {
   "display_name": "Python 3",
   "language": "python",
   "name": "python3"
  },
  "language_info": {
   "codemirror_mode": {
    "name": "ipython",
    "version": 3
   },
   "file_extension": ".py",
   "mimetype": "text/x-python",
   "name": "python",
   "nbconvert_exporter": "python",
   "pygments_lexer": "ipython3",
   "version": "3.6.4"
  }
 },
 "nbformat": 4,
 "nbformat_minor": 2
}
