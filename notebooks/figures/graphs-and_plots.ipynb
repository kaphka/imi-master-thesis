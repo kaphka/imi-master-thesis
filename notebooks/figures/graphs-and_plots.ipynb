{
 "cells": [
  {
   "cell_type": "code",
   "execution_count": 1,
   "metadata": {},
   "outputs": [
    {
     "data": {
      "text/plain": [
       "<matplotlib.figure.Figure at 0x105ac6cc0>"
      ]
     },
     "metadata": {},
     "output_type": "display_data"
    }
   ],
   "source": [
    "%matplotlib inline\n",
    "import pandas as pd\n",
    "import numpy as np\n",
    "import seaborn as sns\n",
    "import matplotlib.pyplot as plt\n",
    "from pathlib import Path\n",
    "sns.set(style=\"darkgrid\", palette=\"muted\", color_codes=True)\n",
    "sns.despine()"
   ]
  },
  {
   "cell_type": "code",
   "execution_count": 2,
   "metadata": {},
   "outputs": [],
   "source": [
    "import torch as t"
   ]
  },
  {
   "cell_type": "code",
   "execution_count": 34,
   "metadata": {},
   "outputs": [],
   "source": [
    "plot_folder = Path('../../doc/figures/plot')"
   ]
  },
  {
   "cell_type": "code",
   "execution_count": 6,
   "metadata": {},
   "outputs": [],
   "source": [
    "x = t.autograd.Variable(t.arange(-5,5,0.1))"
   ]
  },
  {
   "cell_type": "code",
   "execution_count": 35,
   "metadata": {},
   "outputs": [
    {
     "data": {
      "image/png": "[encoded data removed]",
      "text/plain": [
       "<matplotlib.figure.Figure at 0x11c0c88d0>"
      ]
     },
     "metadata": {},
     "output_type": "display_data"
    }
   ],
   "source": [
    "plt.figure(figsize=(12,4.2))\n",
    "plt.plot(x.data.numpy(), t.nn.functional.relu(x).data.numpy(), label='ReLU')\n",
    "plt.plot(x.data.numpy(), t.nn.functional.sigmoid(x).data.numpy(), label='Sigmoid')\n",
    "plt.xlim([-5,5])\n",
    "plt.ylim([-2,2])\n",
    "plt.yticks(np.arange(-2,2.1))\n",
    "plt.xticks(np.arange(-5,5.1))\n",
    "plt.legend(loc=4)\n",
    "plt.savefig(str(plot_folder / 'relu_sigmoid.pdf'))"
   ]
  },
  {
   "cell_type": "code",
   "execution_count": 13,
   "metadata": {},
   "outputs": [
    {
     "data": {
      "text/plain": [
       "array([-5.        , -4.9000001 , -4.80000019, -4.69999981, -4.5999999 ,\n",
       "       -4.5       , -4.4000001 , -4.30000019, -4.19999981, -4.0999999 ,\n",
       "       -4.        , -3.9000001 , -3.79999995, -3.70000005, -3.5999999 ,\n",
       "       -3.5       , -3.4000001 , -3.29999995, -3.20000005, -3.0999999 ,\n",
       "       -3.        , -2.9000001 , -2.79999995, -2.70000005, -2.5999999 ,\n",
       "       -2.5       , -2.4000001 , -2.29999995, -2.20000005, -2.0999999 ,\n",
       "       -2.        , -1.89999998, -1.79999995, -1.70000005, -1.60000002,\n",
       "       -1.5       , -1.39999998, -1.29999995, -1.20000005, -1.10000002,\n",
       "       -1.        , -0.89999998, -0.80000001, -0.69999999, -0.60000002,\n",
       "       -0.5       , -0.40000001, -0.30000001, -0.2       , -0.1       ,\n",
       "        0.        ,  0.1       ,  0.2       ,  0.30000001,  0.40000001,\n",
       "        0.5       ,  0.60000002,  0.69999999,  0.80000001,  0.89999998,\n",
       "        1.        ,  1.10000002,  1.20000005,  1.29999995,  1.39999998,\n",
       "        1.5       ,  1.60000002,  1.70000005,  1.79999995,  1.89999998,\n",
       "        2.        ,  2.0999999 ,  2.20000005,  2.29999995,  2.4000001 ,\n",
       "        2.5       ,  2.5999999 ,  2.70000005,  2.79999995,  2.9000001 ,\n",
       "        3.        ,  3.0999999 ,  3.20000005,  3.29999995,  3.4000001 ,\n",
       "        3.5       ,  3.5999999 ,  3.70000005,  3.79999995,  3.9000001 ,\n",
       "        4.        ,  4.0999999 ,  4.19999981,  4.30000019,  4.4000001 ,\n",
       "        4.5       ,  4.5999999 ,  4.69999981,  4.80000019,  4.9000001 ,  5.        ], dtype=float32)"
      ]
     },
     "execution_count": 13,
     "metadata": {},
     "output_type": "execute_result"
    }
   ],
   "source": []
  },
  {
   "cell_type": "code",
   "execution_count": 15,
   "metadata": {},
   "outputs": [
    {
     "data": {
      "text/plain": [
       "array([ 0.        ,  0.        ,  0.        ,  0.        ,  0.        ,\n",
       "        0.        ,  0.        ,  0.        ,  0.        ,  0.        ,\n",
       "        0.        ,  0.        ,  0.        ,  0.        ,  0.        ,\n",
       "        0.        ,  0.        ,  0.        ,  0.        ,  0.        ,\n",
       "        0.        ,  0.        ,  0.        ,  0.        ,  0.        ,\n",
       "        0.        ,  0.        ,  0.        ,  0.        ,  0.        ,\n",
       "        0.        ,  0.        ,  0.        ,  0.        ,  0.        ,\n",
       "        0.        ,  0.        ,  0.        ,  0.        ,  0.        ,\n",
       "        0.        ,  0.        ,  0.        ,  0.        ,  0.        ,\n",
       "        0.        ,  0.        ,  0.        ,  0.        ,  0.        ,\n",
       "        0.        ,  0.1       ,  0.2       ,  0.30000001,  0.40000001,\n",
       "        0.5       ,  0.60000002,  0.69999999,  0.80000001,  0.89999998,\n",
       "        1.        ,  1.10000002,  1.20000005,  1.29999995,  1.39999998,\n",
       "        1.5       ,  1.60000002,  1.70000005,  1.79999995,  1.89999998,\n",
       "        2.        ,  2.0999999 ,  2.20000005,  2.29999995,  2.4000001 ,\n",
       "        2.5       ,  2.5999999 ,  2.70000005,  2.79999995,  2.9000001 ,\n",
       "        3.        ,  3.0999999 ,  3.20000005,  3.29999995,  3.4000001 ,\n",
       "        3.5       ,  3.5999999 ,  3.70000005,  3.79999995,  3.9000001 ,\n",
       "        4.        ,  4.0999999 ,  4.19999981,  4.30000019,  4.4000001 ,\n",
       "        4.5       ,  4.5999999 ,  4.69999981,  4.80000019,  4.9000001 ,  5.        ], dtype=float32)"
      ]
     },
     "execution_count": 15,
     "metadata": {},
     "output_type": "execute_result"
    }
   ],
   "source": [
    "t.nn.functional.relu(x).data.numpy()"
   ]
  },
  {
   "cell_type": "code",
   "execution_count": null,
   "metadata": {},
   "outputs": [],
   "source": []
  }
 ],
 "metadata": {
  "kernelspec": {
   "display_name": "Python 3",
   "language": "python",
   "name": "python3"
  },
  "language_info": {
   "codemirror_mode": {
    "name": "ipython",
    "version": 3
   },
   "file_extension": ".py",
   "mimetype": "text/x-python",
   "name": "python",
   "nbconvert_exporter": "python",
   "pygments_lexer": "ipython3",
   "version": "3.5.1"
  }
 },
 "nbformat": 4,
 "nbformat_minor": 2
}
