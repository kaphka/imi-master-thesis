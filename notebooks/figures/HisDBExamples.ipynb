{
 "cells": [
  {
   "cell_type": "code",
   "execution_count": 21,
   "metadata": {},
   "outputs": [
    {
     "name": "stdout",
     "output_type": "stream",
     "text": [
      "The autoreload extension is already loaded. To reload it, use:\n",
      "  %reload_ext autoreload\n"
     ]
    }
   ],
   "source": [
    "%load_ext autoreload\n",
    "%autoreload 2\n",
    "\n",
    "import json\n",
    "import os\n",
    "from pathlib import Path\n",
    "\n",
    "config = json.load(open(os.path.expanduser(\"~/.thesis.conf\")))\n",
    "db_folder = Path(config['datasets']) / 'hisdb'\n",
    "modules   = Path(config['project']) / 'src'\n",
    "figures   = Path(config['project']) / 'doc' / 'figures'\n",
    "import sys\n",
    "sys.path.append(str(modules))"
   ]
  },
  {
   "cell_type": "code",
   "execution_count": 5,
   "metadata": {},
   "outputs": [],
   "source": [
    "from datasets.divahisdb import HisDBDataset"
   ]
  },
  {
   "cell_type": "code",
   "execution_count": 37,
   "metadata": {},
   "outputs": [],
   "source": [
    "dataset = HisDBDataset(db_folder)\n",
    "samples = [dataset[2], dataset[22], dataset[42]]"
   ]
  },
  {
   "cell_type": "code",
   "execution_count": 36,
   "metadata": {},
   "outputs": [
    {
     "name": "stdout",
     "output_type": "stream",
     "text": [
      "/home/jakob/htw/imi-master-thesis/doc/figures/datasets/HisDBSample0.jpeg /home/jakob/htw/imi-master-thesis/doc/figures/datasets/HisDBSampleBox0.jpeg\n",
      "/home/jakob/htw/imi-master-thesis/doc/figures/datasets/HisDBSample1.jpeg /home/jakob/htw/imi-master-thesis/doc/figures/datasets/HisDBSampleBox1.jpeg\n",
      "/home/jakob/htw/imi-master-thesis/doc/figures/datasets/HisDBSample2.jpeg /home/jakob/htw/imi-master-thesis/doc/figures/datasets/HisDBSampleBox2.jpeg\n"
     ]
    }
   ],
   "source": [
    "scale = 0.2\n",
    "xpos, ypos, size = 600,1200, 600 \n",
    "box = (xpos,ypos,xpos+size,ypos+size)\n",
    "for idx, img in enumerate(samples):\n",
    "    fig = img.resize((int(img.width * scale), int(img.height * scale)))\n",
    "    name = figures / 'datasets' / ('HisDBSample' + str(idx) + '.jpeg')\n",
    "    cropped = figures / 'datasets' / ('HisDBSampleBox' + str(idx) + '.jpeg')\n",
    "    fig.save(name.open('wb'))\n",
    "    img.crop(box).save(cropped.open('wb'))\n",
    "    print(name, cropped)"
   ]
  },
  {
   "cell_type": "code",
   "execution_count": null,
   "metadata": {},
   "outputs": [],
   "source": []
  }
 ],
 "metadata": {
  "kernelspec": {
   "display_name": "Python 3",
   "language": "python",
   "name": "python3"
  },
  "language_info": {
   "codemirror_mode": {
    "name": "ipython",
    "version": 3
   },
   "file_extension": ".py",
   "mimetype": "text/x-python",
   "name": "python",
   "nbconvert_exporter": "python",
   "pygments_lexer": "ipython3",
   "version": "3.6.4"
  }
 },
 "nbformat": 4,
 "nbformat_minor": 2
}
