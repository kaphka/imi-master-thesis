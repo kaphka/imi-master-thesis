{
 "cells": [
  {
   "cell_type": "code",
   "execution_count": 3,
   "metadata": {},
   "outputs": [
    {
     "name": "stdout",
     "output_type": "stream",
     "text": [
      "The autoreload extension is already loaded. To reload it, use:\n",
      "  %reload_ext autoreload\n"
     ]
    }
   ],
   "source": [
    "%load_ext autoreload\n",
    "%autoreload 2\n",
    "import sys\n",
    "sys.path.append('../../src/')"
   ]
  },
  {
   "cell_type": "code",
   "execution_count": 6,
   "metadata": {},
   "outputs": [],
   "source": [
    "import json\n",
    "import os\n",
    "from pathlib import Path"
   ]
  },
  {
   "cell_type": "markdown",
   "metadata": {},
   "source": [
    "## HisDB"
   ]
  },
  {
   "cell_type": "code",
   "execution_count": 77,
   "metadata": {},
   "outputs": [],
   "source": [
    "import experiment.data as exp\n",
    "import datasets.divahisdb as hisdb\n",
    "env = exp.Environment()\n",
    "img_path = Path('../../doc/figures/img/')"
   ]
  },
  {
   "cell_type": "code",
   "execution_count": 18,
   "metadata": {},
   "outputs": [],
   "source": [
    "dataset = hisdb.HisDBDataset(env.dataset(exp.Datasets.diva.value))\n",
    "samples = [dataset[2], dataset[22], dataset[42]]"
   ]
  },
  {
   "cell_type": "code",
   "execution_count": 36,
   "metadata": {},
   "outputs": [
    {
     "name": "stdout",
     "output_type": "stream",
     "text": [
      "/home/jakob/htw/imi-master-thesis/doc/figures/datasets/HisDBSample0.jpeg /home/jakob/htw/imi-master-thesis/doc/figures/datasets/HisDBSampleBox0.jpeg\n",
      "/home/jakob/htw/imi-master-thesis/doc/figures/datasets/HisDBSample1.jpeg /home/jakob/htw/imi-master-thesis/doc/figures/datasets/HisDBSampleBox1.jpeg\n",
      "/home/jakob/htw/imi-master-thesis/doc/figures/datasets/HisDBSample2.jpeg /home/jakob/htw/imi-master-thesis/doc/figures/datasets/HisDBSampleBox2.jpeg\n"
     ]
    }
   ],
   "source": [
    "scale = 0.2\n",
    "xpos, ypos, size = 600,1200, 600 \n",
    "box = (xpos,ypos,xpos+size,ypos+size)\n",
    "for idx, img in enumerate(samples):\n",
    "    fig = img.resize((int(img.width * scale), int(img.height * scale)))\n",
    "    name = figures / 'datasets' / ('HisDBSample' + str(idx) + '.jpeg')\n",
    "    cropped = figures / 'datasets' / ('HisDBSampleBox' + str(idx) + '.jpeg')\n",
    "    fig.save(name.open('wb'))\n",
    "    img.crop(box).save(cropped.open('wb'))\n",
    "    print(name, cropped)"
   ]
  },
  {
   "cell_type": "markdown",
   "metadata": {},
   "source": [
    "## HisDB Processed"
   ]
  },
  {
   "cell_type": "code",
   "execution_count": 80,
   "metadata": {},
   "outputs": [],
   "source": [
    "%matplotlib inline\n",
    "from PIL import Image\n",
    "import matplotlib.pyplot as plt\n",
    "import skimage.io\n",
    "import skimage.segmentation as seg\n",
    "from skimage.util import img_as_float, img_as_ubyte"
   ]
  },
  {
   "cell_type": "code",
   "execution_count": 81,
   "metadata": {},
   "outputs": [],
   "source": [
    "import numpy as np"
   ]
  },
  {
   "cell_type": "code",
   "execution_count": 82,
   "metadata": {},
   "outputs": [],
   "source": [
    "split = hisdb.Splits.training.value\n",
    "dataset = Processed(env.dataset(exp.Datasets.processd.value), split=split, load=['img', 'slic', 'tiles', 'y', 'meta'])"
   ]
  },
  {
   "cell_type": "code",
   "execution_count": 83,
   "metadata": {},
   "outputs": [],
   "source": [
    "i = 0\n",
    "img, slic, tiles, y, meta = dataset[i]"
   ]
  },
  {
   "cell_type": "code",
   "execution_count": 84,
   "metadata": {},
   "outputs": [
    {
     "name": "stderr",
     "output_type": "stream",
     "text": [
      "/home/jakob/miniconda3/envs/master/lib/python3.6/site-packages/skimage/util/dtype.py:122: UserWarning: Possible precision loss when converting from float64 to uint8\n",
      "  .format(dtypeobj_in, dtypeobj_out))\n"
     ]
    }
   ],
   "source": [
    "marked = Image.fromarray(img_as_ubyte(np.array(seg.mark_boundaries(img, slic,color=(1,0,0)))))\n",
    "p = 300\n",
    "box = (p,p,p+500,p+500)\n",
    "marked.crop(box=box).save(img_path / 'mark_boundaries.jpg')\n",
    "# !pwd"
   ]
  },
  {
   "cell_type": "code",
   "execution_count": 85,
   "metadata": {},
   "outputs": [
    {
     "data": {
      "text/plain": [
       "<matplotlib.image.AxesImage at 0x7fe7a15918d0>"
      ]
     },
     "execution_count": 85,
     "metadata": {},
     "output_type": "execute_result"
    },
    {
     "data": {
      "image/png": "[encoded data removed]",
      "text/plain": [
       "<Figure size 432x288 with 1 Axes>"
      ]
     },
     "metadata": {},
     "output_type": "display_data"
    }
   ],
   "source": [
    "plt.imshow(slic,cmap='flag')"
   ]
  },
  {
   "cell_type": "code",
   "execution_count": 86,
   "metadata": {},
   "outputs": [],
   "source": [
    "colored = np.zeros(slic.shape,dtype=np.int)\n",
    "for idx in range(len(y)):\n",
    "    tile_id = slic[meta[idx][0],meta[idx][1]]\n",
    "    gt = y[idx]\n",
    "    colored[np.where(slic == tile_id)] = hisdb.LABEL_DICT[gt]"
   ]
  },
  {
   "cell_type": "code",
   "execution_count": 87,
   "metadata": {},
   "outputs": [
    {
     "data": {
      "image/png": "[encoded data removed]",
      "text/plain": [
       "<PIL.Image.Image image mode=RGB size=500x500 at 0x7FE7A1811D30>"
      ]
     },
     "execution_count": 87,
     "metadata": {},
     "output_type": "execute_result"
    }
   ],
   "source": [
    "col_img = Image.fromarray(hisdb.color_gt(colored)).crop(box)\n",
    "col_img.save(img_path/'colored_slic.jpg')\n",
    "col_img"
   ]
  },
  {
   "cell_type": "code",
   "execution_count": null,
   "metadata": {},
   "outputs": [],
   "source": []
  }
 ],
 "metadata": {
  "kernelspec": {
   "display_name": "Python 3",
   "language": "python",
   "name": "python3"
  },
  "language_info": {
   "codemirror_mode": {
    "name": "ipython",
    "version": 3
   },
   "file_extension": ".py",
   "mimetype": "text/x-python",
   "name": "python",
   "nbconvert_exporter": "python",
   "pygments_lexer": "ipython3",
   "version": "3.6.4"
  }
 },
 "nbformat": 4,
 "nbformat_minor": 2
}
