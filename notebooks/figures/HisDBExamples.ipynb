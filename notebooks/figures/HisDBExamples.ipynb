{
 "cells": [
  {
   "cell_type": "code",
   "execution_count": 21,
   "metadata": {},
   "outputs": [
    {
     "name": "stdout",
     "output_type": "stream",
     "text": [
      "The autoreload extension is already loaded. To reload it, use:\n",
      "  %reload_ext autoreload\n"
     ]
    }
   ],
   "source": [
    "%load_ext autoreload\n",
    "%autoreload 2\n",
    "\n",
    "import json\n",
    "import os\n",
    "from pathlib import Path\n",
    "\n",
    "config = json.load(open(os.path.expanduser(\"~/.thesis.conf\")))\n",
    "db_folder = Path(config['datasets']) / 'hisdb'\n",
    "modules   = Path(config['project']) / 'src'\n",
    "figures   = Path(config['project']) / 'doc' / 'figures'\n",
    "import sys\n",
    "sys.path.append(str(modules))"
   ]
  },
  {
   "cell_type": "code",
   "execution_count": 5,
   "metadata": {},
   "outputs": [],
   "source": [
    "from datasets.divahisdb import HisDBDataset"
   ]
  },
  {
   "cell_type": "code",
   "execution_count": 34,
   "metadata": {},
   "outputs": [
    {
     "data": {
      "text/plain": [
       "['/media/jakob/bigdata/datasets/hisdb/CB55/img/training/e-codices_fmb-cb-0055_0084r_max.jpg',\n",
       " '/media/jakob/bigdata/datasets/hisdb/CB55/img/training/e-codices_fmb-cb-0055_0058v_max.jpg',\n",
       " '/media/jakob/bigdata/datasets/hisdb/CB55/img/training/e-codices_fmb-cb-0055_0059v_max.jpg',\n",
       " '/media/jakob/bigdata/datasets/hisdb/CB55/img/training/e-codices_fmb-cb-0055_0008v_max.jpg',\n",
       " '/media/jakob/bigdata/datasets/hisdb/CB55/img/training/e-codices_fmb-cb-0055_0011r_max.jpg',\n",
       " '/media/jakob/bigdata/datasets/hisdb/CB55/img/training/e-codices_fmb-cb-0055_0072v_max.jpg',\n",
       " '/media/jakob/bigdata/datasets/hisdb/CB55/img/training/e-codices_fmb-cb-0055_0087r_max.jpg',\n",
       " '/media/jakob/bigdata/datasets/hisdb/CB55/img/training/e-codices_fmb-cb-0055_0067v_max.jpg',\n",
       " '/media/jakob/bigdata/datasets/hisdb/CB55/img/training/e-codices_fmb-cb-0055_0044r_max.jpg',\n",
       " '/media/jakob/bigdata/datasets/hisdb/CB55/img/training/e-codices_fmb-cb-0055_0031v_max.jpg',\n",
       " '/media/jakob/bigdata/datasets/hisdb/CB55/img/training/e-codices_fmb-cb-0055_0005v_max.jpg',\n",
       " '/media/jakob/bigdata/datasets/hisdb/CB55/img/training/e-codices_fmb-cb-0055_0059r_max.jpg',\n",
       " '/media/jakob/bigdata/datasets/hisdb/CB55/img/training/e-codices_fmb-cb-0055_0025r_max.jpg',\n",
       " '/media/jakob/bigdata/datasets/hisdb/CB55/img/training/e-codices_fmb-cb-0055_0011v_max.jpg',\n",
       " '/media/jakob/bigdata/datasets/hisdb/CB55/img/training/e-codices_fmb-cb-0055_0027v_max.jpg',\n",
       " '/media/jakob/bigdata/datasets/hisdb/CB55/img/training/e-codices_fmb-cb-0055_0043v_max.jpg',\n",
       " '/media/jakob/bigdata/datasets/hisdb/CB55/img/training/e-codices_fmb-cb-0055_0060r_max.jpg',\n",
       " '/media/jakob/bigdata/datasets/hisdb/CB55/img/training/e-codices_fmb-cb-0055_0073v_max.jpg',\n",
       " '/media/jakob/bigdata/datasets/hisdb/CB55/img/training/e-codices_fmb-cb-0055_0026v_max.jpg',\n",
       " '/media/jakob/bigdata/datasets/hisdb/CB55/img/training/e-codices_fmb-cb-0055_0074v_max.jpg',\n",
       " '/media/jakob/bigdata/datasets/hisdb/CS863/img/training/e-codices_csg-0863_263_max.jpg',\n",
       " '/media/jakob/bigdata/datasets/hisdb/CS863/img/training/e-codices_csg-0863_252_max.jpg',\n",
       " '/media/jakob/bigdata/datasets/hisdb/CS863/img/training/e-codices_csg-0863_153_max.jpg',\n",
       " '/media/jakob/bigdata/datasets/hisdb/CS863/img/training/e-codices_csg-0863_257_max.jpg',\n",
       " '/media/jakob/bigdata/datasets/hisdb/CS863/img/training/e-codices_csg-0863_262_max.jpg',\n",
       " '/media/jakob/bigdata/datasets/hisdb/CS863/img/training/e-codices_csg-0863_010_max.jpg',\n",
       " '/media/jakob/bigdata/datasets/hisdb/CS863/img/training/e-codices_csg-0863_155_max.jpg',\n",
       " '/media/jakob/bigdata/datasets/hisdb/CS863/img/training/e-codices_csg-0863_225_max.jpg',\n",
       " '/media/jakob/bigdata/datasets/hisdb/CS863/img/training/e-codices_csg-0863_241_max.jpg',\n",
       " '/media/jakob/bigdata/datasets/hisdb/CS863/img/training/e-codices_csg-0863_011_max.jpg',\n",
       " '/media/jakob/bigdata/datasets/hisdb/CS863/img/training/e-codices_csg-0863_261_max.jpg',\n",
       " '/media/jakob/bigdata/datasets/hisdb/CS863/img/training/e-codices_csg-0863_212_max.jpg',\n",
       " '/media/jakob/bigdata/datasets/hisdb/CS863/img/training/e-codices_csg-0863_250_max.jpg',\n",
       " '/media/jakob/bigdata/datasets/hisdb/CS863/img/training/e-codices_csg-0863_186_max.jpg',\n",
       " '/media/jakob/bigdata/datasets/hisdb/CS863/img/training/e-codices_csg-0863_260_max.jpg',\n",
       " '/media/jakob/bigdata/datasets/hisdb/CS863/img/training/e-codices_csg-0863_012_max.jpg',\n",
       " '/media/jakob/bigdata/datasets/hisdb/CS863/img/training/e-codices_csg-0863_265_max.jpg',\n",
       " '/media/jakob/bigdata/datasets/hisdb/CS863/img/training/e-codices_csg-0863_184_max.jpg',\n",
       " '/media/jakob/bigdata/datasets/hisdb/CS863/img/training/e-codices_csg-0863_154_max.jpg',\n",
       " '/media/jakob/bigdata/datasets/hisdb/CS863/img/training/e-codices_csg-0863_009_max.jpg',\n",
       " '/media/jakob/bigdata/datasets/hisdb/CS18/img/training/e-codices_csg-0018_149_max.jpg',\n",
       " '/media/jakob/bigdata/datasets/hisdb/CS18/img/training/e-codices_csg-0018_150_max.jpg',\n",
       " '/media/jakob/bigdata/datasets/hisdb/CS18/img/training/e-codices_csg-0018_153_max.jpg',\n",
       " '/media/jakob/bigdata/datasets/hisdb/CS18/img/training/e-codices_csg-0018_097_max.jpg',\n",
       " '/media/jakob/bigdata/datasets/hisdb/CS18/img/training/e-codices_csg-0018_105_max.jpg',\n",
       " '/media/jakob/bigdata/datasets/hisdb/CS18/img/training/e-codices_csg-0018_118_max.jpg',\n",
       " '/media/jakob/bigdata/datasets/hisdb/CS18/img/training/e-codices_csg-0018_099_max.jpg',\n",
       " '/media/jakob/bigdata/datasets/hisdb/CS18/img/training/e-codices_csg-0018_051_max.jpg',\n",
       " '/media/jakob/bigdata/datasets/hisdb/CS18/img/training/e-codices_csg-0018_108_max.jpg',\n",
       " '/media/jakob/bigdata/datasets/hisdb/CS18/img/training/e-codices_csg-0018_117_max.jpg',\n",
       " '/media/jakob/bigdata/datasets/hisdb/CS18/img/training/e-codices_csg-0018_104_max.jpg',\n",
       " '/media/jakob/bigdata/datasets/hisdb/CS18/img/training/e-codices_csg-0018_152_max.jpg',\n",
       " '/media/jakob/bigdata/datasets/hisdb/CS18/img/training/e-codices_csg-0018_119_max.jpg',\n",
       " '/media/jakob/bigdata/datasets/hisdb/CS18/img/training/e-codices_csg-0018_116_max.jpg',\n",
       " '/media/jakob/bigdata/datasets/hisdb/CS18/img/training/e-codices_csg-0018_115_max.jpg',\n",
       " '/media/jakob/bigdata/datasets/hisdb/CS18/img/training/e-codices_csg-0018_156_max.jpg',\n",
       " '/media/jakob/bigdata/datasets/hisdb/CS18/img/training/e-codices_csg-0018_050_max.jpg',\n",
       " '/media/jakob/bigdata/datasets/hisdb/CS18/img/training/e-codices_csg-0018_154_max.jpg',\n",
       " '/media/jakob/bigdata/datasets/hisdb/CS18/img/training/e-codices_csg-0018_155_max.jpg',\n",
       " '/media/jakob/bigdata/datasets/hisdb/CS18/img/training/e-codices_csg-0018_057_max.jpg']"
      ]
     },
     "execution_count": 34,
     "metadata": {},
     "output_type": "execute_result"
    }
   ],
   "source": [
    "dataset = HisDBDataset(db_folder)\n",
    "samples = [dataset[2], dataset[22], dataset[42]]\n",
    "dataset.paths"
   ]
  },
  {
   "cell_type": "code",
   "execution_count": 36,
   "metadata": {},
   "outputs": [
    {
     "name": "stdout",
     "output_type": "stream",
     "text": [
      "/home/jakob/htw/imi-master-thesis/doc/figures/datasets/HisDBSample0.jpeg /home/jakob/htw/imi-master-thesis/doc/figures/datasets/HisDBSampleBox0.jpeg\n",
      "/home/jakob/htw/imi-master-thesis/doc/figures/datasets/HisDBSample1.jpeg /home/jakob/htw/imi-master-thesis/doc/figures/datasets/HisDBSampleBox1.jpeg\n",
      "/home/jakob/htw/imi-master-thesis/doc/figures/datasets/HisDBSample2.jpeg /home/jakob/htw/imi-master-thesis/doc/figures/datasets/HisDBSampleBox2.jpeg\n"
     ]
    }
   ],
   "source": [
    "scale = 0.2\n",
    "xpos, ypos, size = 600,1200, 600 \n",
    "box = (xpos,ypos,xpos+size,ypos+size)\n",
    "for idx, img in enumerate(samples):\n",
    "    fig = img.resize((int(img.width * scale), int(img.height * scale)))\n",
    "    name = figures / 'datasets' / ('HisDBSample' + str(idx) + '.jpeg')\n",
    "    cropped = figures / 'datasets' / ('HisDBSampleBox' + str(idx) + '.jpeg')\n",
    "    fig.save(name.open('wb'))\n",
    "    img.crop(box).save(cropped.open('wb'))\n",
    "    print(name, cropped)"
   ]
  },
  {
   "cell_type": "code",
   "execution_count": null,
   "metadata": {},
   "outputs": [],
   "source": []
  }
 ],
 "metadata": {
  "kernelspec": {
   "display_name": "Python 3",
   "language": "python",
   "name": "python3"
  },
  "language_info": {
   "codemirror_mode": {
    "name": "ipython",
    "version": 3
   },
   "file_extension": ".py",
   "mimetype": "text/x-python",
   "name": "python",
   "nbconvert_exporter": "python",
   "pygments_lexer": "ipython3",
   "version": "3.6.4"
  }
 },
 "nbformat": 4,
 "nbformat_minor": 2
}
